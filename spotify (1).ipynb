{
 "cells": [
  {
   "cell_type": "code",
   "execution_count": 1,
   "id": "a7b1915a-669a-4b6a-9a36-31e7cd0b3975",
   "metadata": {},
   "outputs": [],
   "source": [
    "import pandas as pd\n",
    "import numpy as np\n",
    "import seaborn as sns\n",
    "import matplotlib.pyplot as plt\n",
    "import plotly.graph_objects as go\n",
    "import warnings\n",
    "warnings.filterwarnings('ignore')\n",
    "\n"
   ]
  },
  {
   "cell_type": "code",
   "execution_count": 2,
   "id": "ca1e442c-6f75-4b3e-9137-9406c27e1477",
   "metadata": {},
   "outputs": [],
   "source": [
    "data = pd.read_csv('/Users/semihrahmet/Desktop/VeriSetleri/SpotifyFeatures.csv')"
   ]
  },
  {
   "cell_type": "code",
   "execution_count": 3,
   "id": "8a2d7cd7-4cd9-46e3-8006-2b2d581fff5a",
   "metadata": {},
   "outputs": [],
   "source": [
    "df = data.copy()"
   ]
  },
  {
   "cell_type": "code",
   "execution_count": 4,
   "id": "641b78f7-0e9c-44d5-a91b-0a29ebab02a8",
   "metadata": {},
   "outputs": [
    {
     "data": {
      "text/html": [
       "<div>\n",
       "<style scoped>\n",
       "    .dataframe tbody tr th:only-of-type {\n",
       "        vertical-align: middle;\n",
       "    }\n",
       "\n",
       "    .dataframe tbody tr th {\n",
       "        vertical-align: top;\n",
       "    }\n",
       "\n",
       "    .dataframe thead th {\n",
       "        text-align: right;\n",
       "    }\n",
       "</style>\n",
       "<table border=\"1\" class=\"dataframe\">\n",
       "  <thead>\n",
       "    <tr style=\"text-align: right;\">\n",
       "      <th></th>\n",
       "      <th>artist_name</th>\n",
       "      <th>track_id</th>\n",
       "      <th>track_name</th>\n",
       "      <th>acousticness</th>\n",
       "      <th>danceability</th>\n",
       "      <th>duration_ms</th>\n",
       "      <th>energy</th>\n",
       "      <th>instrumentalness</th>\n",
       "      <th>key</th>\n",
       "      <th>liveness</th>\n",
       "      <th>loudness</th>\n",
       "      <th>mode</th>\n",
       "      <th>speechiness</th>\n",
       "      <th>tempo</th>\n",
       "      <th>time_signature</th>\n",
       "      <th>valence</th>\n",
       "      <th>popularity</th>\n",
       "    </tr>\n",
       "  </thead>\n",
       "  <tbody>\n",
       "    <tr>\n",
       "      <th>0</th>\n",
       "      <td>YG</td>\n",
       "      <td>2RM4jf1Xa9zPgMGRDiht8O</td>\n",
       "      <td>Big Bank feat. 2 Chainz, Big Sean, Nicki Minaj</td>\n",
       "      <td>0.005820</td>\n",
       "      <td>0.743</td>\n",
       "      <td>238373</td>\n",
       "      <td>0.339</td>\n",
       "      <td>0.000</td>\n",
       "      <td>1</td>\n",
       "      <td>0.0812</td>\n",
       "      <td>-7.678</td>\n",
       "      <td>1</td>\n",
       "      <td>0.4090</td>\n",
       "      <td>203.927</td>\n",
       "      <td>4</td>\n",
       "      <td>0.1180</td>\n",
       "      <td>15</td>\n",
       "    </tr>\n",
       "    <tr>\n",
       "      <th>1</th>\n",
       "      <td>YG</td>\n",
       "      <td>1tHDG53xJNGsItRA3vfVgs</td>\n",
       "      <td>BAND DRUM (feat. A$AP Rocky)</td>\n",
       "      <td>0.024400</td>\n",
       "      <td>0.846</td>\n",
       "      <td>214800</td>\n",
       "      <td>0.557</td>\n",
       "      <td>0.000</td>\n",
       "      <td>8</td>\n",
       "      <td>0.2860</td>\n",
       "      <td>-7.259</td>\n",
       "      <td>1</td>\n",
       "      <td>0.4570</td>\n",
       "      <td>159.009</td>\n",
       "      <td>4</td>\n",
       "      <td>0.3710</td>\n",
       "      <td>0</td>\n",
       "    </tr>\n",
       "    <tr>\n",
       "      <th>2</th>\n",
       "      <td>R3HAB</td>\n",
       "      <td>6Wosx2euFPMT14UXiWudMy</td>\n",
       "      <td>Radio Silence</td>\n",
       "      <td>0.025000</td>\n",
       "      <td>0.603</td>\n",
       "      <td>138913</td>\n",
       "      <td>0.723</td>\n",
       "      <td>0.000</td>\n",
       "      <td>9</td>\n",
       "      <td>0.0824</td>\n",
       "      <td>-5.890</td>\n",
       "      <td>0</td>\n",
       "      <td>0.0454</td>\n",
       "      <td>114.966</td>\n",
       "      <td>4</td>\n",
       "      <td>0.3820</td>\n",
       "      <td>56</td>\n",
       "    </tr>\n",
       "    <tr>\n",
       "      <th>3</th>\n",
       "      <td>Chris Cooq</td>\n",
       "      <td>3J2Jpw61sO7l6Hc7qdYV91</td>\n",
       "      <td>Lactose</td>\n",
       "      <td>0.029400</td>\n",
       "      <td>0.800</td>\n",
       "      <td>125381</td>\n",
       "      <td>0.579</td>\n",
       "      <td>0.912</td>\n",
       "      <td>5</td>\n",
       "      <td>0.0994</td>\n",
       "      <td>-12.118</td>\n",
       "      <td>0</td>\n",
       "      <td>0.0701</td>\n",
       "      <td>123.003</td>\n",
       "      <td>4</td>\n",
       "      <td>0.6410</td>\n",
       "      <td>0</td>\n",
       "    </tr>\n",
       "    <tr>\n",
       "      <th>4</th>\n",
       "      <td>Chris Cooq</td>\n",
       "      <td>2jbYvQCyPgX3CdmAzeVeuS</td>\n",
       "      <td>Same - Original mix</td>\n",
       "      <td>0.000035</td>\n",
       "      <td>0.783</td>\n",
       "      <td>124016</td>\n",
       "      <td>0.792</td>\n",
       "      <td>0.878</td>\n",
       "      <td>7</td>\n",
       "      <td>0.0332</td>\n",
       "      <td>-10.277</td>\n",
       "      <td>1</td>\n",
       "      <td>0.0661</td>\n",
       "      <td>120.047</td>\n",
       "      <td>4</td>\n",
       "      <td>0.9280</td>\n",
       "      <td>0</td>\n",
       "    </tr>\n",
       "    <tr>\n",
       "      <th>5</th>\n",
       "      <td>Curbo</td>\n",
       "      <td>26Y1lX7ZOpw9Ql3gGAlqLK</td>\n",
       "      <td>Debauchery - Original mix</td>\n",
       "      <td>0.001150</td>\n",
       "      <td>0.810</td>\n",
       "      <td>124016</td>\n",
       "      <td>0.417</td>\n",
       "      <td>0.919</td>\n",
       "      <td>9</td>\n",
       "      <td>0.1060</td>\n",
       "      <td>-10.783</td>\n",
       "      <td>0</td>\n",
       "      <td>0.0793</td>\n",
       "      <td>120.025</td>\n",
       "      <td>4</td>\n",
       "      <td>0.8370</td>\n",
       "      <td>0</td>\n",
       "    </tr>\n",
       "    <tr>\n",
       "      <th>6</th>\n",
       "      <td>Bingo Play</td>\n",
       "      <td>5eIyK73BrxHLnly4F9PWqg</td>\n",
       "      <td>Grandma - Original mix</td>\n",
       "      <td>0.000539</td>\n",
       "      <td>0.819</td>\n",
       "      <td>132742</td>\n",
       "      <td>0.720</td>\n",
       "      <td>0.863</td>\n",
       "      <td>4</td>\n",
       "      <td>0.0727</td>\n",
       "      <td>-8.895</td>\n",
       "      <td>0</td>\n",
       "      <td>0.1510</td>\n",
       "      <td>124.003</td>\n",
       "      <td>4</td>\n",
       "      <td>0.9340</td>\n",
       "      <td>0</td>\n",
       "    </tr>\n",
       "    <tr>\n",
       "      <th>7</th>\n",
       "      <td>G Herbo</td>\n",
       "      <td>13Mf2ZBpfNkgWJowvM5hXh</td>\n",
       "      <td>Bon appétit</td>\n",
       "      <td>0.115000</td>\n",
       "      <td>0.885</td>\n",
       "      <td>181838</td>\n",
       "      <td>0.348</td>\n",
       "      <td>0.000</td>\n",
       "      <td>9</td>\n",
       "      <td>0.1070</td>\n",
       "      <td>-12.569</td>\n",
       "      <td>1</td>\n",
       "      <td>0.4510</td>\n",
       "      <td>142.111</td>\n",
       "      <td>4</td>\n",
       "      <td>0.1800</td>\n",
       "      <td>0</td>\n",
       "    </tr>\n",
       "    <tr>\n",
       "      <th>8</th>\n",
       "      <td>34 Feet</td>\n",
       "      <td>7BQaRTHk44DkMhIVNcXy2D</td>\n",
       "      <td>Among - Original mix</td>\n",
       "      <td>0.000058</td>\n",
       "      <td>0.740</td>\n",
       "      <td>124016</td>\n",
       "      <td>0.472</td>\n",
       "      <td>0.847</td>\n",
       "      <td>8</td>\n",
       "      <td>0.0959</td>\n",
       "      <td>-9.008</td>\n",
       "      <td>1</td>\n",
       "      <td>0.0551</td>\n",
       "      <td>120.034</td>\n",
       "      <td>4</td>\n",
       "      <td>0.6220</td>\n",
       "      <td>0</td>\n",
       "    </tr>\n",
       "    <tr>\n",
       "      <th>9</th>\n",
       "      <td>Chris Cooq</td>\n",
       "      <td>049RxG2laEl9U1PGYeIqLV</td>\n",
       "      <td>Hazard - Original mix</td>\n",
       "      <td>0.000081</td>\n",
       "      <td>0.813</td>\n",
       "      <td>132742</td>\n",
       "      <td>0.731</td>\n",
       "      <td>0.910</td>\n",
       "      <td>11</td>\n",
       "      <td>0.0727</td>\n",
       "      <td>-8.932</td>\n",
       "      <td>1</td>\n",
       "      <td>0.0697</td>\n",
       "      <td>124.031</td>\n",
       "      <td>4</td>\n",
       "      <td>0.9440</td>\n",
       "      <td>0</td>\n",
       "    </tr>\n",
       "    <tr>\n",
       "      <th>10</th>\n",
       "      <td>Jarka</td>\n",
       "      <td>118GQ70Sp6pMqn6w1oKuki</td>\n",
       "      <td>Strummer - Original mix</td>\n",
       "      <td>0.000784</td>\n",
       "      <td>0.787</td>\n",
       "      <td>124016</td>\n",
       "      <td>0.830</td>\n",
       "      <td>0.784</td>\n",
       "      <td>1</td>\n",
       "      <td>0.0373</td>\n",
       "      <td>-10.457</td>\n",
       "      <td>1</td>\n",
       "      <td>0.1620</td>\n",
       "      <td>119.988</td>\n",
       "      <td>4</td>\n",
       "      <td>0.8960</td>\n",
       "      <td>0</td>\n",
       "    </tr>\n",
       "    <tr>\n",
       "      <th>11</th>\n",
       "      <td>Big Koola</td>\n",
       "      <td>6S7cr72a7a8RVAXzDCRj6m</td>\n",
       "      <td>Big Racks - Original mix</td>\n",
       "      <td>0.000106</td>\n",
       "      <td>0.777</td>\n",
       "      <td>128016</td>\n",
       "      <td>0.865</td>\n",
       "      <td>0.812</td>\n",
       "      <td>7</td>\n",
       "      <td>0.0791</td>\n",
       "      <td>-12.181</td>\n",
       "      <td>1</td>\n",
       "      <td>0.1170</td>\n",
       "      <td>119.979</td>\n",
       "      <td>4</td>\n",
       "      <td>0.6950</td>\n",
       "      <td>0</td>\n",
       "    </tr>\n",
       "    <tr>\n",
       "      <th>12</th>\n",
       "      <td>Scatox</td>\n",
       "      <td>7h2qWpMJzIVtiP30E8VDW4</td>\n",
       "      <td>Rulet - Original mix</td>\n",
       "      <td>0.000223</td>\n",
       "      <td>0.796</td>\n",
       "      <td>132742</td>\n",
       "      <td>0.698</td>\n",
       "      <td>0.919</td>\n",
       "      <td>10</td>\n",
       "      <td>0.0727</td>\n",
       "      <td>-8.860</td>\n",
       "      <td>0</td>\n",
       "      <td>0.0792</td>\n",
       "      <td>123.973</td>\n",
       "      <td>4</td>\n",
       "      <td>0.9640</td>\n",
       "      <td>0</td>\n",
       "    </tr>\n",
       "    <tr>\n",
       "      <th>13</th>\n",
       "      <td>Jupitar</td>\n",
       "      <td>3KVQFxJ5CWOcbxdpPYdi4o</td>\n",
       "      <td>Head - Original mix</td>\n",
       "      <td>0.000037</td>\n",
       "      <td>0.815</td>\n",
       "      <td>134769</td>\n",
       "      <td>0.709</td>\n",
       "      <td>0.938</td>\n",
       "      <td>1</td>\n",
       "      <td>0.0892</td>\n",
       "      <td>-10.666</td>\n",
       "      <td>1</td>\n",
       "      <td>0.0779</td>\n",
       "      <td>122.001</td>\n",
       "      <td>4</td>\n",
       "      <td>0.4890</td>\n",
       "      <td>0</td>\n",
       "    </tr>\n",
       "    <tr>\n",
       "      <th>14</th>\n",
       "      <td>Curbo</td>\n",
       "      <td>0JjNrI1xmsTfhaiU1R6OVc</td>\n",
       "      <td>Defeding - Original mix</td>\n",
       "      <td>0.000013</td>\n",
       "      <td>0.799</td>\n",
       "      <td>124016</td>\n",
       "      <td>0.573</td>\n",
       "      <td>0.915</td>\n",
       "      <td>0</td>\n",
       "      <td>0.0782</td>\n",
       "      <td>-9.830</td>\n",
       "      <td>1</td>\n",
       "      <td>0.0576</td>\n",
       "      <td>120.079</td>\n",
       "      <td>4</td>\n",
       "      <td>0.7660</td>\n",
       "      <td>0</td>\n",
       "    </tr>\n",
       "    <tr>\n",
       "      <th>15</th>\n",
       "      <td>Junkee</td>\n",
       "      <td>3HjTcZt29JUHg5m60QhlMw</td>\n",
       "      <td>Jupiter - Original mix</td>\n",
       "      <td>0.000074</td>\n",
       "      <td>0.812</td>\n",
       "      <td>134769</td>\n",
       "      <td>0.581</td>\n",
       "      <td>0.914</td>\n",
       "      <td>1</td>\n",
       "      <td>0.0892</td>\n",
       "      <td>-11.598</td>\n",
       "      <td>1</td>\n",
       "      <td>0.0874</td>\n",
       "      <td>121.994</td>\n",
       "      <td>4</td>\n",
       "      <td>0.5030</td>\n",
       "      <td>0</td>\n",
       "    </tr>\n",
       "    <tr>\n",
       "      <th>16</th>\n",
       "      <td>Mamuton</td>\n",
       "      <td>42LWRdkWxM9aWmDImWvH6C</td>\n",
       "      <td>Koonra - Original mix</td>\n",
       "      <td>0.000851</td>\n",
       "      <td>0.811</td>\n",
       "      <td>124016</td>\n",
       "      <td>0.709</td>\n",
       "      <td>0.929</td>\n",
       "      <td>7</td>\n",
       "      <td>0.0628</td>\n",
       "      <td>-10.885</td>\n",
       "      <td>1</td>\n",
       "      <td>0.0504</td>\n",
       "      <td>120.007</td>\n",
       "      <td>4</td>\n",
       "      <td>0.6530</td>\n",
       "      <td>0</td>\n",
       "    </tr>\n",
       "    <tr>\n",
       "      <th>17</th>\n",
       "      <td>Yellow Ey</td>\n",
       "      <td>32dMH9MvlTJaABrPHY52Yb</td>\n",
       "      <td>Spouse - Original mix</td>\n",
       "      <td>0.031500</td>\n",
       "      <td>0.746</td>\n",
       "      <td>127727</td>\n",
       "      <td>0.645</td>\n",
       "      <td>0.966</td>\n",
       "      <td>1</td>\n",
       "      <td>0.1340</td>\n",
       "      <td>-16.615</td>\n",
       "      <td>0</td>\n",
       "      <td>0.0532</td>\n",
       "      <td>124.032</td>\n",
       "      <td>4</td>\n",
       "      <td>0.0359</td>\n",
       "      <td>0</td>\n",
       "    </tr>\n",
       "    <tr>\n",
       "      <th>18</th>\n",
       "      <td>Bingo Play</td>\n",
       "      <td>5RCPsfzmEpTXMCTNk7wEfQ</td>\n",
       "      <td>Prop - Original mix</td>\n",
       "      <td>0.000256</td>\n",
       "      <td>0.813</td>\n",
       "      <td>134769</td>\n",
       "      <td>0.598</td>\n",
       "      <td>0.891</td>\n",
       "      <td>8</td>\n",
       "      <td>0.0892</td>\n",
       "      <td>-11.058</td>\n",
       "      <td>1</td>\n",
       "      <td>0.0874</td>\n",
       "      <td>122.010</td>\n",
       "      <td>4</td>\n",
       "      <td>0.6230</td>\n",
       "      <td>0</td>\n",
       "    </tr>\n",
       "    <tr>\n",
       "      <th>19</th>\n",
       "      <td>Pablo XD</td>\n",
       "      <td>0y0mwXrdEzjUK5Nq8GDPnY</td>\n",
       "      <td>Particular - Original mix</td>\n",
       "      <td>0.000009</td>\n",
       "      <td>0.812</td>\n",
       "      <td>124016</td>\n",
       "      <td>0.504</td>\n",
       "      <td>0.944</td>\n",
       "      <td>1</td>\n",
       "      <td>0.0848</td>\n",
       "      <td>-11.006</td>\n",
       "      <td>1</td>\n",
       "      <td>0.0550</td>\n",
       "      <td>120.014</td>\n",
       "      <td>4</td>\n",
       "      <td>0.5850</td>\n",
       "      <td>0</td>\n",
       "    </tr>\n",
       "  </tbody>\n",
       "</table>\n",
       "</div>"
      ],
      "text/plain": [
       "   artist_name                track_id  \\\n",
       "0           YG  2RM4jf1Xa9zPgMGRDiht8O   \n",
       "1           YG  1tHDG53xJNGsItRA3vfVgs   \n",
       "2        R3HAB  6Wosx2euFPMT14UXiWudMy   \n",
       "3   Chris Cooq  3J2Jpw61sO7l6Hc7qdYV91   \n",
       "4   Chris Cooq  2jbYvQCyPgX3CdmAzeVeuS   \n",
       "5        Curbo  26Y1lX7ZOpw9Ql3gGAlqLK   \n",
       "6   Bingo Play  5eIyK73BrxHLnly4F9PWqg   \n",
       "7      G Herbo  13Mf2ZBpfNkgWJowvM5hXh   \n",
       "8      34 Feet  7BQaRTHk44DkMhIVNcXy2D   \n",
       "9   Chris Cooq  049RxG2laEl9U1PGYeIqLV   \n",
       "10       Jarka  118GQ70Sp6pMqn6w1oKuki   \n",
       "11   Big Koola  6S7cr72a7a8RVAXzDCRj6m   \n",
       "12      Scatox  7h2qWpMJzIVtiP30E8VDW4   \n",
       "13     Jupitar  3KVQFxJ5CWOcbxdpPYdi4o   \n",
       "14       Curbo  0JjNrI1xmsTfhaiU1R6OVc   \n",
       "15      Junkee  3HjTcZt29JUHg5m60QhlMw   \n",
       "16     Mamuton  42LWRdkWxM9aWmDImWvH6C   \n",
       "17   Yellow Ey  32dMH9MvlTJaABrPHY52Yb   \n",
       "18  Bingo Play  5RCPsfzmEpTXMCTNk7wEfQ   \n",
       "19    Pablo XD  0y0mwXrdEzjUK5Nq8GDPnY   \n",
       "\n",
       "                                        track_name  acousticness  \\\n",
       "0   Big Bank feat. 2 Chainz, Big Sean, Nicki Minaj      0.005820   \n",
       "1                     BAND DRUM (feat. A$AP Rocky)      0.024400   \n",
       "2                                    Radio Silence      0.025000   \n",
       "3                                          Lactose      0.029400   \n",
       "4                              Same - Original mix      0.000035   \n",
       "5                        Debauchery - Original mix      0.001150   \n",
       "6                           Grandma - Original mix      0.000539   \n",
       "7                                      Bon appétit      0.115000   \n",
       "8                             Among - Original mix      0.000058   \n",
       "9                            Hazard - Original mix      0.000081   \n",
       "10                         Strummer - Original mix      0.000784   \n",
       "11                        Big Racks - Original mix      0.000106   \n",
       "12                            Rulet - Original mix      0.000223   \n",
       "13                             Head - Original mix      0.000037   \n",
       "14                         Defeding - Original mix      0.000013   \n",
       "15                          Jupiter - Original mix      0.000074   \n",
       "16                           Koonra - Original mix      0.000851   \n",
       "17                           Spouse - Original mix      0.031500   \n",
       "18                             Prop - Original mix      0.000256   \n",
       "19                       Particular - Original mix      0.000009   \n",
       "\n",
       "    danceability  duration_ms  energy  instrumentalness  key  liveness  \\\n",
       "0          0.743       238373   0.339             0.000    1    0.0812   \n",
       "1          0.846       214800   0.557             0.000    8    0.2860   \n",
       "2          0.603       138913   0.723             0.000    9    0.0824   \n",
       "3          0.800       125381   0.579             0.912    5    0.0994   \n",
       "4          0.783       124016   0.792             0.878    7    0.0332   \n",
       "5          0.810       124016   0.417             0.919    9    0.1060   \n",
       "6          0.819       132742   0.720             0.863    4    0.0727   \n",
       "7          0.885       181838   0.348             0.000    9    0.1070   \n",
       "8          0.740       124016   0.472             0.847    8    0.0959   \n",
       "9          0.813       132742   0.731             0.910   11    0.0727   \n",
       "10         0.787       124016   0.830             0.784    1    0.0373   \n",
       "11         0.777       128016   0.865             0.812    7    0.0791   \n",
       "12         0.796       132742   0.698             0.919   10    0.0727   \n",
       "13         0.815       134769   0.709             0.938    1    0.0892   \n",
       "14         0.799       124016   0.573             0.915    0    0.0782   \n",
       "15         0.812       134769   0.581             0.914    1    0.0892   \n",
       "16         0.811       124016   0.709             0.929    7    0.0628   \n",
       "17         0.746       127727   0.645             0.966    1    0.1340   \n",
       "18         0.813       134769   0.598             0.891    8    0.0892   \n",
       "19         0.812       124016   0.504             0.944    1    0.0848   \n",
       "\n",
       "    loudness  mode  speechiness    tempo  time_signature  valence  popularity  \n",
       "0     -7.678     1       0.4090  203.927               4   0.1180          15  \n",
       "1     -7.259     1       0.4570  159.009               4   0.3710           0  \n",
       "2     -5.890     0       0.0454  114.966               4   0.3820          56  \n",
       "3    -12.118     0       0.0701  123.003               4   0.6410           0  \n",
       "4    -10.277     1       0.0661  120.047               4   0.9280           0  \n",
       "5    -10.783     0       0.0793  120.025               4   0.8370           0  \n",
       "6     -8.895     0       0.1510  124.003               4   0.9340           0  \n",
       "7    -12.569     1       0.4510  142.111               4   0.1800           0  \n",
       "8     -9.008     1       0.0551  120.034               4   0.6220           0  \n",
       "9     -8.932     1       0.0697  124.031               4   0.9440           0  \n",
       "10   -10.457     1       0.1620  119.988               4   0.8960           0  \n",
       "11   -12.181     1       0.1170  119.979               4   0.6950           0  \n",
       "12    -8.860     0       0.0792  123.973               4   0.9640           0  \n",
       "13   -10.666     1       0.0779  122.001               4   0.4890           0  \n",
       "14    -9.830     1       0.0576  120.079               4   0.7660           0  \n",
       "15   -11.598     1       0.0874  121.994               4   0.5030           0  \n",
       "16   -10.885     1       0.0504  120.007               4   0.6530           0  \n",
       "17   -16.615     0       0.0532  124.032               4   0.0359           0  \n",
       "18   -11.058     1       0.0874  122.010               4   0.6230           0  \n",
       "19   -11.006     1       0.0550  120.014               4   0.5850           0  "
      ]
     },
     "execution_count": 4,
     "metadata": {},
     "output_type": "execute_result"
    }
   ],
   "source": [
    "df.head(20)"
   ]
  },
  {
   "cell_type": "code",
   "execution_count": 5,
   "id": "2166ea3d-9a52-4cfd-b2df-7de8e781ddb9",
   "metadata": {},
   "outputs": [
    {
     "data": {
      "text/html": [
       "<div>\n",
       "<style scoped>\n",
       "    .dataframe tbody tr th:only-of-type {\n",
       "        vertical-align: middle;\n",
       "    }\n",
       "\n",
       "    .dataframe tbody tr th {\n",
       "        vertical-align: top;\n",
       "    }\n",
       "\n",
       "    .dataframe thead th {\n",
       "        text-align: right;\n",
       "    }\n",
       "</style>\n",
       "<table border=\"1\" class=\"dataframe\">\n",
       "  <thead>\n",
       "    <tr style=\"text-align: right;\">\n",
       "      <th></th>\n",
       "      <th>artist_name</th>\n",
       "      <th>track_id</th>\n",
       "      <th>track_name</th>\n",
       "      <th>acousticness</th>\n",
       "      <th>danceability</th>\n",
       "      <th>duration_ms</th>\n",
       "      <th>energy</th>\n",
       "      <th>instrumentalness</th>\n",
       "      <th>key</th>\n",
       "      <th>liveness</th>\n",
       "      <th>loudness</th>\n",
       "      <th>mode</th>\n",
       "      <th>speechiness</th>\n",
       "      <th>tempo</th>\n",
       "      <th>time_signature</th>\n",
       "      <th>valence</th>\n",
       "      <th>popularity</th>\n",
       "    </tr>\n",
       "  </thead>\n",
       "  <tbody>\n",
       "    <tr>\n",
       "      <th>85482</th>\n",
       "      <td>MESSER</td>\n",
       "      <td>2coMKvuQMhaFGFKGfq95Pu</td>\n",
       "      <td>Save Myself</td>\n",
       "      <td>0.00070</td>\n",
       "      <td>0.394</td>\n",
       "      <td>204839</td>\n",
       "      <td>0.931</td>\n",
       "      <td>0.002100</td>\n",
       "      <td>0</td>\n",
       "      <td>0.1430</td>\n",
       "      <td>-5.524</td>\n",
       "      <td>1</td>\n",
       "      <td>0.1870</td>\n",
       "      <td>170.088</td>\n",
       "      <td>4</td>\n",
       "      <td>0.19600</td>\n",
       "      <td>38</td>\n",
       "    </tr>\n",
       "    <tr>\n",
       "      <th>15383</th>\n",
       "      <td>Umphrey's McGee</td>\n",
       "      <td>50YvJKyOgWzQyz8i8mP63M</td>\n",
       "      <td>Speak Up</td>\n",
       "      <td>0.02070</td>\n",
       "      <td>0.721</td>\n",
       "      <td>364686</td>\n",
       "      <td>0.675</td>\n",
       "      <td>0.003520</td>\n",
       "      <td>7</td>\n",
       "      <td>0.0289</td>\n",
       "      <td>-10.100</td>\n",
       "      <td>1</td>\n",
       "      <td>0.0375</td>\n",
       "      <td>99.011</td>\n",
       "      <td>4</td>\n",
       "      <td>0.88000</td>\n",
       "      <td>31</td>\n",
       "    </tr>\n",
       "    <tr>\n",
       "      <th>118518</th>\n",
       "      <td>Neil Diamond</td>\n",
       "      <td>1qXMPdPs5LJGm2U47ugqpV</td>\n",
       "      <td>Maybe</td>\n",
       "      <td>0.49800</td>\n",
       "      <td>0.670</td>\n",
       "      <td>232693</td>\n",
       "      <td>0.407</td>\n",
       "      <td>0.000006</td>\n",
       "      <td>0</td>\n",
       "      <td>0.0934</td>\n",
       "      <td>-9.802</td>\n",
       "      <td>1</td>\n",
       "      <td>0.0282</td>\n",
       "      <td>109.438</td>\n",
       "      <td>4</td>\n",
       "      <td>0.49800</td>\n",
       "      <td>13</td>\n",
       "    </tr>\n",
       "    <tr>\n",
       "      <th>89042</th>\n",
       "      <td>Ghost Flows</td>\n",
       "      <td>6uutNKpN0yfCfbCtDfHJSN</td>\n",
       "      <td>Slithering</td>\n",
       "      <td>0.01120</td>\n",
       "      <td>0.734</td>\n",
       "      <td>72697</td>\n",
       "      <td>0.761</td>\n",
       "      <td>0.748000</td>\n",
       "      <td>11</td>\n",
       "      <td>0.1040</td>\n",
       "      <td>-8.604</td>\n",
       "      <td>0</td>\n",
       "      <td>0.0789</td>\n",
       "      <td>150.066</td>\n",
       "      <td>4</td>\n",
       "      <td>0.43200</td>\n",
       "      <td>0</td>\n",
       "    </tr>\n",
       "    <tr>\n",
       "      <th>85592</th>\n",
       "      <td>nicholas Franchise</td>\n",
       "      <td>4aYOJ1tgoJC3zL94pziZZu</td>\n",
       "      <td>3:33 AM (One Too Many)</td>\n",
       "      <td>0.01440</td>\n",
       "      <td>0.744</td>\n",
       "      <td>253158</td>\n",
       "      <td>0.445</td>\n",
       "      <td>0.000180</td>\n",
       "      <td>6</td>\n",
       "      <td>0.0846</td>\n",
       "      <td>-13.750</td>\n",
       "      <td>0</td>\n",
       "      <td>0.0349</td>\n",
       "      <td>114.013</td>\n",
       "      <td>4</td>\n",
       "      <td>0.63200</td>\n",
       "      <td>17</td>\n",
       "    </tr>\n",
       "    <tr>\n",
       "      <th>37901</th>\n",
       "      <td>Indian Trap</td>\n",
       "      <td>3Wjh2tCk4guyGaoAuix3cF</td>\n",
       "      <td>Look Like Monayyy (2am Project Retro Future Re...</td>\n",
       "      <td>0.01100</td>\n",
       "      <td>0.793</td>\n",
       "      <td>286875</td>\n",
       "      <td>0.734</td>\n",
       "      <td>0.903000</td>\n",
       "      <td>4</td>\n",
       "      <td>0.0578</td>\n",
       "      <td>-2.799</td>\n",
       "      <td>0</td>\n",
       "      <td>0.0571</td>\n",
       "      <td>127.990</td>\n",
       "      <td>4</td>\n",
       "      <td>0.92700</td>\n",
       "      <td>0</td>\n",
       "    </tr>\n",
       "    <tr>\n",
       "      <th>128181</th>\n",
       "      <td>Casting Crowns</td>\n",
       "      <td>0W7KIc2GSB9suYQAaMZ9rF</td>\n",
       "      <td>Nobody (feat. Matthew West)</td>\n",
       "      <td>0.45800</td>\n",
       "      <td>0.561</td>\n",
       "      <td>206400</td>\n",
       "      <td>0.717</td>\n",
       "      <td>0.000000</td>\n",
       "      <td>8</td>\n",
       "      <td>0.1380</td>\n",
       "      <td>-5.719</td>\n",
       "      <td>1</td>\n",
       "      <td>0.0381</td>\n",
       "      <td>79.993</td>\n",
       "      <td>4</td>\n",
       "      <td>0.45400</td>\n",
       "      <td>62</td>\n",
       "    </tr>\n",
       "    <tr>\n",
       "      <th>78114</th>\n",
       "      <td>Ocean Waves For Sleep</td>\n",
       "      <td>50VS6JGBcPGc3ZFcqjY88h</td>\n",
       "      <td>Blue Wave - Loop</td>\n",
       "      <td>0.99100</td>\n",
       "      <td>0.170</td>\n",
       "      <td>266389</td>\n",
       "      <td>0.999</td>\n",
       "      <td>0.599000</td>\n",
       "      <td>7</td>\n",
       "      <td>0.1130</td>\n",
       "      <td>-14.639</td>\n",
       "      <td>0</td>\n",
       "      <td>0.0848</td>\n",
       "      <td>120.281</td>\n",
       "      <td>3</td>\n",
       "      <td>0.00001</td>\n",
       "      <td>0</td>\n",
       "    </tr>\n",
       "    <tr>\n",
       "      <th>8552</th>\n",
       "      <td>Jack Stauber</td>\n",
       "      <td>4yen3m2cW928f23Th5nJRZ</td>\n",
       "      <td>O.U.R.</td>\n",
       "      <td>0.61300</td>\n",
       "      <td>0.702</td>\n",
       "      <td>223329</td>\n",
       "      <td>0.771</td>\n",
       "      <td>0.153000</td>\n",
       "      <td>4</td>\n",
       "      <td>0.1170</td>\n",
       "      <td>-6.523</td>\n",
       "      <td>0</td>\n",
       "      <td>0.1440</td>\n",
       "      <td>141.044</td>\n",
       "      <td>4</td>\n",
       "      <td>0.53100</td>\n",
       "      <td>43</td>\n",
       "    </tr>\n",
       "    <tr>\n",
       "      <th>23066</th>\n",
       "      <td>Honest Men</td>\n",
       "      <td>2Mq1TMADR6jRBM0ZutjJKj</td>\n",
       "      <td>I'm Okay</td>\n",
       "      <td>0.00333</td>\n",
       "      <td>0.553</td>\n",
       "      <td>191799</td>\n",
       "      <td>0.770</td>\n",
       "      <td>0.000020</td>\n",
       "      <td>9</td>\n",
       "      <td>0.1570</td>\n",
       "      <td>-5.944</td>\n",
       "      <td>1</td>\n",
       "      <td>0.0423</td>\n",
       "      <td>154.926</td>\n",
       "      <td>4</td>\n",
       "      <td>0.87200</td>\n",
       "      <td>39</td>\n",
       "    </tr>\n",
       "  </tbody>\n",
       "</table>\n",
       "</div>"
      ],
      "text/plain": [
       "                  artist_name                track_id  \\\n",
       "85482                  MESSER  2coMKvuQMhaFGFKGfq95Pu   \n",
       "15383         Umphrey's McGee  50YvJKyOgWzQyz8i8mP63M   \n",
       "118518           Neil Diamond  1qXMPdPs5LJGm2U47ugqpV   \n",
       "89042             Ghost Flows  6uutNKpN0yfCfbCtDfHJSN   \n",
       "85592      nicholas Franchise  4aYOJ1tgoJC3zL94pziZZu   \n",
       "37901             Indian Trap  3Wjh2tCk4guyGaoAuix3cF   \n",
       "128181         Casting Crowns  0W7KIc2GSB9suYQAaMZ9rF   \n",
       "78114   Ocean Waves For Sleep  50VS6JGBcPGc3ZFcqjY88h   \n",
       "8552             Jack Stauber  4yen3m2cW928f23Th5nJRZ   \n",
       "23066              Honest Men  2Mq1TMADR6jRBM0ZutjJKj   \n",
       "\n",
       "                                               track_name  acousticness  \\\n",
       "85482                                         Save Myself       0.00070   \n",
       "15383                                            Speak Up       0.02070   \n",
       "118518                                              Maybe       0.49800   \n",
       "89042                                          Slithering       0.01120   \n",
       "85592                              3:33 AM (One Too Many)       0.01440   \n",
       "37901   Look Like Monayyy (2am Project Retro Future Re...       0.01100   \n",
       "128181                        Nobody (feat. Matthew West)       0.45800   \n",
       "78114                                    Blue Wave - Loop       0.99100   \n",
       "8552                                               O.U.R.       0.61300   \n",
       "23066                                            I'm Okay       0.00333   \n",
       "\n",
       "        danceability  duration_ms  energy  instrumentalness  key  liveness  \\\n",
       "85482          0.394       204839   0.931          0.002100    0    0.1430   \n",
       "15383          0.721       364686   0.675          0.003520    7    0.0289   \n",
       "118518         0.670       232693   0.407          0.000006    0    0.0934   \n",
       "89042          0.734        72697   0.761          0.748000   11    0.1040   \n",
       "85592          0.744       253158   0.445          0.000180    6    0.0846   \n",
       "37901          0.793       286875   0.734          0.903000    4    0.0578   \n",
       "128181         0.561       206400   0.717          0.000000    8    0.1380   \n",
       "78114          0.170       266389   0.999          0.599000    7    0.1130   \n",
       "8552           0.702       223329   0.771          0.153000    4    0.1170   \n",
       "23066          0.553       191799   0.770          0.000020    9    0.1570   \n",
       "\n",
       "        loudness  mode  speechiness    tempo  time_signature  valence  \\\n",
       "85482     -5.524     1       0.1870  170.088               4  0.19600   \n",
       "15383    -10.100     1       0.0375   99.011               4  0.88000   \n",
       "118518    -9.802     1       0.0282  109.438               4  0.49800   \n",
       "89042     -8.604     0       0.0789  150.066               4  0.43200   \n",
       "85592    -13.750     0       0.0349  114.013               4  0.63200   \n",
       "37901     -2.799     0       0.0571  127.990               4  0.92700   \n",
       "128181    -5.719     1       0.0381   79.993               4  0.45400   \n",
       "78114    -14.639     0       0.0848  120.281               3  0.00001   \n",
       "8552      -6.523     0       0.1440  141.044               4  0.53100   \n",
       "23066     -5.944     1       0.0423  154.926               4  0.87200   \n",
       "\n",
       "        popularity  \n",
       "85482           38  \n",
       "15383           31  \n",
       "118518          13  \n",
       "89042            0  \n",
       "85592           17  \n",
       "37901            0  \n",
       "128181          62  \n",
       "78114            0  \n",
       "8552            43  \n",
       "23066           39  "
      ]
     },
     "execution_count": 5,
     "metadata": {},
     "output_type": "execute_result"
    }
   ],
   "source": [
    "df.sample(10)"
   ]
  },
  {
   "cell_type": "code",
   "execution_count": 6,
   "id": "c9240ab3-7df3-45df-ab1a-48d9d93aa662",
   "metadata": {},
   "outputs": [
    {
     "name": "stdout",
     "output_type": "stream",
     "text": [
      "<class 'pandas.core.frame.DataFrame'>\n",
      "RangeIndex: 130663 entries, 0 to 130662\n",
      "Data columns (total 17 columns):\n",
      " #   Column            Non-Null Count   Dtype  \n",
      "---  ------            --------------   -----  \n",
      " 0   artist_name       130663 non-null  object \n",
      " 1   track_id          130663 non-null  object \n",
      " 2   track_name        130663 non-null  object \n",
      " 3   acousticness      130663 non-null  float64\n",
      " 4   danceability      130663 non-null  float64\n",
      " 5   duration_ms       130663 non-null  int64  \n",
      " 6   energy            130663 non-null  float64\n",
      " 7   instrumentalness  130663 non-null  float64\n",
      " 8   key               130663 non-null  int64  \n",
      " 9   liveness          130663 non-null  float64\n",
      " 10  loudness          130663 non-null  float64\n",
      " 11  mode              130663 non-null  int64  \n",
      " 12  speechiness       130663 non-null  float64\n",
      " 13  tempo             130663 non-null  float64\n",
      " 14  time_signature    130663 non-null  int64  \n",
      " 15  valence           130663 non-null  float64\n",
      " 16  popularity        130663 non-null  int64  \n",
      "dtypes: float64(9), int64(5), object(3)\n",
      "memory usage: 16.9+ MB\n"
     ]
    }
   ],
   "source": [
    "df.info()"
   ]
  },
  {
   "cell_type": "code",
   "execution_count": 7,
   "id": "504f9f31-98ef-4a74-9299-14d16f464b44",
   "metadata": {},
   "outputs": [
    {
     "data": {
      "text/html": [
       "<div>\n",
       "<style scoped>\n",
       "    .dataframe tbody tr th:only-of-type {\n",
       "        vertical-align: middle;\n",
       "    }\n",
       "\n",
       "    .dataframe tbody tr th {\n",
       "        vertical-align: top;\n",
       "    }\n",
       "\n",
       "    .dataframe thead th {\n",
       "        text-align: right;\n",
       "    }\n",
       "</style>\n",
       "<table border=\"1\" class=\"dataframe\">\n",
       "  <thead>\n",
       "    <tr style=\"text-align: right;\">\n",
       "      <th></th>\n",
       "      <th>acousticness</th>\n",
       "      <th>danceability</th>\n",
       "      <th>duration_ms</th>\n",
       "      <th>energy</th>\n",
       "      <th>instrumentalness</th>\n",
       "      <th>key</th>\n",
       "      <th>liveness</th>\n",
       "      <th>loudness</th>\n",
       "      <th>mode</th>\n",
       "      <th>speechiness</th>\n",
       "      <th>tempo</th>\n",
       "      <th>time_signature</th>\n",
       "      <th>valence</th>\n",
       "      <th>popularity</th>\n",
       "    </tr>\n",
       "  </thead>\n",
       "  <tbody>\n",
       "    <tr>\n",
       "      <th>count</th>\n",
       "      <td>130663.000000</td>\n",
       "      <td>130663.000000</td>\n",
       "      <td>1.306630e+05</td>\n",
       "      <td>130663.000000</td>\n",
       "      <td>130663.000000</td>\n",
       "      <td>130663.000000</td>\n",
       "      <td>130663.000000</td>\n",
       "      <td>130663.000000</td>\n",
       "      <td>130663.000000</td>\n",
       "      <td>130663.000000</td>\n",
       "      <td>130663.000000</td>\n",
       "      <td>130663.000000</td>\n",
       "      <td>130663.000000</td>\n",
       "      <td>130663.000000</td>\n",
       "    </tr>\n",
       "    <tr>\n",
       "      <th>mean</th>\n",
       "      <td>0.342500</td>\n",
       "      <td>0.581468</td>\n",
       "      <td>2.126331e+05</td>\n",
       "      <td>0.569196</td>\n",
       "      <td>0.224018</td>\n",
       "      <td>5.231894</td>\n",
       "      <td>0.194886</td>\n",
       "      <td>-9.974006</td>\n",
       "      <td>0.607739</td>\n",
       "      <td>0.112015</td>\n",
       "      <td>119.473353</td>\n",
       "      <td>3.878986</td>\n",
       "      <td>0.439630</td>\n",
       "      <td>24.208988</td>\n",
       "    </tr>\n",
       "    <tr>\n",
       "      <th>std</th>\n",
       "      <td>0.345641</td>\n",
       "      <td>0.190077</td>\n",
       "      <td>1.231551e+05</td>\n",
       "      <td>0.260312</td>\n",
       "      <td>0.360328</td>\n",
       "      <td>3.602701</td>\n",
       "      <td>0.167733</td>\n",
       "      <td>6.544379</td>\n",
       "      <td>0.488256</td>\n",
       "      <td>0.124327</td>\n",
       "      <td>30.159636</td>\n",
       "      <td>0.514403</td>\n",
       "      <td>0.259079</td>\n",
       "      <td>19.713191</td>\n",
       "    </tr>\n",
       "    <tr>\n",
       "      <th>min</th>\n",
       "      <td>0.000000</td>\n",
       "      <td>0.000000</td>\n",
       "      <td>3.203000e+03</td>\n",
       "      <td>0.000000</td>\n",
       "      <td>0.000000</td>\n",
       "      <td>0.000000</td>\n",
       "      <td>0.000000</td>\n",
       "      <td>-60.000000</td>\n",
       "      <td>0.000000</td>\n",
       "      <td>0.000000</td>\n",
       "      <td>0.000000</td>\n",
       "      <td>0.000000</td>\n",
       "      <td>0.000000</td>\n",
       "      <td>0.000000</td>\n",
       "    </tr>\n",
       "    <tr>\n",
       "      <th>25%</th>\n",
       "      <td>0.031600</td>\n",
       "      <td>0.459000</td>\n",
       "      <td>1.639225e+05</td>\n",
       "      <td>0.396000</td>\n",
       "      <td>0.000000</td>\n",
       "      <td>2.000000</td>\n",
       "      <td>0.097500</td>\n",
       "      <td>-11.898000</td>\n",
       "      <td>0.000000</td>\n",
       "      <td>0.038900</td>\n",
       "      <td>96.014000</td>\n",
       "      <td>4.000000</td>\n",
       "      <td>0.224000</td>\n",
       "      <td>7.000000</td>\n",
       "    </tr>\n",
       "    <tr>\n",
       "      <th>50%</th>\n",
       "      <td>0.203000</td>\n",
       "      <td>0.605000</td>\n",
       "      <td>2.019010e+05</td>\n",
       "      <td>0.603000</td>\n",
       "      <td>0.000149</td>\n",
       "      <td>5.000000</td>\n",
       "      <td>0.124000</td>\n",
       "      <td>-7.979000</td>\n",
       "      <td>1.000000</td>\n",
       "      <td>0.055900</td>\n",
       "      <td>120.027000</td>\n",
       "      <td>4.000000</td>\n",
       "      <td>0.420000</td>\n",
       "      <td>22.000000</td>\n",
       "    </tr>\n",
       "    <tr>\n",
       "      <th>75%</th>\n",
       "      <td>0.636000</td>\n",
       "      <td>0.727000</td>\n",
       "      <td>2.410475e+05</td>\n",
       "      <td>0.775000</td>\n",
       "      <td>0.440000</td>\n",
       "      <td>8.000000</td>\n",
       "      <td>0.236000</td>\n",
       "      <td>-5.684000</td>\n",
       "      <td>1.000000</td>\n",
       "      <td>0.129000</td>\n",
       "      <td>139.642000</td>\n",
       "      <td>4.000000</td>\n",
       "      <td>0.638000</td>\n",
       "      <td>38.000000</td>\n",
       "    </tr>\n",
       "    <tr>\n",
       "      <th>max</th>\n",
       "      <td>0.996000</td>\n",
       "      <td>0.996000</td>\n",
       "      <td>5.610020e+06</td>\n",
       "      <td>1.000000</td>\n",
       "      <td>1.000000</td>\n",
       "      <td>11.000000</td>\n",
       "      <td>0.999000</td>\n",
       "      <td>1.806000</td>\n",
       "      <td>1.000000</td>\n",
       "      <td>0.966000</td>\n",
       "      <td>249.983000</td>\n",
       "      <td>5.000000</td>\n",
       "      <td>1.000000</td>\n",
       "      <td>100.000000</td>\n",
       "    </tr>\n",
       "  </tbody>\n",
       "</table>\n",
       "</div>"
      ],
      "text/plain": [
       "        acousticness   danceability   duration_ms         energy  \\\n",
       "count  130663.000000  130663.000000  1.306630e+05  130663.000000   \n",
       "mean        0.342500       0.581468  2.126331e+05       0.569196   \n",
       "std         0.345641       0.190077  1.231551e+05       0.260312   \n",
       "min         0.000000       0.000000  3.203000e+03       0.000000   \n",
       "25%         0.031600       0.459000  1.639225e+05       0.396000   \n",
       "50%         0.203000       0.605000  2.019010e+05       0.603000   \n",
       "75%         0.636000       0.727000  2.410475e+05       0.775000   \n",
       "max         0.996000       0.996000  5.610020e+06       1.000000   \n",
       "\n",
       "       instrumentalness            key       liveness       loudness  \\\n",
       "count     130663.000000  130663.000000  130663.000000  130663.000000   \n",
       "mean           0.224018       5.231894       0.194886      -9.974006   \n",
       "std            0.360328       3.602701       0.167733       6.544379   \n",
       "min            0.000000       0.000000       0.000000     -60.000000   \n",
       "25%            0.000000       2.000000       0.097500     -11.898000   \n",
       "50%            0.000149       5.000000       0.124000      -7.979000   \n",
       "75%            0.440000       8.000000       0.236000      -5.684000   \n",
       "max            1.000000      11.000000       0.999000       1.806000   \n",
       "\n",
       "                mode    speechiness          tempo  time_signature  \\\n",
       "count  130663.000000  130663.000000  130663.000000   130663.000000   \n",
       "mean        0.607739       0.112015     119.473353        3.878986   \n",
       "std         0.488256       0.124327      30.159636        0.514403   \n",
       "min         0.000000       0.000000       0.000000        0.000000   \n",
       "25%         0.000000       0.038900      96.014000        4.000000   \n",
       "50%         1.000000       0.055900     120.027000        4.000000   \n",
       "75%         1.000000       0.129000     139.642000        4.000000   \n",
       "max         1.000000       0.966000     249.983000        5.000000   \n",
       "\n",
       "             valence     popularity  \n",
       "count  130663.000000  130663.000000  \n",
       "mean        0.439630      24.208988  \n",
       "std         0.259079      19.713191  \n",
       "min         0.000000       0.000000  \n",
       "25%         0.224000       7.000000  \n",
       "50%         0.420000      22.000000  \n",
       "75%         0.638000      38.000000  \n",
       "max         1.000000     100.000000  "
      ]
     },
     "execution_count": 7,
     "metadata": {},
     "output_type": "execute_result"
    }
   ],
   "source": [
    "df.describe()"
   ]
  },
  {
   "cell_type": "code",
   "execution_count": 8,
   "id": "cdaedc3d-4c62-4343-aa73-6ec71a189588",
   "metadata": {},
   "outputs": [],
   "source": [
    "df[['artist_name', 'track_name']] = df[['artist_name', 'track_name']].apply(lambda x: x.str.lower().str.replace(' ', '_'))"
   ]
  },
  {
   "cell_type": "code",
   "execution_count": 10,
   "id": "2ed76e17-d160-4e2a-96cc-921fc06fd977",
   "metadata": {},
   "outputs": [
    {
     "data": {
      "text/html": [
       "<div>\n",
       "<style scoped>\n",
       "    .dataframe tbody tr th:only-of-type {\n",
       "        vertical-align: middle;\n",
       "    }\n",
       "\n",
       "    .dataframe tbody tr th {\n",
       "        vertical-align: top;\n",
       "    }\n",
       "\n",
       "    .dataframe thead th {\n",
       "        text-align: right;\n",
       "    }\n",
       "</style>\n",
       "<table border=\"1\" class=\"dataframe\">\n",
       "  <thead>\n",
       "    <tr style=\"text-align: right;\">\n",
       "      <th></th>\n",
       "      <th>artist_name</th>\n",
       "      <th>track_id</th>\n",
       "      <th>track_name</th>\n",
       "      <th>acousticness</th>\n",
       "      <th>danceability</th>\n",
       "      <th>duration_ms</th>\n",
       "      <th>energy</th>\n",
       "      <th>instrumentalness</th>\n",
       "      <th>key</th>\n",
       "      <th>liveness</th>\n",
       "      <th>loudness</th>\n",
       "      <th>mode</th>\n",
       "      <th>speechiness</th>\n",
       "      <th>tempo</th>\n",
       "      <th>time_signature</th>\n",
       "      <th>valence</th>\n",
       "      <th>popularity</th>\n",
       "    </tr>\n",
       "  </thead>\n",
       "  <tbody>\n",
       "    <tr>\n",
       "      <th>0</th>\n",
       "      <td>yg</td>\n",
       "      <td>2RM4jf1Xa9zPgMGRDiht8O</td>\n",
       "      <td>big_bank_feat._2_chainz,_big_sean,_nicki_minaj</td>\n",
       "      <td>0.005820</td>\n",
       "      <td>0.743</td>\n",
       "      <td>238373</td>\n",
       "      <td>0.339</td>\n",
       "      <td>0.000</td>\n",
       "      <td>1</td>\n",
       "      <td>0.0812</td>\n",
       "      <td>-7.678</td>\n",
       "      <td>1</td>\n",
       "      <td>0.4090</td>\n",
       "      <td>203.927</td>\n",
       "      <td>4</td>\n",
       "      <td>0.118</td>\n",
       "      <td>15</td>\n",
       "    </tr>\n",
       "    <tr>\n",
       "      <th>1</th>\n",
       "      <td>yg</td>\n",
       "      <td>1tHDG53xJNGsItRA3vfVgs</td>\n",
       "      <td>band_drum_(feat._a$ap_rocky)</td>\n",
       "      <td>0.024400</td>\n",
       "      <td>0.846</td>\n",
       "      <td>214800</td>\n",
       "      <td>0.557</td>\n",
       "      <td>0.000</td>\n",
       "      <td>8</td>\n",
       "      <td>0.2860</td>\n",
       "      <td>-7.259</td>\n",
       "      <td>1</td>\n",
       "      <td>0.4570</td>\n",
       "      <td>159.009</td>\n",
       "      <td>4</td>\n",
       "      <td>0.371</td>\n",
       "      <td>0</td>\n",
       "    </tr>\n",
       "    <tr>\n",
       "      <th>2</th>\n",
       "      <td>r3hab</td>\n",
       "      <td>6Wosx2euFPMT14UXiWudMy</td>\n",
       "      <td>radio_silence</td>\n",
       "      <td>0.025000</td>\n",
       "      <td>0.603</td>\n",
       "      <td>138913</td>\n",
       "      <td>0.723</td>\n",
       "      <td>0.000</td>\n",
       "      <td>9</td>\n",
       "      <td>0.0824</td>\n",
       "      <td>-5.890</td>\n",
       "      <td>0</td>\n",
       "      <td>0.0454</td>\n",
       "      <td>114.966</td>\n",
       "      <td>4</td>\n",
       "      <td>0.382</td>\n",
       "      <td>56</td>\n",
       "    </tr>\n",
       "    <tr>\n",
       "      <th>3</th>\n",
       "      <td>chris_cooq</td>\n",
       "      <td>3J2Jpw61sO7l6Hc7qdYV91</td>\n",
       "      <td>lactose</td>\n",
       "      <td>0.029400</td>\n",
       "      <td>0.800</td>\n",
       "      <td>125381</td>\n",
       "      <td>0.579</td>\n",
       "      <td>0.912</td>\n",
       "      <td>5</td>\n",
       "      <td>0.0994</td>\n",
       "      <td>-12.118</td>\n",
       "      <td>0</td>\n",
       "      <td>0.0701</td>\n",
       "      <td>123.003</td>\n",
       "      <td>4</td>\n",
       "      <td>0.641</td>\n",
       "      <td>0</td>\n",
       "    </tr>\n",
       "    <tr>\n",
       "      <th>4</th>\n",
       "      <td>chris_cooq</td>\n",
       "      <td>2jbYvQCyPgX3CdmAzeVeuS</td>\n",
       "      <td>same_-_original_mix</td>\n",
       "      <td>0.000035</td>\n",
       "      <td>0.783</td>\n",
       "      <td>124016</td>\n",
       "      <td>0.792</td>\n",
       "      <td>0.878</td>\n",
       "      <td>7</td>\n",
       "      <td>0.0332</td>\n",
       "      <td>-10.277</td>\n",
       "      <td>1</td>\n",
       "      <td>0.0661</td>\n",
       "      <td>120.047</td>\n",
       "      <td>4</td>\n",
       "      <td>0.928</td>\n",
       "      <td>0</td>\n",
       "    </tr>\n",
       "    <tr>\n",
       "      <th>5</th>\n",
       "      <td>curbo</td>\n",
       "      <td>26Y1lX7ZOpw9Ql3gGAlqLK</td>\n",
       "      <td>debauchery_-_original_mix</td>\n",
       "      <td>0.001150</td>\n",
       "      <td>0.810</td>\n",
       "      <td>124016</td>\n",
       "      <td>0.417</td>\n",
       "      <td>0.919</td>\n",
       "      <td>9</td>\n",
       "      <td>0.1060</td>\n",
       "      <td>-10.783</td>\n",
       "      <td>0</td>\n",
       "      <td>0.0793</td>\n",
       "      <td>120.025</td>\n",
       "      <td>4</td>\n",
       "      <td>0.837</td>\n",
       "      <td>0</td>\n",
       "    </tr>\n",
       "  </tbody>\n",
       "</table>\n",
       "</div>"
      ],
      "text/plain": [
       "  artist_name                track_id  \\\n",
       "0          yg  2RM4jf1Xa9zPgMGRDiht8O   \n",
       "1          yg  1tHDG53xJNGsItRA3vfVgs   \n",
       "2       r3hab  6Wosx2euFPMT14UXiWudMy   \n",
       "3  chris_cooq  3J2Jpw61sO7l6Hc7qdYV91   \n",
       "4  chris_cooq  2jbYvQCyPgX3CdmAzeVeuS   \n",
       "5       curbo  26Y1lX7ZOpw9Ql3gGAlqLK   \n",
       "\n",
       "                                       track_name  acousticness  danceability  \\\n",
       "0  big_bank_feat._2_chainz,_big_sean,_nicki_minaj      0.005820         0.743   \n",
       "1                    band_drum_(feat._a$ap_rocky)      0.024400         0.846   \n",
       "2                                   radio_silence      0.025000         0.603   \n",
       "3                                         lactose      0.029400         0.800   \n",
       "4                             same_-_original_mix      0.000035         0.783   \n",
       "5                       debauchery_-_original_mix      0.001150         0.810   \n",
       "\n",
       "   duration_ms  energy  instrumentalness  key  liveness  loudness  mode  \\\n",
       "0       238373   0.339             0.000    1    0.0812    -7.678     1   \n",
       "1       214800   0.557             0.000    8    0.2860    -7.259     1   \n",
       "2       138913   0.723             0.000    9    0.0824    -5.890     0   \n",
       "3       125381   0.579             0.912    5    0.0994   -12.118     0   \n",
       "4       124016   0.792             0.878    7    0.0332   -10.277     1   \n",
       "5       124016   0.417             0.919    9    0.1060   -10.783     0   \n",
       "\n",
       "   speechiness    tempo  time_signature  valence  popularity  \n",
       "0       0.4090  203.927               4    0.118          15  \n",
       "1       0.4570  159.009               4    0.371           0  \n",
       "2       0.0454  114.966               4    0.382          56  \n",
       "3       0.0701  123.003               4    0.641           0  \n",
       "4       0.0661  120.047               4    0.928           0  \n",
       "5       0.0793  120.025               4    0.837           0  "
      ]
     },
     "execution_count": 10,
     "metadata": {},
     "output_type": "execute_result"
    }
   ],
   "source": [
    "df.head(6)"
   ]
  },
  {
   "cell_type": "code",
   "execution_count": 11,
   "id": "2127bf1b-58d4-4347-8616-da719382b56a",
   "metadata": {},
   "outputs": [
    {
     "data": {
      "text/plain": [
       "337"
      ]
     },
     "execution_count": 11,
     "metadata": {},
     "output_type": "execute_result"
    }
   ],
   "source": [
    "df.duplicated(subset = 'track_id').sum()"
   ]
  },
  {
   "cell_type": "code",
   "execution_count": 12,
   "id": "aadadeed-5e61-482b-8a8c-993a56c2572a",
   "metadata": {},
   "outputs": [
    {
     "data": {
      "text/html": [
       "<div>\n",
       "<style scoped>\n",
       "    .dataframe tbody tr th:only-of-type {\n",
       "        vertical-align: middle;\n",
       "    }\n",
       "\n",
       "    .dataframe tbody tr th {\n",
       "        vertical-align: top;\n",
       "    }\n",
       "\n",
       "    .dataframe thead th {\n",
       "        text-align: right;\n",
       "    }\n",
       "</style>\n",
       "<table border=\"1\" class=\"dataframe\">\n",
       "  <thead>\n",
       "    <tr style=\"text-align: right;\">\n",
       "      <th></th>\n",
       "      <th>artist_name</th>\n",
       "      <th>track_id</th>\n",
       "      <th>track_name</th>\n",
       "      <th>acousticness</th>\n",
       "      <th>danceability</th>\n",
       "      <th>duration_ms</th>\n",
       "      <th>energy</th>\n",
       "      <th>instrumentalness</th>\n",
       "      <th>key</th>\n",
       "      <th>liveness</th>\n",
       "      <th>loudness</th>\n",
       "      <th>mode</th>\n",
       "      <th>speechiness</th>\n",
       "      <th>tempo</th>\n",
       "      <th>time_signature</th>\n",
       "      <th>valence</th>\n",
       "      <th>popularity</th>\n",
       "    </tr>\n",
       "  </thead>\n",
       "  <tbody>\n",
       "    <tr>\n",
       "      <th>119258</th>\n",
       "      <td>clean_bandit</td>\n",
       "      <td>02mqJ3mpw8MLDmM2cqIVB9</td>\n",
       "      <td>baby_(feat._marina_and_the_diamonds_&amp;_luis_fon...</td>\n",
       "      <td>0.28500</td>\n",
       "      <td>0.718</td>\n",
       "      <td>195147</td>\n",
       "      <td>0.735</td>\n",
       "      <td>0.000000</td>\n",
       "      <td>0</td>\n",
       "      <td>0.0545</td>\n",
       "      <td>-8.198</td>\n",
       "      <td>0</td>\n",
       "      <td>0.3530</td>\n",
       "      <td>122.969</td>\n",
       "      <td>4</td>\n",
       "      <td>0.336</td>\n",
       "      <td>55</td>\n",
       "    </tr>\n",
       "    <tr>\n",
       "      <th>94195</th>\n",
       "      <td>clean_bandit</td>\n",
       "      <td>02mqJ3mpw8MLDmM2cqIVB9</td>\n",
       "      <td>baby_(feat._marina_&amp;_luis_fonsi)_-_luca_schrei...</td>\n",
       "      <td>0.28500</td>\n",
       "      <td>0.718</td>\n",
       "      <td>195147</td>\n",
       "      <td>0.735</td>\n",
       "      <td>0.000000</td>\n",
       "      <td>0</td>\n",
       "      <td>0.0545</td>\n",
       "      <td>-8.198</td>\n",
       "      <td>0</td>\n",
       "      <td>0.3530</td>\n",
       "      <td>122.969</td>\n",
       "      <td>4</td>\n",
       "      <td>0.336</td>\n",
       "      <td>55</td>\n",
       "    </tr>\n",
       "    <tr>\n",
       "      <th>121309</th>\n",
       "      <td>clean_bandit</td>\n",
       "      <td>02mqJ3mpw8MLDmM2cqIVB9</td>\n",
       "      <td>baby_(feat._marina_&amp;_luis_fonsi)_-_luca_schrei...</td>\n",
       "      <td>0.28500</td>\n",
       "      <td>0.718</td>\n",
       "      <td>195147</td>\n",
       "      <td>0.735</td>\n",
       "      <td>0.000000</td>\n",
       "      <td>0</td>\n",
       "      <td>0.0545</td>\n",
       "      <td>-8.198</td>\n",
       "      <td>0</td>\n",
       "      <td>0.3530</td>\n",
       "      <td>122.969</td>\n",
       "      <td>4</td>\n",
       "      <td>0.336</td>\n",
       "      <td>55</td>\n",
       "    </tr>\n",
       "    <tr>\n",
       "      <th>118079</th>\n",
       "      <td>hillsong_united</td>\n",
       "      <td>03UNuZgtHViMboufVtawCa</td>\n",
       "      <td>not_today</td>\n",
       "      <td>0.00236</td>\n",
       "      <td>0.580</td>\n",
       "      <td>253664</td>\n",
       "      <td>0.717</td>\n",
       "      <td>0.000014</td>\n",
       "      <td>2</td>\n",
       "      <td>0.1010</td>\n",
       "      <td>-8.014</td>\n",
       "      <td>1</td>\n",
       "      <td>0.0359</td>\n",
       "      <td>92.018</td>\n",
       "      <td>4</td>\n",
       "      <td>0.587</td>\n",
       "      <td>59</td>\n",
       "    </tr>\n",
       "    <tr>\n",
       "      <th>126535</th>\n",
       "      <td>hillsong_united</td>\n",
       "      <td>03UNuZgtHViMboufVtawCa</td>\n",
       "      <td>not_today</td>\n",
       "      <td>0.00236</td>\n",
       "      <td>0.580</td>\n",
       "      <td>253664</td>\n",
       "      <td>0.717</td>\n",
       "      <td>0.000014</td>\n",
       "      <td>2</td>\n",
       "      <td>0.1010</td>\n",
       "      <td>-8.014</td>\n",
       "      <td>1</td>\n",
       "      <td>0.0359</td>\n",
       "      <td>92.018</td>\n",
       "      <td>4</td>\n",
       "      <td>0.587</td>\n",
       "      <td>59</td>\n",
       "    </tr>\n",
       "    <tr>\n",
       "      <th>...</th>\n",
       "      <td>...</td>\n",
       "      <td>...</td>\n",
       "      <td>...</td>\n",
       "      <td>...</td>\n",
       "      <td>...</td>\n",
       "      <td>...</td>\n",
       "      <td>...</td>\n",
       "      <td>...</td>\n",
       "      <td>...</td>\n",
       "      <td>...</td>\n",
       "      <td>...</td>\n",
       "      <td>...</td>\n",
       "      <td>...</td>\n",
       "      <td>...</td>\n",
       "      <td>...</td>\n",
       "      <td>...</td>\n",
       "      <td>...</td>\n",
       "    </tr>\n",
       "    <tr>\n",
       "      <th>109532</th>\n",
       "      <td>astn</td>\n",
       "      <td>7tFgfAKJ7nEf4VquAbHkzZ</td>\n",
       "      <td>flowers</td>\n",
       "      <td>0.52400</td>\n",
       "      <td>0.466</td>\n",
       "      <td>181238</td>\n",
       "      <td>0.413</td>\n",
       "      <td>0.000000</td>\n",
       "      <td>3</td>\n",
       "      <td>0.3740</td>\n",
       "      <td>-11.772</td>\n",
       "      <td>0</td>\n",
       "      <td>0.4450</td>\n",
       "      <td>172.941</td>\n",
       "      <td>5</td>\n",
       "      <td>0.366</td>\n",
       "      <td>60</td>\n",
       "    </tr>\n",
       "    <tr>\n",
       "      <th>123961</th>\n",
       "      <td>a$ap_rocky</td>\n",
       "      <td>7ycWLEP1GsNjVvcjawXz3z</td>\n",
       "      <td>praise_the_lord_(da_shine)</td>\n",
       "      <td>0.06090</td>\n",
       "      <td>0.850</td>\n",
       "      <td>205040</td>\n",
       "      <td>0.569</td>\n",
       "      <td>0.081600</td>\n",
       "      <td>5</td>\n",
       "      <td>0.1000</td>\n",
       "      <td>-8.152</td>\n",
       "      <td>0</td>\n",
       "      <td>0.1360</td>\n",
       "      <td>80.020</td>\n",
       "      <td>4</td>\n",
       "      <td>0.294</td>\n",
       "      <td>86</td>\n",
       "    </tr>\n",
       "    <tr>\n",
       "      <th>120763</th>\n",
       "      <td>a$ap_rocky</td>\n",
       "      <td>7ycWLEP1GsNjVvcjawXz3z</td>\n",
       "      <td>praise_the_lord_(da_shine)_(feat._skepta)</td>\n",
       "      <td>0.06090</td>\n",
       "      <td>0.850</td>\n",
       "      <td>205040</td>\n",
       "      <td>0.569</td>\n",
       "      <td>0.081600</td>\n",
       "      <td>5</td>\n",
       "      <td>0.1000</td>\n",
       "      <td>-8.152</td>\n",
       "      <td>0</td>\n",
       "      <td>0.1360</td>\n",
       "      <td>80.020</td>\n",
       "      <td>4</td>\n",
       "      <td>0.294</td>\n",
       "      <td>86</td>\n",
       "    </tr>\n",
       "    <tr>\n",
       "      <th>130221</th>\n",
       "      <td>descemer_bueno</td>\n",
       "      <td>7yfha8TaN0DVNGp180Z5Zr</td>\n",
       "      <td>nos_fuimos_lejos_(feat._el_micha)</td>\n",
       "      <td>0.16200</td>\n",
       "      <td>0.755</td>\n",
       "      <td>209360</td>\n",
       "      <td>0.880</td>\n",
       "      <td>0.000013</td>\n",
       "      <td>7</td>\n",
       "      <td>0.1320</td>\n",
       "      <td>-3.003</td>\n",
       "      <td>1</td>\n",
       "      <td>0.0605</td>\n",
       "      <td>94.022</td>\n",
       "      <td>4</td>\n",
       "      <td>0.812</td>\n",
       "      <td>60</td>\n",
       "    </tr>\n",
       "    <tr>\n",
       "      <th>114143</th>\n",
       "      <td>descemer_bueno</td>\n",
       "      <td>7yfha8TaN0DVNGp180Z5Zr</td>\n",
       "      <td>nos_fuimos_lejos</td>\n",
       "      <td>0.16200</td>\n",
       "      <td>0.755</td>\n",
       "      <td>209360</td>\n",
       "      <td>0.880</td>\n",
       "      <td>0.000013</td>\n",
       "      <td>7</td>\n",
       "      <td>0.1320</td>\n",
       "      <td>-3.003</td>\n",
       "      <td>1</td>\n",
       "      <td>0.0605</td>\n",
       "      <td>94.022</td>\n",
       "      <td>4</td>\n",
       "      <td>0.812</td>\n",
       "      <td>60</td>\n",
       "    </tr>\n",
       "  </tbody>\n",
       "</table>\n",
       "<p>509 rows × 17 columns</p>\n",
       "</div>"
      ],
      "text/plain": [
       "            artist_name                track_id  \\\n",
       "119258     clean_bandit  02mqJ3mpw8MLDmM2cqIVB9   \n",
       "94195      clean_bandit  02mqJ3mpw8MLDmM2cqIVB9   \n",
       "121309     clean_bandit  02mqJ3mpw8MLDmM2cqIVB9   \n",
       "118079  hillsong_united  03UNuZgtHViMboufVtawCa   \n",
       "126535  hillsong_united  03UNuZgtHViMboufVtawCa   \n",
       "...                 ...                     ...   \n",
       "109532             astn  7tFgfAKJ7nEf4VquAbHkzZ   \n",
       "123961       a$ap_rocky  7ycWLEP1GsNjVvcjawXz3z   \n",
       "120763       a$ap_rocky  7ycWLEP1GsNjVvcjawXz3z   \n",
       "130221   descemer_bueno  7yfha8TaN0DVNGp180Z5Zr   \n",
       "114143   descemer_bueno  7yfha8TaN0DVNGp180Z5Zr   \n",
       "\n",
       "                                               track_name  acousticness  \\\n",
       "119258  baby_(feat._marina_and_the_diamonds_&_luis_fon...       0.28500   \n",
       "94195   baby_(feat._marina_&_luis_fonsi)_-_luca_schrei...       0.28500   \n",
       "121309  baby_(feat._marina_&_luis_fonsi)_-_luca_schrei...       0.28500   \n",
       "118079                                          not_today       0.00236   \n",
       "126535                                          not_today       0.00236   \n",
       "...                                                   ...           ...   \n",
       "109532                                            flowers       0.52400   \n",
       "123961                         praise_the_lord_(da_shine)       0.06090   \n",
       "120763          praise_the_lord_(da_shine)_(feat._skepta)       0.06090   \n",
       "130221                  nos_fuimos_lejos_(feat._el_micha)       0.16200   \n",
       "114143                                   nos_fuimos_lejos       0.16200   \n",
       "\n",
       "        danceability  duration_ms  energy  instrumentalness  key  liveness  \\\n",
       "119258         0.718       195147   0.735          0.000000    0    0.0545   \n",
       "94195          0.718       195147   0.735          0.000000    0    0.0545   \n",
       "121309         0.718       195147   0.735          0.000000    0    0.0545   \n",
       "118079         0.580       253664   0.717          0.000014    2    0.1010   \n",
       "126535         0.580       253664   0.717          0.000014    2    0.1010   \n",
       "...              ...          ...     ...               ...  ...       ...   \n",
       "109532         0.466       181238   0.413          0.000000    3    0.3740   \n",
       "123961         0.850       205040   0.569          0.081600    5    0.1000   \n",
       "120763         0.850       205040   0.569          0.081600    5    0.1000   \n",
       "130221         0.755       209360   0.880          0.000013    7    0.1320   \n",
       "114143         0.755       209360   0.880          0.000013    7    0.1320   \n",
       "\n",
       "        loudness  mode  speechiness    tempo  time_signature  valence  \\\n",
       "119258    -8.198     0       0.3530  122.969               4    0.336   \n",
       "94195     -8.198     0       0.3530  122.969               4    0.336   \n",
       "121309    -8.198     0       0.3530  122.969               4    0.336   \n",
       "118079    -8.014     1       0.0359   92.018               4    0.587   \n",
       "126535    -8.014     1       0.0359   92.018               4    0.587   \n",
       "...          ...   ...          ...      ...             ...      ...   \n",
       "109532   -11.772     0       0.4450  172.941               5    0.366   \n",
       "123961    -8.152     0       0.1360   80.020               4    0.294   \n",
       "120763    -8.152     0       0.1360   80.020               4    0.294   \n",
       "130221    -3.003     1       0.0605   94.022               4    0.812   \n",
       "114143    -3.003     1       0.0605   94.022               4    0.812   \n",
       "\n",
       "        popularity  \n",
       "119258          55  \n",
       "94195           55  \n",
       "121309          55  \n",
       "118079          59  \n",
       "126535          59  \n",
       "...            ...  \n",
       "109532          60  \n",
       "123961          86  \n",
       "120763          86  \n",
       "130221          60  \n",
       "114143          60  \n",
       "\n",
       "[509 rows x 17 columns]"
      ]
     },
     "execution_count": 12,
     "metadata": {},
     "output_type": "execute_result"
    }
   ],
   "source": [
    "duplicated_songs = df[df.duplicated(subset = ['artist_name','track_id'], keep = False)]\n",
    "\n",
    "duplicated_songs.sort_values('track_id')"
   ]
  },
  {
   "cell_type": "code",
   "execution_count": 13,
   "id": "cd7f1c9f-83dd-494b-b811-bbc57ba0a17d",
   "metadata": {},
   "outputs": [],
   "source": [
    "df.drop_duplicates(subset = ['artist_name','track_id'], keep = 'first', inplace = True)"
   ]
  },
  {
   "cell_type": "code",
   "execution_count": 14,
   "id": "9488f806-cb36-4f6c-a926-87dbbd763212",
   "metadata": {},
   "outputs": [
    {
     "data": {
      "text/plain": [
       "79"
      ]
     },
     "execution_count": 14,
     "metadata": {},
     "output_type": "execute_result"
    }
   ],
   "source": [
    "df.duplicated(subset = 'track_id').sum()"
   ]
  },
  {
   "cell_type": "code",
   "execution_count": 15,
   "id": "1ac8c017-a403-43a3-ab78-505a5aa0d758",
   "metadata": {},
   "outputs": [
    {
     "data": {
      "text/html": [
       "<div>\n",
       "<style scoped>\n",
       "    .dataframe tbody tr th:only-of-type {\n",
       "        vertical-align: middle;\n",
       "    }\n",
       "\n",
       "    .dataframe tbody tr th {\n",
       "        vertical-align: top;\n",
       "    }\n",
       "\n",
       "    .dataframe thead th {\n",
       "        text-align: right;\n",
       "    }\n",
       "</style>\n",
       "<table border=\"1\" class=\"dataframe\">\n",
       "  <thead>\n",
       "    <tr style=\"text-align: right;\">\n",
       "      <th></th>\n",
       "      <th>artist_name</th>\n",
       "      <th>track_id</th>\n",
       "      <th>track_name</th>\n",
       "      <th>acousticness</th>\n",
       "      <th>danceability</th>\n",
       "      <th>duration_ms</th>\n",
       "      <th>energy</th>\n",
       "      <th>instrumentalness</th>\n",
       "      <th>key</th>\n",
       "      <th>liveness</th>\n",
       "      <th>loudness</th>\n",
       "      <th>mode</th>\n",
       "      <th>speechiness</th>\n",
       "      <th>tempo</th>\n",
       "      <th>time_signature</th>\n",
       "      <th>valence</th>\n",
       "      <th>popularity</th>\n",
       "    </tr>\n",
       "  </thead>\n",
       "  <tbody>\n",
       "    <tr>\n",
       "      <th>129441</th>\n",
       "      <td>the_piano_guys</td>\n",
       "      <td>06XspRiZpjqVdXVdJNVxzB</td>\n",
       "      <td>epiphany</td>\n",
       "      <td>0.98400</td>\n",
       "      <td>0.418</td>\n",
       "      <td>282000</td>\n",
       "      <td>0.269</td>\n",
       "      <td>0.867000</td>\n",
       "      <td>5</td>\n",
       "      <td>0.0983</td>\n",
       "      <td>-11.773</td>\n",
       "      <td>1</td>\n",
       "      <td>0.0342</td>\n",
       "      <td>135.920</td>\n",
       "      <td>4</td>\n",
       "      <td>0.1680</td>\n",
       "      <td>59</td>\n",
       "    </tr>\n",
       "    <tr>\n",
       "      <th>114853</th>\n",
       "      <td>si_hyuk_bang</td>\n",
       "      <td>06XspRiZpjqVdXVdJNVxzB</td>\n",
       "      <td>epiphany</td>\n",
       "      <td>0.98400</td>\n",
       "      <td>0.418</td>\n",
       "      <td>282000</td>\n",
       "      <td>0.269</td>\n",
       "      <td>0.867000</td>\n",
       "      <td>5</td>\n",
       "      <td>0.0983</td>\n",
       "      <td>-11.773</td>\n",
       "      <td>1</td>\n",
       "      <td>0.0342</td>\n",
       "      <td>135.920</td>\n",
       "      <td>4</td>\n",
       "      <td>0.1680</td>\n",
       "      <td>59</td>\n",
       "    </tr>\n",
       "    <tr>\n",
       "      <th>123604</th>\n",
       "      <td>ed_sheeran</td>\n",
       "      <td>0AOvD8LrdeDVDaLzSB7YsM</td>\n",
       "      <td>perfect</td>\n",
       "      <td>0.96200</td>\n",
       "      <td>0.300</td>\n",
       "      <td>224803</td>\n",
       "      <td>0.245</td>\n",
       "      <td>0.902000</td>\n",
       "      <td>7</td>\n",
       "      <td>0.1150</td>\n",
       "      <td>-12.223</td>\n",
       "      <td>1</td>\n",
       "      <td>0.0429</td>\n",
       "      <td>96.813</td>\n",
       "      <td>3</td>\n",
       "      <td>0.4960</td>\n",
       "      <td>56</td>\n",
       "    </tr>\n",
       "    <tr>\n",
       "      <th>3941</th>\n",
       "      <td>2cellos</td>\n",
       "      <td>0AOvD8LrdeDVDaLzSB7YsM</td>\n",
       "      <td>perfect</td>\n",
       "      <td>0.96200</td>\n",
       "      <td>0.300</td>\n",
       "      <td>224803</td>\n",
       "      <td>0.245</td>\n",
       "      <td>0.902000</td>\n",
       "      <td>7</td>\n",
       "      <td>0.1150</td>\n",
       "      <td>-12.223</td>\n",
       "      <td>1</td>\n",
       "      <td>0.0429</td>\n",
       "      <td>96.813</td>\n",
       "      <td>3</td>\n",
       "      <td>0.4960</td>\n",
       "      <td>56</td>\n",
       "    </tr>\n",
       "    <tr>\n",
       "      <th>118293</th>\n",
       "      <td>the_belonging_co</td>\n",
       "      <td>0AiQLGevpr9XOc9kIRjyuB</td>\n",
       "      <td>isn't_he_(this_jesus)_[feat._natalie_grant]</td>\n",
       "      <td>0.11800</td>\n",
       "      <td>0.224</td>\n",
       "      <td>590437</td>\n",
       "      <td>0.467</td>\n",
       "      <td>0.000000</td>\n",
       "      <td>8</td>\n",
       "      <td>0.0881</td>\n",
       "      <td>-7.287</td>\n",
       "      <td>1</td>\n",
       "      <td>0.0321</td>\n",
       "      <td>144.012</td>\n",
       "      <td>4</td>\n",
       "      <td>0.0622</td>\n",
       "      <td>56</td>\n",
       "    </tr>\n",
       "    <tr>\n",
       "      <th>...</th>\n",
       "      <td>...</td>\n",
       "      <td>...</td>\n",
       "      <td>...</td>\n",
       "      <td>...</td>\n",
       "      <td>...</td>\n",
       "      <td>...</td>\n",
       "      <td>...</td>\n",
       "      <td>...</td>\n",
       "      <td>...</td>\n",
       "      <td>...</td>\n",
       "      <td>...</td>\n",
       "      <td>...</td>\n",
       "      <td>...</td>\n",
       "      <td>...</td>\n",
       "      <td>...</td>\n",
       "      <td>...</td>\n",
       "      <td>...</td>\n",
       "    </tr>\n",
       "    <tr>\n",
       "      <th>110746</th>\n",
       "      <td>the_fever_333</td>\n",
       "      <td>7mqJvR6BgtGbOssGZAfdaP</td>\n",
       "      <td>walking_in_my_shoes</td>\n",
       "      <td>0.00941</td>\n",
       "      <td>0.633</td>\n",
       "      <td>171810</td>\n",
       "      <td>0.777</td>\n",
       "      <td>0.000302</td>\n",
       "      <td>9</td>\n",
       "      <td>0.1670</td>\n",
       "      <td>-4.995</td>\n",
       "      <td>1</td>\n",
       "      <td>0.0528</td>\n",
       "      <td>130.027</td>\n",
       "      <td>4</td>\n",
       "      <td>0.2990</td>\n",
       "      <td>54</td>\n",
       "    </tr>\n",
       "    <tr>\n",
       "      <th>118465</th>\n",
       "      <td>rizzi_myers</td>\n",
       "      <td>7oSlVvRoT2P4r4xeqRjMCU</td>\n",
       "      <td>empty_grave</td>\n",
       "      <td>0.74600</td>\n",
       "      <td>0.660</td>\n",
       "      <td>254810</td>\n",
       "      <td>0.494</td>\n",
       "      <td>0.000000</td>\n",
       "      <td>3</td>\n",
       "      <td>0.0877</td>\n",
       "      <td>-10.888</td>\n",
       "      <td>0</td>\n",
       "      <td>0.1280</td>\n",
       "      <td>170.043</td>\n",
       "      <td>4</td>\n",
       "      <td>0.4200</td>\n",
       "      <td>47</td>\n",
       "    </tr>\n",
       "    <tr>\n",
       "      <th>129628</th>\n",
       "      <td>upchurch</td>\n",
       "      <td>7oSlVvRoT2P4r4xeqRjMCU</td>\n",
       "      <td>empty_grave</td>\n",
       "      <td>0.74600</td>\n",
       "      <td>0.660</td>\n",
       "      <td>254810</td>\n",
       "      <td>0.494</td>\n",
       "      <td>0.000000</td>\n",
       "      <td>3</td>\n",
       "      <td>0.0877</td>\n",
       "      <td>-10.888</td>\n",
       "      <td>0</td>\n",
       "      <td>0.1280</td>\n",
       "      <td>170.043</td>\n",
       "      <td>4</td>\n",
       "      <td>0.4200</td>\n",
       "      <td>47</td>\n",
       "    </tr>\n",
       "    <tr>\n",
       "      <th>96970</th>\n",
       "      <td>ondi_vil</td>\n",
       "      <td>7zlGyAsvNMOdhTU068f79f</td>\n",
       "      <td>please_come_back</td>\n",
       "      <td>0.51000</td>\n",
       "      <td>0.737</td>\n",
       "      <td>121522</td>\n",
       "      <td>0.241</td>\n",
       "      <td>0.005720</td>\n",
       "      <td>9</td>\n",
       "      <td>0.1080</td>\n",
       "      <td>-16.034</td>\n",
       "      <td>0</td>\n",
       "      <td>0.0882</td>\n",
       "      <td>100.000</td>\n",
       "      <td>4</td>\n",
       "      <td>0.3450</td>\n",
       "      <td>63</td>\n",
       "    </tr>\n",
       "    <tr>\n",
       "      <th>128933</th>\n",
       "      <td>teqkoi</td>\n",
       "      <td>7zlGyAsvNMOdhTU068f79f</td>\n",
       "      <td>please_come_back</td>\n",
       "      <td>0.51000</td>\n",
       "      <td>0.737</td>\n",
       "      <td>121522</td>\n",
       "      <td>0.241</td>\n",
       "      <td>0.005720</td>\n",
       "      <td>9</td>\n",
       "      <td>0.1080</td>\n",
       "      <td>-16.034</td>\n",
       "      <td>0</td>\n",
       "      <td>0.0882</td>\n",
       "      <td>100.000</td>\n",
       "      <td>4</td>\n",
       "      <td>0.3450</td>\n",
       "      <td>63</td>\n",
       "    </tr>\n",
       "  </tbody>\n",
       "</table>\n",
       "<p>157 rows × 17 columns</p>\n",
       "</div>"
      ],
      "text/plain": [
       "             artist_name                track_id  \\\n",
       "129441    the_piano_guys  06XspRiZpjqVdXVdJNVxzB   \n",
       "114853      si_hyuk_bang  06XspRiZpjqVdXVdJNVxzB   \n",
       "123604        ed_sheeran  0AOvD8LrdeDVDaLzSB7YsM   \n",
       "3941             2cellos  0AOvD8LrdeDVDaLzSB7YsM   \n",
       "118293  the_belonging_co  0AiQLGevpr9XOc9kIRjyuB   \n",
       "...                  ...                     ...   \n",
       "110746     the_fever_333  7mqJvR6BgtGbOssGZAfdaP   \n",
       "118465       rizzi_myers  7oSlVvRoT2P4r4xeqRjMCU   \n",
       "129628          upchurch  7oSlVvRoT2P4r4xeqRjMCU   \n",
       "96970           ondi_vil  7zlGyAsvNMOdhTU068f79f   \n",
       "128933            teqkoi  7zlGyAsvNMOdhTU068f79f   \n",
       "\n",
       "                                         track_name  acousticness  \\\n",
       "129441                                     epiphany       0.98400   \n",
       "114853                                     epiphany       0.98400   \n",
       "123604                                      perfect       0.96200   \n",
       "3941                                        perfect       0.96200   \n",
       "118293  isn't_he_(this_jesus)_[feat._natalie_grant]       0.11800   \n",
       "...                                             ...           ...   \n",
       "110746                          walking_in_my_shoes       0.00941   \n",
       "118465                                  empty_grave       0.74600   \n",
       "129628                                  empty_grave       0.74600   \n",
       "96970                              please_come_back       0.51000   \n",
       "128933                             please_come_back       0.51000   \n",
       "\n",
       "        danceability  duration_ms  energy  instrumentalness  key  liveness  \\\n",
       "129441         0.418       282000   0.269          0.867000    5    0.0983   \n",
       "114853         0.418       282000   0.269          0.867000    5    0.0983   \n",
       "123604         0.300       224803   0.245          0.902000    7    0.1150   \n",
       "3941           0.300       224803   0.245          0.902000    7    0.1150   \n",
       "118293         0.224       590437   0.467          0.000000    8    0.0881   \n",
       "...              ...          ...     ...               ...  ...       ...   \n",
       "110746         0.633       171810   0.777          0.000302    9    0.1670   \n",
       "118465         0.660       254810   0.494          0.000000    3    0.0877   \n",
       "129628         0.660       254810   0.494          0.000000    3    0.0877   \n",
       "96970          0.737       121522   0.241          0.005720    9    0.1080   \n",
       "128933         0.737       121522   0.241          0.005720    9    0.1080   \n",
       "\n",
       "        loudness  mode  speechiness    tempo  time_signature  valence  \\\n",
       "129441   -11.773     1       0.0342  135.920               4   0.1680   \n",
       "114853   -11.773     1       0.0342  135.920               4   0.1680   \n",
       "123604   -12.223     1       0.0429   96.813               3   0.4960   \n",
       "3941     -12.223     1       0.0429   96.813               3   0.4960   \n",
       "118293    -7.287     1       0.0321  144.012               4   0.0622   \n",
       "...          ...   ...          ...      ...             ...      ...   \n",
       "110746    -4.995     1       0.0528  130.027               4   0.2990   \n",
       "118465   -10.888     0       0.1280  170.043               4   0.4200   \n",
       "129628   -10.888     0       0.1280  170.043               4   0.4200   \n",
       "96970    -16.034     0       0.0882  100.000               4   0.3450   \n",
       "128933   -16.034     0       0.0882  100.000               4   0.3450   \n",
       "\n",
       "        popularity  \n",
       "129441          59  \n",
       "114853          59  \n",
       "123604          56  \n",
       "3941            56  \n",
       "118293          56  \n",
       "...            ...  \n",
       "110746          54  \n",
       "118465          47  \n",
       "129628          47  \n",
       "96970           63  \n",
       "128933          63  \n",
       "\n",
       "[157 rows x 17 columns]"
      ]
     },
     "execution_count": 15,
     "metadata": {},
     "output_type": "execute_result"
    }
   ],
   "source": [
    "PWEs = df[df.duplicated(subset = ['track_id'], keep = False)]\n",
    "\n",
    "PWEs.sort_values('track_id')"
   ]
  },
  {
   "cell_type": "code",
   "execution_count": 16,
   "id": "62ed3811-8fb3-4540-a117-40a57ec81f12",
   "metadata": {},
   "outputs": [],
   "source": [
    "PWEs.drop_duplicates(subset = ['track_id','track_name'], keep = 'first', inplace = True)"
   ]
  },
  {
   "cell_type": "code",
   "execution_count": 17,
   "id": "62979d92-548c-4423-b5a5-3b2d965ff098",
   "metadata": {},
   "outputs": [
    {
     "data": {
      "text/plain": [
       "1"
      ]
     },
     "execution_count": 17,
     "metadata": {},
     "output_type": "execute_result"
    }
   ],
   "source": [
    "PWEs.duplicated('track_id').sum()"
   ]
  },
  {
   "cell_type": "code",
   "execution_count": 18,
   "id": "93fad2b6-7093-4477-ad79-0ada22a04a1a",
   "metadata": {},
   "outputs": [
    {
     "data": {
      "text/html": [
       "<div>\n",
       "<style scoped>\n",
       "    .dataframe tbody tr th:only-of-type {\n",
       "        vertical-align: middle;\n",
       "    }\n",
       "\n",
       "    .dataframe tbody tr th {\n",
       "        vertical-align: top;\n",
       "    }\n",
       "\n",
       "    .dataframe thead th {\n",
       "        text-align: right;\n",
       "    }\n",
       "</style>\n",
       "<table border=\"1\" class=\"dataframe\">\n",
       "  <thead>\n",
       "    <tr style=\"text-align: right;\">\n",
       "      <th></th>\n",
       "      <th>artist_name</th>\n",
       "      <th>track_id</th>\n",
       "      <th>track_name</th>\n",
       "      <th>acousticness</th>\n",
       "      <th>danceability</th>\n",
       "      <th>duration_ms</th>\n",
       "      <th>energy</th>\n",
       "      <th>instrumentalness</th>\n",
       "      <th>key</th>\n",
       "      <th>liveness</th>\n",
       "      <th>loudness</th>\n",
       "      <th>mode</th>\n",
       "      <th>speechiness</th>\n",
       "      <th>tempo</th>\n",
       "      <th>time_signature</th>\n",
       "      <th>valence</th>\n",
       "      <th>popularity</th>\n",
       "    </tr>\n",
       "  </thead>\n",
       "  <tbody>\n",
       "    <tr>\n",
       "      <th>116909</th>\n",
       "      <td>benj_pasek</td>\n",
       "      <td>3Jj5Jho1NVrUXi9j6Nunf1</td>\n",
       "      <td>a_million_dreams</td>\n",
       "      <td>0.986</td>\n",
       "      <td>0.566</td>\n",
       "      <td>285838</td>\n",
       "      <td>0.211</td>\n",
       "      <td>0.916</td>\n",
       "      <td>10</td>\n",
       "      <td>0.11</td>\n",
       "      <td>-19.529</td>\n",
       "      <td>1</td>\n",
       "      <td>0.0425</td>\n",
       "      <td>139.924</td>\n",
       "      <td>4</td>\n",
       "      <td>0.229</td>\n",
       "      <td>58</td>\n",
       "    </tr>\n",
       "  </tbody>\n",
       "</table>\n",
       "</div>"
      ],
      "text/plain": [
       "       artist_name                track_id        track_name  acousticness  \\\n",
       "116909  benj_pasek  3Jj5Jho1NVrUXi9j6Nunf1  a_million_dreams         0.986   \n",
       "\n",
       "        danceability  duration_ms  energy  instrumentalness  key  liveness  \\\n",
       "116909         0.566       285838   0.211             0.916   10      0.11   \n",
       "\n",
       "        loudness  mode  speechiness    tempo  time_signature  valence  \\\n",
       "116909   -19.529     1       0.0425  139.924               4    0.229   \n",
       "\n",
       "        popularity  \n",
       "116909          58  "
      ]
     },
     "execution_count": 18,
     "metadata": {},
     "output_type": "execute_result"
    }
   ],
   "source": [
    "PWEs[PWEs.duplicated('track_id')]"
   ]
  },
  {
   "cell_type": "code",
   "execution_count": 19,
   "id": "51dddd3d-2b67-410b-91e2-e469addf0c6f",
   "metadata": {},
   "outputs": [
    {
     "data": {
      "text/html": [
       "<div>\n",
       "<style scoped>\n",
       "    .dataframe tbody tr th:only-of-type {\n",
       "        vertical-align: middle;\n",
       "    }\n",
       "\n",
       "    .dataframe tbody tr th {\n",
       "        vertical-align: top;\n",
       "    }\n",
       "\n",
       "    .dataframe thead th {\n",
       "        text-align: right;\n",
       "    }\n",
       "</style>\n",
       "<table border=\"1\" class=\"dataframe\">\n",
       "  <thead>\n",
       "    <tr style=\"text-align: right;\">\n",
       "      <th></th>\n",
       "      <th>artist_name</th>\n",
       "      <th>track_id</th>\n",
       "      <th>track_name</th>\n",
       "      <th>acousticness</th>\n",
       "      <th>danceability</th>\n",
       "      <th>duration_ms</th>\n",
       "      <th>energy</th>\n",
       "      <th>instrumentalness</th>\n",
       "      <th>key</th>\n",
       "      <th>liveness</th>\n",
       "      <th>loudness</th>\n",
       "      <th>mode</th>\n",
       "      <th>speechiness</th>\n",
       "      <th>tempo</th>\n",
       "      <th>time_signature</th>\n",
       "      <th>valence</th>\n",
       "      <th>popularity</th>\n",
       "    </tr>\n",
       "  </thead>\n",
       "  <tbody>\n",
       "    <tr>\n",
       "      <th>104191</th>\n",
       "      <td>the_piano_guys</td>\n",
       "      <td>3Jj5Jho1NVrUXi9j6Nunf1</td>\n",
       "      <td>a_million_dreams_-_t</td>\n",
       "      <td>0.986</td>\n",
       "      <td>0.566</td>\n",
       "      <td>285838</td>\n",
       "      <td>0.211</td>\n",
       "      <td>0.916</td>\n",
       "      <td>10</td>\n",
       "      <td>0.11</td>\n",
       "      <td>-19.529</td>\n",
       "      <td>1</td>\n",
       "      <td>0.0425</td>\n",
       "      <td>139.924</td>\n",
       "      <td>4</td>\n",
       "      <td>0.229</td>\n",
       "      <td>58</td>\n",
       "    </tr>\n",
       "    <tr>\n",
       "      <th>116909</th>\n",
       "      <td>benj_pasek</td>\n",
       "      <td>3Jj5Jho1NVrUXi9j6Nunf1</td>\n",
       "      <td>a_million_dreams</td>\n",
       "      <td>0.986</td>\n",
       "      <td>0.566</td>\n",
       "      <td>285838</td>\n",
       "      <td>0.211</td>\n",
       "      <td>0.916</td>\n",
       "      <td>10</td>\n",
       "      <td>0.11</td>\n",
       "      <td>-19.529</td>\n",
       "      <td>1</td>\n",
       "      <td>0.0425</td>\n",
       "      <td>139.924</td>\n",
       "      <td>4</td>\n",
       "      <td>0.229</td>\n",
       "      <td>58</td>\n",
       "    </tr>\n",
       "  </tbody>\n",
       "</table>\n",
       "</div>"
      ],
      "text/plain": [
       "           artist_name                track_id            track_name  \\\n",
       "104191  the_piano_guys  3Jj5Jho1NVrUXi9j6Nunf1  a_million_dreams_-_t   \n",
       "116909      benj_pasek  3Jj5Jho1NVrUXi9j6Nunf1      a_million_dreams   \n",
       "\n",
       "        acousticness  danceability  duration_ms  energy  instrumentalness  \\\n",
       "104191         0.986         0.566       285838   0.211             0.916   \n",
       "116909         0.986         0.566       285838   0.211             0.916   \n",
       "\n",
       "        key  liveness  loudness  mode  speechiness    tempo  time_signature  \\\n",
       "104191   10      0.11   -19.529     1       0.0425  139.924               4   \n",
       "116909   10      0.11   -19.529     1       0.0425  139.924               4   \n",
       "\n",
       "        valence  popularity  \n",
       "104191    0.229          58  \n",
       "116909    0.229          58  "
      ]
     },
     "execution_count": 19,
     "metadata": {},
     "output_type": "execute_result"
    }
   ],
   "source": [
    "df[df['track_id'] == '3Jj5Jho1NVrUXi9j6Nunf1']"
   ]
  },
  {
   "cell_type": "code",
   "execution_count": 20,
   "id": "4cd11ceb-3d8f-48a8-b989-306dfbe763a4",
   "metadata": {},
   "outputs": [],
   "source": [
    "PWEs.drop_duplicates(subset = 'track_id', keep = 'first', inplace = True)"
   ]
  },
  {
   "cell_type": "code",
   "execution_count": 21,
   "id": "4207b756-7562-4a38-ba58-5e34041d776e",
   "metadata": {},
   "outputs": [
    {
     "data": {
      "text/plain": [
       "0"
      ]
     },
     "execution_count": 21,
     "metadata": {},
     "output_type": "execute_result"
    }
   ],
   "source": [
    "PWEs.duplicated('track_id').sum()"
   ]
  },
  {
   "cell_type": "code",
   "execution_count": 22,
   "id": "e2063fd4-95b6-457c-8b89-9b909f346944",
   "metadata": {},
   "outputs": [],
   "source": [
    "PWEs['artist_name'] = PWEs['artist_name'].replace(r'.*', '?', regex = True)"
   ]
  },
  {
   "cell_type": "code",
   "execution_count": 23,
   "id": "c436926f-ca9e-4bcc-b298-28dfbffbe40a",
   "metadata": {},
   "outputs": [],
   "source": [
    "df.drop_duplicates(subset = 'track_id', keep = False, inplace = True)"
   ]
  },
  {
   "cell_type": "code",
   "execution_count": 24,
   "id": "5213bbe0-d030-4ecb-bef7-49ece61c725d",
   "metadata": {},
   "outputs": [
    {
     "data": {
      "text/html": [
       "<div>\n",
       "<style scoped>\n",
       "    .dataframe tbody tr th:only-of-type {\n",
       "        vertical-align: middle;\n",
       "    }\n",
       "\n",
       "    .dataframe tbody tr th {\n",
       "        vertical-align: top;\n",
       "    }\n",
       "\n",
       "    .dataframe thead th {\n",
       "        text-align: right;\n",
       "    }\n",
       "</style>\n",
       "<table border=\"1\" class=\"dataframe\">\n",
       "  <thead>\n",
       "    <tr style=\"text-align: right;\">\n",
       "      <th></th>\n",
       "      <th>artist_name</th>\n",
       "      <th>track_id</th>\n",
       "      <th>track_name</th>\n",
       "      <th>acousticness</th>\n",
       "      <th>danceability</th>\n",
       "      <th>duration_ms</th>\n",
       "      <th>energy</th>\n",
       "      <th>instrumentalness</th>\n",
       "      <th>key</th>\n",
       "      <th>liveness</th>\n",
       "      <th>loudness</th>\n",
       "      <th>mode</th>\n",
       "      <th>speechiness</th>\n",
       "      <th>tempo</th>\n",
       "      <th>time_signature</th>\n",
       "      <th>valence</th>\n",
       "      <th>popularity</th>\n",
       "    </tr>\n",
       "  </thead>\n",
       "  <tbody>\n",
       "    <tr>\n",
       "      <th>94195</th>\n",
       "      <td>clean_bandit</td>\n",
       "      <td>02mqJ3mpw8MLDmM2cqIVB9</td>\n",
       "      <td>baby_(feat._marina_&amp;_luis_fonsi)_-_luca_schrei...</td>\n",
       "      <td>0.285</td>\n",
       "      <td>0.718</td>\n",
       "      <td>195147</td>\n",
       "      <td>0.735</td>\n",
       "      <td>0.0</td>\n",
       "      <td>0</td>\n",
       "      <td>0.0545</td>\n",
       "      <td>-8.198</td>\n",
       "      <td>0</td>\n",
       "      <td>0.353</td>\n",
       "      <td>122.969</td>\n",
       "      <td>4</td>\n",
       "      <td>0.336</td>\n",
       "      <td>55</td>\n",
       "    </tr>\n",
       "  </tbody>\n",
       "</table>\n",
       "</div>"
      ],
      "text/plain": [
       "        artist_name                track_id  \\\n",
       "94195  clean_bandit  02mqJ3mpw8MLDmM2cqIVB9   \n",
       "\n",
       "                                              track_name  acousticness  \\\n",
       "94195  baby_(feat._marina_&_luis_fonsi)_-_luca_schrei...         0.285   \n",
       "\n",
       "       danceability  duration_ms  energy  instrumentalness  key  liveness  \\\n",
       "94195         0.718       195147   0.735               0.0    0    0.0545   \n",
       "\n",
       "       loudness  mode  speechiness    tempo  time_signature  valence  \\\n",
       "94195    -8.198     0        0.353  122.969               4    0.336   \n",
       "\n",
       "       popularity  \n",
       "94195          55  "
      ]
     },
     "execution_count": 24,
     "metadata": {},
     "output_type": "execute_result"
    }
   ],
   "source": [
    "df[df['track_id'] == '02mqJ3mpw8MLDmM2cqIVB9']"
   ]
  },
  {
   "cell_type": "code",
   "execution_count": 25,
   "id": "df23f084-1934-4fc3-aeea-790b48631d87",
   "metadata": {},
   "outputs": [
    {
     "data": {
      "text/html": [
       "<div>\n",
       "<style scoped>\n",
       "    .dataframe tbody tr th:only-of-type {\n",
       "        vertical-align: middle;\n",
       "    }\n",
       "\n",
       "    .dataframe tbody tr th {\n",
       "        vertical-align: top;\n",
       "    }\n",
       "\n",
       "    .dataframe thead th {\n",
       "        text-align: right;\n",
       "    }\n",
       "</style>\n",
       "<table border=\"1\" class=\"dataframe\">\n",
       "  <thead>\n",
       "    <tr style=\"text-align: right;\">\n",
       "      <th></th>\n",
       "      <th>artist_name</th>\n",
       "      <th>track_id</th>\n",
       "      <th>track_name</th>\n",
       "      <th>acousticness</th>\n",
       "      <th>danceability</th>\n",
       "      <th>duration_ms</th>\n",
       "      <th>energy</th>\n",
       "      <th>instrumentalness</th>\n",
       "      <th>key</th>\n",
       "      <th>liveness</th>\n",
       "      <th>loudness</th>\n",
       "      <th>mode</th>\n",
       "      <th>speechiness</th>\n",
       "      <th>tempo</th>\n",
       "      <th>time_signature</th>\n",
       "      <th>valence</th>\n",
       "      <th>popularity</th>\n",
       "    </tr>\n",
       "  </thead>\n",
       "  <tbody>\n",
       "    <tr>\n",
       "      <th>79882</th>\n",
       "      <td>aristoteles</td>\n",
       "      <td>7e4j9wGPrvYCI7rC5OLD7W</td>\n",
       "      <td>never_had</td>\n",
       "      <td>0.10400</td>\n",
       "      <td>0.730</td>\n",
       "      <td>162000</td>\n",
       "      <td>0.710</td>\n",
       "      <td>0.000000</td>\n",
       "      <td>1</td>\n",
       "      <td>0.1140</td>\n",
       "      <td>-6.395</td>\n",
       "      <td>0</td>\n",
       "      <td>0.2370</td>\n",
       "      <td>120.270</td>\n",
       "      <td>4</td>\n",
       "      <td>0.387</td>\n",
       "      <td>9</td>\n",
       "    </tr>\n",
       "    <tr>\n",
       "      <th>73483</th>\n",
       "      <td>kulbir_jhinjer</td>\n",
       "      <td>2jVRZs6mN06wHYCAV5LGMX</td>\n",
       "      <td>jatt_-_a_reality</td>\n",
       "      <td>0.64000</td>\n",
       "      <td>0.653</td>\n",
       "      <td>262686</td>\n",
       "      <td>0.856</td>\n",
       "      <td>0.000000</td>\n",
       "      <td>1</td>\n",
       "      <td>0.2940</td>\n",
       "      <td>-2.364</td>\n",
       "      <td>0</td>\n",
       "      <td>0.2150</td>\n",
       "      <td>79.999</td>\n",
       "      <td>4</td>\n",
       "      <td>0.656</td>\n",
       "      <td>18</td>\n",
       "    </tr>\n",
       "    <tr>\n",
       "      <th>107919</th>\n",
       "      <td>veeno</td>\n",
       "      <td>0eQi5FB9F4Z3HqgTIu2Bqk</td>\n",
       "      <td>booty_fight</td>\n",
       "      <td>0.00251</td>\n",
       "      <td>0.590</td>\n",
       "      <td>227971</td>\n",
       "      <td>0.929</td>\n",
       "      <td>0.222000</td>\n",
       "      <td>8</td>\n",
       "      <td>0.1580</td>\n",
       "      <td>-3.542</td>\n",
       "      <td>0</td>\n",
       "      <td>0.0523</td>\n",
       "      <td>137.051</td>\n",
       "      <td>4</td>\n",
       "      <td>0.372</td>\n",
       "      <td>0</td>\n",
       "    </tr>\n",
       "    <tr>\n",
       "      <th>76352</th>\n",
       "      <td>prides</td>\n",
       "      <td>0QLkXjIGwxv2LaA43uhKpV</td>\n",
       "      <td>on_our_own</td>\n",
       "      <td>0.00989</td>\n",
       "      <td>0.687</td>\n",
       "      <td>223155</td>\n",
       "      <td>0.727</td>\n",
       "      <td>0.000002</td>\n",
       "      <td>5</td>\n",
       "      <td>0.1310</td>\n",
       "      <td>-6.284</td>\n",
       "      <td>1</td>\n",
       "      <td>0.0425</td>\n",
       "      <td>114.953</td>\n",
       "      <td>4</td>\n",
       "      <td>0.394</td>\n",
       "      <td>16</td>\n",
       "    </tr>\n",
       "    <tr>\n",
       "      <th>121795</th>\n",
       "      <td>bea_miller</td>\n",
       "      <td>6h3lMAmmpQDFqoHk9F99IR</td>\n",
       "      <td>s.l.u.t.</td>\n",
       "      <td>0.05430</td>\n",
       "      <td>0.729</td>\n",
       "      <td>179147</td>\n",
       "      <td>0.765</td>\n",
       "      <td>0.000000</td>\n",
       "      <td>8</td>\n",
       "      <td>0.1290</td>\n",
       "      <td>-4.472</td>\n",
       "      <td>1</td>\n",
       "      <td>0.0693</td>\n",
       "      <td>94.966</td>\n",
       "      <td>4</td>\n",
       "      <td>0.747</td>\n",
       "      <td>65</td>\n",
       "    </tr>\n",
       "    <tr>\n",
       "      <th>98286</th>\n",
       "      <td>mika_singh</td>\n",
       "      <td>4Cjz4a5rp1bVWCGBsbpRMq</td>\n",
       "      <td>mind_blowing</td>\n",
       "      <td>0.31100</td>\n",
       "      <td>0.745</td>\n",
       "      <td>221072</td>\n",
       "      <td>0.905</td>\n",
       "      <td>0.000727</td>\n",
       "      <td>5</td>\n",
       "      <td>0.3430</td>\n",
       "      <td>-3.164</td>\n",
       "      <td>0</td>\n",
       "      <td>0.2770</td>\n",
       "      <td>179.950</td>\n",
       "      <td>3</td>\n",
       "      <td>0.922</td>\n",
       "      <td>2</td>\n",
       "    </tr>\n",
       "    <tr>\n",
       "      <th>29170</th>\n",
       "      <td>noyz_narcos</td>\n",
       "      <td>6omR8yT1cfOhgLTzccpg9R</td>\n",
       "      <td>sinnò_me_moro</td>\n",
       "      <td>0.07740</td>\n",
       "      <td>0.490</td>\n",
       "      <td>213493</td>\n",
       "      <td>0.711</td>\n",
       "      <td>0.000001</td>\n",
       "      <td>1</td>\n",
       "      <td>0.0928</td>\n",
       "      <td>-7.030</td>\n",
       "      <td>1</td>\n",
       "      <td>0.2680</td>\n",
       "      <td>175.950</td>\n",
       "      <td>4</td>\n",
       "      <td>0.477</td>\n",
       "      <td>56</td>\n",
       "    </tr>\n",
       "    <tr>\n",
       "      <th>83678</th>\n",
       "      <td>cofresi</td>\n",
       "      <td>2pHrTQlmon7vrn1W7Xv2Db</td>\n",
       "      <td>got_me</td>\n",
       "      <td>0.11200</td>\n",
       "      <td>0.475</td>\n",
       "      <td>227727</td>\n",
       "      <td>0.917</td>\n",
       "      <td>0.000000</td>\n",
       "      <td>8</td>\n",
       "      <td>0.1700</td>\n",
       "      <td>-4.474</td>\n",
       "      <td>0</td>\n",
       "      <td>0.1760</td>\n",
       "      <td>154.085</td>\n",
       "      <td>4</td>\n",
       "      <td>0.681</td>\n",
       "      <td>11</td>\n",
       "    </tr>\n",
       "    <tr>\n",
       "      <th>86772</th>\n",
       "      <td>gustavo_goulart</td>\n",
       "      <td>2ABvhCjMlfD6muKGUdEf3e</td>\n",
       "      <td>menos</td>\n",
       "      <td>0.17100</td>\n",
       "      <td>0.619</td>\n",
       "      <td>258064</td>\n",
       "      <td>0.839</td>\n",
       "      <td>0.000000</td>\n",
       "      <td>4</td>\n",
       "      <td>0.5470</td>\n",
       "      <td>-8.413</td>\n",
       "      <td>0</td>\n",
       "      <td>0.0275</td>\n",
       "      <td>134.920</td>\n",
       "      <td>4</td>\n",
       "      <td>0.514</td>\n",
       "      <td>2</td>\n",
       "    </tr>\n",
       "    <tr>\n",
       "      <th>79407</th>\n",
       "      <td>monpremier</td>\n",
       "      <td>3W0sw3B9Jgbydd8rb9ueN2</td>\n",
       "      <td>mesaj</td>\n",
       "      <td>0.03300</td>\n",
       "      <td>0.713</td>\n",
       "      <td>350851</td>\n",
       "      <td>0.560</td>\n",
       "      <td>0.269000</td>\n",
       "      <td>4</td>\n",
       "      <td>0.2180</td>\n",
       "      <td>-9.450</td>\n",
       "      <td>0</td>\n",
       "      <td>0.0382</td>\n",
       "      <td>94.069</td>\n",
       "      <td>4</td>\n",
       "      <td>0.661</td>\n",
       "      <td>22</td>\n",
       "    </tr>\n",
       "  </tbody>\n",
       "</table>\n",
       "</div>"
      ],
      "text/plain": [
       "            artist_name                track_id        track_name  \\\n",
       "79882       aristoteles  7e4j9wGPrvYCI7rC5OLD7W         never_had   \n",
       "73483    kulbir_jhinjer  2jVRZs6mN06wHYCAV5LGMX  jatt_-_a_reality   \n",
       "107919            veeno  0eQi5FB9F4Z3HqgTIu2Bqk       booty_fight   \n",
       "76352            prides  0QLkXjIGwxv2LaA43uhKpV        on_our_own   \n",
       "121795       bea_miller  6h3lMAmmpQDFqoHk9F99IR          s.l.u.t.   \n",
       "98286        mika_singh  4Cjz4a5rp1bVWCGBsbpRMq      mind_blowing   \n",
       "29170       noyz_narcos  6omR8yT1cfOhgLTzccpg9R     sinnò_me_moro   \n",
       "83678           cofresi  2pHrTQlmon7vrn1W7Xv2Db            got_me   \n",
       "86772   gustavo_goulart  2ABvhCjMlfD6muKGUdEf3e             menos   \n",
       "79407        monpremier  3W0sw3B9Jgbydd8rb9ueN2             mesaj   \n",
       "\n",
       "        acousticness  danceability  duration_ms  energy  instrumentalness  \\\n",
       "79882        0.10400         0.730       162000   0.710          0.000000   \n",
       "73483        0.64000         0.653       262686   0.856          0.000000   \n",
       "107919       0.00251         0.590       227971   0.929          0.222000   \n",
       "76352        0.00989         0.687       223155   0.727          0.000002   \n",
       "121795       0.05430         0.729       179147   0.765          0.000000   \n",
       "98286        0.31100         0.745       221072   0.905          0.000727   \n",
       "29170        0.07740         0.490       213493   0.711          0.000001   \n",
       "83678        0.11200         0.475       227727   0.917          0.000000   \n",
       "86772        0.17100         0.619       258064   0.839          0.000000   \n",
       "79407        0.03300         0.713       350851   0.560          0.269000   \n",
       "\n",
       "        key  liveness  loudness  mode  speechiness    tempo  time_signature  \\\n",
       "79882     1    0.1140    -6.395     0       0.2370  120.270               4   \n",
       "73483     1    0.2940    -2.364     0       0.2150   79.999               4   \n",
       "107919    8    0.1580    -3.542     0       0.0523  137.051               4   \n",
       "76352     5    0.1310    -6.284     1       0.0425  114.953               4   \n",
       "121795    8    0.1290    -4.472     1       0.0693   94.966               4   \n",
       "98286     5    0.3430    -3.164     0       0.2770  179.950               3   \n",
       "29170     1    0.0928    -7.030     1       0.2680  175.950               4   \n",
       "83678     8    0.1700    -4.474     0       0.1760  154.085               4   \n",
       "86772     4    0.5470    -8.413     0       0.0275  134.920               4   \n",
       "79407     4    0.2180    -9.450     0       0.0382   94.069               4   \n",
       "\n",
       "        valence  popularity  \n",
       "79882     0.387           9  \n",
       "73483     0.656          18  \n",
       "107919    0.372           0  \n",
       "76352     0.394          16  \n",
       "121795    0.747          65  \n",
       "98286     0.922           2  \n",
       "29170     0.477          56  \n",
       "83678     0.681          11  \n",
       "86772     0.514           2  \n",
       "79407     0.661          22  "
      ]
     },
     "execution_count": 25,
     "metadata": {},
     "output_type": "execute_result"
    }
   ],
   "source": [
    "filtered_df = pd.concat([df, PWEs])\n",
    "\n",
    "filtered_df.sample(10)"
   ]
  },
  {
   "cell_type": "markdown",
   "id": "c93425e0-e662-404e-a9ad-86df200e66fe",
   "metadata": {},
   "source": [
    "##What are the top 5 songs in terms of popularity?"
   ]
  },
  {
   "cell_type": "code",
   "execution_count": 34,
   "id": "74116978-b66e-4657-bec3-81d148bff874",
   "metadata": {},
   "outputs": [
    {
     "data": {
      "application/vnd.plotly.v1+json": {
       "config": {
        "plotlyServerURL": "https://plot.ly"
       },
       "data": [
        {
         "cells": {
          "align": "center",
          "fill": {
           "color": "#6ad1f7"
          },
          "font": {
           "color": [
            "#b2b2b2",
            "#b2b2b2",
            "#b2b2b2"
           ],
           "size": 11
          },
          "values": [
           [
            "Daddy Yankee",
            "Post Malone",
            "Post Malone",
            "Billie Eilish",
            "Jonas Brothers"
           ],
           [
            "Con Calma",
            "Wow.",
            "Sunflower - Spider-Man: Into The Spider-Verse",
            "Bad Guy",
            "Sucker"
           ],
           [
            100,
            98,
            98,
            98,
            98
           ]
          ]
         },
         "header": {
          "align": "center",
          "fill": {
           "color": "#7AA874"
          },
          "font": {
           "color": [
            "#b2b2b2",
            "#b2b2b2",
            "#b2b2b2"
           ],
           "size": 15
          },
          "values": [
           "<b>Artist Name</b>",
           "<b>Track Name</b>",
           "<b>Popularity</b>"
          ]
         },
         "type": "table"
        }
       ],
       "layout": {
        "height": 200,
        "margin": {
         "b": 20,
         "l": 20,
         "r": 20,
         "t": 40
        },
        "template": {
         "data": {
          "bar": [
           {
            "error_x": {
             "color": "#2a3f5f"
            },
            "error_y": {
             "color": "#2a3f5f"
            },
            "marker": {
             "line": {
              "color": "#E5ECF6",
              "width": 0.5
             },
             "pattern": {
              "fillmode": "overlay",
              "size": 10,
              "solidity": 0.2
             }
            },
            "type": "bar"
           }
          ],
          "barpolar": [
           {
            "marker": {
             "line": {
              "color": "#E5ECF6",
              "width": 0.5
             },
             "pattern": {
              "fillmode": "overlay",
              "size": 10,
              "solidity": 0.2
             }
            },
            "type": "barpolar"
           }
          ],
          "carpet": [
           {
            "aaxis": {
             "endlinecolor": "#2a3f5f",
             "gridcolor": "white",
             "linecolor": "white",
             "minorgridcolor": "white",
             "startlinecolor": "#2a3f5f"
            },
            "baxis": {
             "endlinecolor": "#2a3f5f",
             "gridcolor": "white",
             "linecolor": "white",
             "minorgridcolor": "white",
             "startlinecolor": "#2a3f5f"
            },
            "type": "carpet"
           }
          ],
          "choropleth": [
           {
            "colorbar": {
             "outlinewidth": 0,
             "ticks": ""
            },
            "type": "choropleth"
           }
          ],
          "contour": [
           {
            "colorbar": {
             "outlinewidth": 0,
             "ticks": ""
            },
            "colorscale": [
             [
              0,
              "#0d0887"
             ],
             [
              0.1111111111111111,
              "#46039f"
             ],
             [
              0.2222222222222222,
              "#7201a8"
             ],
             [
              0.3333333333333333,
              "#9c179e"
             ],
             [
              0.4444444444444444,
              "#bd3786"
             ],
             [
              0.5555555555555556,
              "#d8576b"
             ],
             [
              0.6666666666666666,
              "#ed7953"
             ],
             [
              0.7777777777777778,
              "#fb9f3a"
             ],
             [
              0.8888888888888888,
              "#fdca26"
             ],
             [
              1,
              "#f0f921"
             ]
            ],
            "type": "contour"
           }
          ],
          "contourcarpet": [
           {
            "colorbar": {
             "outlinewidth": 0,
             "ticks": ""
            },
            "type": "contourcarpet"
           }
          ],
          "heatmap": [
           {
            "colorbar": {
             "outlinewidth": 0,
             "ticks": ""
            },
            "colorscale": [
             [
              0,
              "#0d0887"
             ],
             [
              0.1111111111111111,
              "#46039f"
             ],
             [
              0.2222222222222222,
              "#7201a8"
             ],
             [
              0.3333333333333333,
              "#9c179e"
             ],
             [
              0.4444444444444444,
              "#bd3786"
             ],
             [
              0.5555555555555556,
              "#d8576b"
             ],
             [
              0.6666666666666666,
              "#ed7953"
             ],
             [
              0.7777777777777778,
              "#fb9f3a"
             ],
             [
              0.8888888888888888,
              "#fdca26"
             ],
             [
              1,
              "#f0f921"
             ]
            ],
            "type": "heatmap"
           }
          ],
          "heatmapgl": [
           {
            "colorbar": {
             "outlinewidth": 0,
             "ticks": ""
            },
            "colorscale": [
             [
              0,
              "#0d0887"
             ],
             [
              0.1111111111111111,
              "#46039f"
             ],
             [
              0.2222222222222222,
              "#7201a8"
             ],
             [
              0.3333333333333333,
              "#9c179e"
             ],
             [
              0.4444444444444444,
              "#bd3786"
             ],
             [
              0.5555555555555556,
              "#d8576b"
             ],
             [
              0.6666666666666666,
              "#ed7953"
             ],
             [
              0.7777777777777778,
              "#fb9f3a"
             ],
             [
              0.8888888888888888,
              "#fdca26"
             ],
             [
              1,
              "#f0f921"
             ]
            ],
            "type": "heatmapgl"
           }
          ],
          "histogram": [
           {
            "marker": {
             "pattern": {
              "fillmode": "overlay",
              "size": 10,
              "solidity": 0.2
             }
            },
            "type": "histogram"
           }
          ],
          "histogram2d": [
           {
            "colorbar": {
             "outlinewidth": 0,
             "ticks": ""
            },
            "colorscale": [
             [
              0,
              "#0d0887"
             ],
             [
              0.1111111111111111,
              "#46039f"
             ],
             [
              0.2222222222222222,
              "#7201a8"
             ],
             [
              0.3333333333333333,
              "#9c179e"
             ],
             [
              0.4444444444444444,
              "#bd3786"
             ],
             [
              0.5555555555555556,
              "#d8576b"
             ],
             [
              0.6666666666666666,
              "#ed7953"
             ],
             [
              0.7777777777777778,
              "#fb9f3a"
             ],
             [
              0.8888888888888888,
              "#fdca26"
             ],
             [
              1,
              "#f0f921"
             ]
            ],
            "type": "histogram2d"
           }
          ],
          "histogram2dcontour": [
           {
            "colorbar": {
             "outlinewidth": 0,
             "ticks": ""
            },
            "colorscale": [
             [
              0,
              "#0d0887"
             ],
             [
              0.1111111111111111,
              "#46039f"
             ],
             [
              0.2222222222222222,
              "#7201a8"
             ],
             [
              0.3333333333333333,
              "#9c179e"
             ],
             [
              0.4444444444444444,
              "#bd3786"
             ],
             [
              0.5555555555555556,
              "#d8576b"
             ],
             [
              0.6666666666666666,
              "#ed7953"
             ],
             [
              0.7777777777777778,
              "#fb9f3a"
             ],
             [
              0.8888888888888888,
              "#fdca26"
             ],
             [
              1,
              "#f0f921"
             ]
            ],
            "type": "histogram2dcontour"
           }
          ],
          "mesh3d": [
           {
            "colorbar": {
             "outlinewidth": 0,
             "ticks": ""
            },
            "type": "mesh3d"
           }
          ],
          "parcoords": [
           {
            "line": {
             "colorbar": {
              "outlinewidth": 0,
              "ticks": ""
             }
            },
            "type": "parcoords"
           }
          ],
          "pie": [
           {
            "automargin": true,
            "type": "pie"
           }
          ],
          "scatter": [
           {
            "fillpattern": {
             "fillmode": "overlay",
             "size": 10,
             "solidity": 0.2
            },
            "type": "scatter"
           }
          ],
          "scatter3d": [
           {
            "line": {
             "colorbar": {
              "outlinewidth": 0,
              "ticks": ""
             }
            },
            "marker": {
             "colorbar": {
              "outlinewidth": 0,
              "ticks": ""
             }
            },
            "type": "scatter3d"
           }
          ],
          "scattercarpet": [
           {
            "marker": {
             "colorbar": {
              "outlinewidth": 0,
              "ticks": ""
             }
            },
            "type": "scattercarpet"
           }
          ],
          "scattergeo": [
           {
            "marker": {
             "colorbar": {
              "outlinewidth": 0,
              "ticks": ""
             }
            },
            "type": "scattergeo"
           }
          ],
          "scattergl": [
           {
            "marker": {
             "colorbar": {
              "outlinewidth": 0,
              "ticks": ""
             }
            },
            "type": "scattergl"
           }
          ],
          "scattermapbox": [
           {
            "marker": {
             "colorbar": {
              "outlinewidth": 0,
              "ticks": ""
             }
            },
            "type": "scattermapbox"
           }
          ],
          "scatterpolar": [
           {
            "marker": {
             "colorbar": {
              "outlinewidth": 0,
              "ticks": ""
             }
            },
            "type": "scatterpolar"
           }
          ],
          "scatterpolargl": [
           {
            "marker": {
             "colorbar": {
              "outlinewidth": 0,
              "ticks": ""
             }
            },
            "type": "scatterpolargl"
           }
          ],
          "scatterternary": [
           {
            "marker": {
             "colorbar": {
              "outlinewidth": 0,
              "ticks": ""
             }
            },
            "type": "scatterternary"
           }
          ],
          "surface": [
           {
            "colorbar": {
             "outlinewidth": 0,
             "ticks": ""
            },
            "colorscale": [
             [
              0,
              "#0d0887"
             ],
             [
              0.1111111111111111,
              "#46039f"
             ],
             [
              0.2222222222222222,
              "#7201a8"
             ],
             [
              0.3333333333333333,
              "#9c179e"
             ],
             [
              0.4444444444444444,
              "#bd3786"
             ],
             [
              0.5555555555555556,
              "#d8576b"
             ],
             [
              0.6666666666666666,
              "#ed7953"
             ],
             [
              0.7777777777777778,
              "#fb9f3a"
             ],
             [
              0.8888888888888888,
              "#fdca26"
             ],
             [
              1,
              "#f0f921"
             ]
            ],
            "type": "surface"
           }
          ],
          "table": [
           {
            "cells": {
             "fill": {
              "color": "#EBF0F8"
             },
             "line": {
              "color": "white"
             }
            },
            "header": {
             "fill": {
              "color": "#C8D4E3"
             },
             "line": {
              "color": "white"
             }
            },
            "type": "table"
           }
          ]
         },
         "layout": {
          "annotationdefaults": {
           "arrowcolor": "#2a3f5f",
           "arrowhead": 0,
           "arrowwidth": 1
          },
          "autotypenumbers": "strict",
          "coloraxis": {
           "colorbar": {
            "outlinewidth": 0,
            "ticks": ""
           }
          },
          "colorscale": {
           "diverging": [
            [
             0,
             "#8e0152"
            ],
            [
             0.1,
             "#c51b7d"
            ],
            [
             0.2,
             "#de77ae"
            ],
            [
             0.3,
             "#f1b6da"
            ],
            [
             0.4,
             "#fde0ef"
            ],
            [
             0.5,
             "#f7f7f7"
            ],
            [
             0.6,
             "#e6f5d0"
            ],
            [
             0.7,
             "#b8e186"
            ],
            [
             0.8,
             "#7fbc41"
            ],
            [
             0.9,
             "#4d9221"
            ],
            [
             1,
             "#276419"
            ]
           ],
           "sequential": [
            [
             0,
             "#0d0887"
            ],
            [
             0.1111111111111111,
             "#46039f"
            ],
            [
             0.2222222222222222,
             "#7201a8"
            ],
            [
             0.3333333333333333,
             "#9c179e"
            ],
            [
             0.4444444444444444,
             "#bd3786"
            ],
            [
             0.5555555555555556,
             "#d8576b"
            ],
            [
             0.6666666666666666,
             "#ed7953"
            ],
            [
             0.7777777777777778,
             "#fb9f3a"
            ],
            [
             0.8888888888888888,
             "#fdca26"
            ],
            [
             1,
             "#f0f921"
            ]
           ],
           "sequentialminus": [
            [
             0,
             "#0d0887"
            ],
            [
             0.1111111111111111,
             "#46039f"
            ],
            [
             0.2222222222222222,
             "#7201a8"
            ],
            [
             0.3333333333333333,
             "#9c179e"
            ],
            [
             0.4444444444444444,
             "#bd3786"
            ],
            [
             0.5555555555555556,
             "#d8576b"
            ],
            [
             0.6666666666666666,
             "#ed7953"
            ],
            [
             0.7777777777777778,
             "#fb9f3a"
            ],
            [
             0.8888888888888888,
             "#fdca26"
            ],
            [
             1,
             "#f0f921"
            ]
           ]
          },
          "colorway": [
           "#636efa",
           "#EF553B",
           "#00cc96",
           "#ab63fa",
           "#FFA15A",
           "#19d3f3",
           "#FF6692",
           "#B6E880",
           "#FF97FF",
           "#FECB52"
          ],
          "font": {
           "color": "#2a3f5f"
          },
          "geo": {
           "bgcolor": "white",
           "lakecolor": "white",
           "landcolor": "#E5ECF6",
           "showlakes": true,
           "showland": true,
           "subunitcolor": "white"
          },
          "hoverlabel": {
           "align": "left"
          },
          "hovermode": "closest",
          "mapbox": {
           "style": "light"
          },
          "paper_bgcolor": "white",
          "plot_bgcolor": "#E5ECF6",
          "polar": {
           "angularaxis": {
            "gridcolor": "white",
            "linecolor": "white",
            "ticks": ""
           },
           "bgcolor": "#E5ECF6",
           "radialaxis": {
            "gridcolor": "white",
            "linecolor": "white",
            "ticks": ""
           }
          },
          "scene": {
           "xaxis": {
            "backgroundcolor": "#E5ECF6",
            "gridcolor": "white",
            "gridwidth": 2,
            "linecolor": "white",
            "showbackground": true,
            "ticks": "",
            "zerolinecolor": "white"
           },
           "yaxis": {
            "backgroundcolor": "#E5ECF6",
            "gridcolor": "white",
            "gridwidth": 2,
            "linecolor": "white",
            "showbackground": true,
            "ticks": "",
            "zerolinecolor": "white"
           },
           "zaxis": {
            "backgroundcolor": "#E5ECF6",
            "gridcolor": "white",
            "gridwidth": 2,
            "linecolor": "white",
            "showbackground": true,
            "ticks": "",
            "zerolinecolor": "white"
           }
          },
          "shapedefaults": {
           "line": {
            "color": "#2a3f5f"
           }
          },
          "ternary": {
           "aaxis": {
            "gridcolor": "white",
            "linecolor": "white",
            "ticks": ""
           },
           "baxis": {
            "gridcolor": "white",
            "linecolor": "white",
            "ticks": ""
           },
           "bgcolor": "#E5ECF6",
           "caxis": {
            "gridcolor": "white",
            "linecolor": "white",
            "ticks": ""
           }
          },
          "title": {
           "x": 0.05
          },
          "xaxis": {
           "automargin": true,
           "gridcolor": "white",
           "linecolor": "white",
           "ticks": "",
           "title": {
            "standoff": 15
           },
           "zerolinecolor": "white",
           "zerolinewidth": 2
          },
          "yaxis": {
           "automargin": true,
           "gridcolor": "white",
           "linecolor": "white",
           "ticks": "",
           "title": {
            "standoff": 15
           },
           "zerolinecolor": "white",
           "zerolinewidth": 2
          }
         }
        },
        "title": {
         "font": {
          "color": "#000000",
          "size": 28
         },
         "text": "<b>The top 5 songs in terms of popularity</b>"
        },
        "width": 1000
       }
      },
      "image/png": "[encoded data removed]",
      "text/html": [
       "<div>                            <div id=\"cf6f7534-2026-462f-8ca7-529230fcbb01\" class=\"plotly-graph-div\" style=\"height:200px; width:1000px;\"></div>            <script type=\"text/javascript\">                require([\"plotly\"], function(Plotly) {                    window.PLOTLYENV=window.PLOTLYENV || {};                                    if (document.getElementById(\"cf6f7534-2026-462f-8ca7-529230fcbb01\")) {                    Plotly.newPlot(                        \"cf6f7534-2026-462f-8ca7-529230fcbb01\",                        [{\"cells\":{\"align\":\"center\",\"fill\":{\"color\":\"#6ad1f7\"},\"font\":{\"color\":[\"#b2b2b2\",\"#b2b2b2\",\"#b2b2b2\"],\"size\":11},\"values\":[[\"Daddy Yankee\",\"Post Malone\",\"Post Malone\",\"Billie Eilish\",\"Jonas Brothers\"],[\"Con Calma\",\"Wow.\",\"Sunflower - Spider-Man: Into The Spider-Verse\",\"Bad Guy\",\"Sucker\"],[100,98,98,98,98]]},\"header\":{\"align\":\"center\",\"fill\":{\"color\":\"#7AA874\"},\"font\":{\"color\":[\"#b2b2b2\",\"#b2b2b2\",\"#b2b2b2\"],\"size\":15},\"values\":[\"<b>Artist Name</b>\",\"<b>Track Name</b>\",\"<b>Popularity</b>\"]},\"type\":\"table\"}],                        {\"template\":{\"data\":{\"histogram2dcontour\":[{\"type\":\"histogram2dcontour\",\"colorbar\":{\"outlinewidth\":0,\"ticks\":\"\"},\"colorscale\":[[0.0,\"#0d0887\"],[0.1111111111111111,\"#46039f\"],[0.2222222222222222,\"#7201a8\"],[0.3333333333333333,\"#9c179e\"],[0.4444444444444444,\"#bd3786\"],[0.5555555555555556,\"#d8576b\"],[0.6666666666666666,\"#ed7953\"],[0.7777777777777778,\"#fb9f3a\"],[0.8888888888888888,\"#fdca26\"],[1.0,\"#f0f921\"]]}],\"choropleth\":[{\"type\":\"choropleth\",\"colorbar\":{\"outlinewidth\":0,\"ticks\":\"\"}}],\"histogram2d\":[{\"type\":\"histogram2d\",\"colorbar\":{\"outlinewidth\":0,\"ticks\":\"\"},\"colorscale\":[[0.0,\"#0d0887\"],[0.1111111111111111,\"#46039f\"],[0.2222222222222222,\"#7201a8\"],[0.3333333333333333,\"#9c179e\"],[0.4444444444444444,\"#bd3786\"],[0.5555555555555556,\"#d8576b\"],[0.6666666666666666,\"#ed7953\"],[0.7777777777777778,\"#fb9f3a\"],[0.8888888888888888,\"#fdca26\"],[1.0,\"#f0f921\"]]}],\"heatmap\":[{\"type\":\"heatmap\",\"colorbar\":{\"outlinewidth\":0,\"ticks\":\"\"},\"colorscale\":[[0.0,\"#0d0887\"],[0.1111111111111111,\"#46039f\"],[0.2222222222222222,\"#7201a8\"],[0.3333333333333333,\"#9c179e\"],[0.4444444444444444,\"#bd3786\"],[0.5555555555555556,\"#d8576b\"],[0.6666666666666666,\"#ed7953\"],[0.7777777777777778,\"#fb9f3a\"],[0.8888888888888888,\"#fdca26\"],[1.0,\"#f0f921\"]]}],\"heatmapgl\":[{\"type\":\"heatmapgl\",\"colorbar\":{\"outlinewidth\":0,\"ticks\":\"\"},\"colorscale\":[[0.0,\"#0d0887\"],[0.1111111111111111,\"#46039f\"],[0.2222222222222222,\"#7201a8\"],[0.3333333333333333,\"#9c179e\"],[0.4444444444444444,\"#bd3786\"],[0.5555555555555556,\"#d8576b\"],[0.6666666666666666,\"#ed7953\"],[0.7777777777777778,\"#fb9f3a\"],[0.8888888888888888,\"#fdca26\"],[1.0,\"#f0f921\"]]}],\"contourcarpet\":[{\"type\":\"contourcarpet\",\"colorbar\":{\"outlinewidth\":0,\"ticks\":\"\"}}],\"contour\":[{\"type\":\"contour\",\"colorbar\":{\"outlinewidth\":0,\"ticks\":\"\"},\"colorscale\":[[0.0,\"#0d0887\"],[0.1111111111111111,\"#46039f\"],[0.2222222222222222,\"#7201a8\"],[0.3333333333333333,\"#9c179e\"],[0.4444444444444444,\"#bd3786\"],[0.5555555555555556,\"#d8576b\"],[0.6666666666666666,\"#ed7953\"],[0.7777777777777778,\"#fb9f3a\"],[0.8888888888888888,\"#fdca26\"],[1.0,\"#f0f921\"]]}],\"surface\":[{\"type\":\"surface\",\"colorbar\":{\"outlinewidth\":0,\"ticks\":\"\"},\"colorscale\":[[0.0,\"#0d0887\"],[0.1111111111111111,\"#46039f\"],[0.2222222222222222,\"#7201a8\"],[0.3333333333333333,\"#9c179e\"],[0.4444444444444444,\"#bd3786\"],[0.5555555555555556,\"#d8576b\"],[0.6666666666666666,\"#ed7953\"],[0.7777777777777778,\"#fb9f3a\"],[0.8888888888888888,\"#fdca26\"],[1.0,\"#f0f921\"]]}],\"mesh3d\":[{\"type\":\"mesh3d\",\"colorbar\":{\"outlinewidth\":0,\"ticks\":\"\"}}],\"scatter\":[{\"fillpattern\":{\"fillmode\":\"overlay\",\"size\":10,\"solidity\":0.2},\"type\":\"scatter\"}],\"parcoords\":[{\"type\":\"parcoords\",\"line\":{\"colorbar\":{\"outlinewidth\":0,\"ticks\":\"\"}}}],\"scatterpolargl\":[{\"type\":\"scatterpolargl\",\"marker\":{\"colorbar\":{\"outlinewidth\":0,\"ticks\":\"\"}}}],\"bar\":[{\"error_x\":{\"color\":\"#2a3f5f\"},\"error_y\":{\"color\":\"#2a3f5f\"},\"marker\":{\"line\":{\"color\":\"#E5ECF6\",\"width\":0.5},\"pattern\":{\"fillmode\":\"overlay\",\"size\":10,\"solidity\":0.2}},\"type\":\"bar\"}],\"scattergeo\":[{\"type\":\"scattergeo\",\"marker\":{\"colorbar\":{\"outlinewidth\":0,\"ticks\":\"\"}}}],\"scatterpolar\":[{\"type\":\"scatterpolar\",\"marker\":{\"colorbar\":{\"outlinewidth\":0,\"ticks\":\"\"}}}],\"histogram\":[{\"marker\":{\"pattern\":{\"fillmode\":\"overlay\",\"size\":10,\"solidity\":0.2}},\"type\":\"histogram\"}],\"scattergl\":[{\"type\":\"scattergl\",\"marker\":{\"colorbar\":{\"outlinewidth\":0,\"ticks\":\"\"}}}],\"scatter3d\":[{\"type\":\"scatter3d\",\"line\":{\"colorbar\":{\"outlinewidth\":0,\"ticks\":\"\"}},\"marker\":{\"colorbar\":{\"outlinewidth\":0,\"ticks\":\"\"}}}],\"scattermapbox\":[{\"type\":\"scattermapbox\",\"marker\":{\"colorbar\":{\"outlinewidth\":0,\"ticks\":\"\"}}}],\"scatterternary\":[{\"type\":\"scatterternary\",\"marker\":{\"colorbar\":{\"outlinewidth\":0,\"ticks\":\"\"}}}],\"scattercarpet\":[{\"type\":\"scattercarpet\",\"marker\":{\"colorbar\":{\"outlinewidth\":0,\"ticks\":\"\"}}}],\"carpet\":[{\"aaxis\":{\"endlinecolor\":\"#2a3f5f\",\"gridcolor\":\"white\",\"linecolor\":\"white\",\"minorgridcolor\":\"white\",\"startlinecolor\":\"#2a3f5f\"},\"baxis\":{\"endlinecolor\":\"#2a3f5f\",\"gridcolor\":\"white\",\"linecolor\":\"white\",\"minorgridcolor\":\"white\",\"startlinecolor\":\"#2a3f5f\"},\"type\":\"carpet\"}],\"table\":[{\"cells\":{\"fill\":{\"color\":\"#EBF0F8\"},\"line\":{\"color\":\"white\"}},\"header\":{\"fill\":{\"color\":\"#C8D4E3\"},\"line\":{\"color\":\"white\"}},\"type\":\"table\"}],\"barpolar\":[{\"marker\":{\"line\":{\"color\":\"#E5ECF6\",\"width\":0.5},\"pattern\":{\"fillmode\":\"overlay\",\"size\":10,\"solidity\":0.2}},\"type\":\"barpolar\"}],\"pie\":[{\"automargin\":true,\"type\":\"pie\"}]},\"layout\":{\"autotypenumbers\":\"strict\",\"colorway\":[\"#636efa\",\"#EF553B\",\"#00cc96\",\"#ab63fa\",\"#FFA15A\",\"#19d3f3\",\"#FF6692\",\"#B6E880\",\"#FF97FF\",\"#FECB52\"],\"font\":{\"color\":\"#2a3f5f\"},\"hovermode\":\"closest\",\"hoverlabel\":{\"align\":\"left\"},\"paper_bgcolor\":\"white\",\"plot_bgcolor\":\"#E5ECF6\",\"polar\":{\"bgcolor\":\"#E5ECF6\",\"angularaxis\":{\"gridcolor\":\"white\",\"linecolor\":\"white\",\"ticks\":\"\"},\"radialaxis\":{\"gridcolor\":\"white\",\"linecolor\":\"white\",\"ticks\":\"\"}},\"ternary\":{\"bgcolor\":\"#E5ECF6\",\"aaxis\":{\"gridcolor\":\"white\",\"linecolor\":\"white\",\"ticks\":\"\"},\"baxis\":{\"gridcolor\":\"white\",\"linecolor\":\"white\",\"ticks\":\"\"},\"caxis\":{\"gridcolor\":\"white\",\"linecolor\":\"white\",\"ticks\":\"\"}},\"coloraxis\":{\"colorbar\":{\"outlinewidth\":0,\"ticks\":\"\"}},\"colorscale\":{\"sequential\":[[0.0,\"#0d0887\"],[0.1111111111111111,\"#46039f\"],[0.2222222222222222,\"#7201a8\"],[0.3333333333333333,\"#9c179e\"],[0.4444444444444444,\"#bd3786\"],[0.5555555555555556,\"#d8576b\"],[0.6666666666666666,\"#ed7953\"],[0.7777777777777778,\"#fb9f3a\"],[0.8888888888888888,\"#fdca26\"],[1.0,\"#f0f921\"]],\"sequentialminus\":[[0.0,\"#0d0887\"],[0.1111111111111111,\"#46039f\"],[0.2222222222222222,\"#7201a8\"],[0.3333333333333333,\"#9c179e\"],[0.4444444444444444,\"#bd3786\"],[0.5555555555555556,\"#d8576b\"],[0.6666666666666666,\"#ed7953\"],[0.7777777777777778,\"#fb9f3a\"],[0.8888888888888888,\"#fdca26\"],[1.0,\"#f0f921\"]],\"diverging\":[[0,\"#8e0152\"],[0.1,\"#c51b7d\"],[0.2,\"#de77ae\"],[0.3,\"#f1b6da\"],[0.4,\"#fde0ef\"],[0.5,\"#f7f7f7\"],[0.6,\"#e6f5d0\"],[0.7,\"#b8e186\"],[0.8,\"#7fbc41\"],[0.9,\"#4d9221\"],[1,\"#276419\"]]},\"xaxis\":{\"gridcolor\":\"white\",\"linecolor\":\"white\",\"ticks\":\"\",\"title\":{\"standoff\":15},\"zerolinecolor\":\"white\",\"automargin\":true,\"zerolinewidth\":2},\"yaxis\":{\"gridcolor\":\"white\",\"linecolor\":\"white\",\"ticks\":\"\",\"title\":{\"standoff\":15},\"zerolinecolor\":\"white\",\"automargin\":true,\"zerolinewidth\":2},\"scene\":{\"xaxis\":{\"backgroundcolor\":\"#E5ECF6\",\"gridcolor\":\"white\",\"linecolor\":\"white\",\"showbackground\":true,\"ticks\":\"\",\"zerolinecolor\":\"white\",\"gridwidth\":2},\"yaxis\":{\"backgroundcolor\":\"#E5ECF6\",\"gridcolor\":\"white\",\"linecolor\":\"white\",\"showbackground\":true,\"ticks\":\"\",\"zerolinecolor\":\"white\",\"gridwidth\":2},\"zaxis\":{\"backgroundcolor\":\"#E5ECF6\",\"gridcolor\":\"white\",\"linecolor\":\"white\",\"showbackground\":true,\"ticks\":\"\",\"zerolinecolor\":\"white\",\"gridwidth\":2}},\"shapedefaults\":{\"line\":{\"color\":\"#2a3f5f\"}},\"annotationdefaults\":{\"arrowcolor\":\"#2a3f5f\",\"arrowhead\":0,\"arrowwidth\":1},\"geo\":{\"bgcolor\":\"white\",\"landcolor\":\"#E5ECF6\",\"subunitcolor\":\"white\",\"showland\":true,\"showlakes\":true,\"lakecolor\":\"white\"},\"title\":{\"x\":0.05},\"mapbox\":{\"style\":\"light\"}}},\"title\":{\"font\":{\"size\":28,\"color\":\"#000000\"},\"text\":\"<b>The top 5 songs in terms of popularity</b>\"},\"margin\":{\"l\":20,\"r\":20,\"t\":40,\"b\":20},\"width\":1000,\"height\":200},                        {\"responsive\": true}                    ).then(function(){\n",
       "                            \n",
       "var gd = document.getElementById('cf6f7534-2026-462f-8ca7-529230fcbb01');\n",
       "var x = new MutationObserver(function (mutations, observer) {{\n",
       "        var display = window.getComputedStyle(gd).display;\n",
       "        if (!display || display === 'none') {{\n",
       "            console.log([gd, 'removed!']);\n",
       "            Plotly.purge(gd);\n",
       "            observer.disconnect();\n",
       "        }}\n",
       "}});\n",
       "\n",
       "// Listen for the removal of the full notebook cells\n",
       "var notebookContainer = gd.closest('#notebook-container');\n",
       "if (notebookContainer) {{\n",
       "    x.observe(notebookContainer, {childList: true});\n",
       "}}\n",
       "\n",
       "// Listen for the clearing of the current output cell\n",
       "var outputEl = gd.closest('.output');\n",
       "if (outputEl) {{\n",
       "    x.observe(outputEl, {childList: true});\n",
       "}}\n",
       "\n",
       "                        })                };                });            </script>        </div>"
      ]
     },
     "metadata": {},
     "output_type": "display_data"
    }
   ],
   "source": [
    "sorted_df_by_popularity = filtered_df.sort_values(by = 'popularity', ascending = False)\n",
    "\n",
    "top_5_artists = [name.title().replace('_', ' ') for name in sorted_df_by_popularity['artist_name'][0:5].to_list()]\n",
    "top_5_tracks = [name.title().replace('_', ' ') for name in sorted_df_by_popularity['track_name'][0:5].to_list()]\n",
    "\n",
    "table = go.Figure(data = [go.Table(\n",
    "    \n",
    "    header = dict(values = ['<b>Artist Name</b>', '<b>Track Name</b>', '<b>Popularity</b>'],\n",
    "                  fill_color = '#7AA874',\n",
    "                  font = dict(\n",
    "                  \n",
    "                      color = ['#b2b2b2', '#b2b2b2', '#b2b2b2'],\n",
    "                      size = 15\n",
    "                  \n",
    "                  ),\n",
    "                  align = 'center'),\n",
    "    \n",
    "    cells = dict(values = [top_5_artists, top_5_tracks, sorted_df_by_popularity['popularity'][0:5]],\n",
    "                           fill_color = '#6ad1f7',\n",
    "                           font = dict(\n",
    "                  \n",
    "                           color = ['#b2b2b2', '#b2b2b2', '#b2b2b2'],\n",
    "                           size = 11\n",
    "                  \n",
    "                           ),\n",
    "                           align = 'center'))\n",
    "                         \n",
    "])\n",
    "\n",
    "table.update_layout(\n",
    "    \n",
    "    title = {\n",
    "        \n",
    "        'text' : '<b>The top 5 songs in terms of popularity</b>',\n",
    "        'font' : {     \n",
    "            'size' : 28,\n",
    "             'color' : '#000000',\n",
    "        }\n",
    "        \n",
    "    },\n",
    "    width = 1000,\n",
    "    height = 200,\n",
    "    margin = dict(l = 20, r = 20, t = 40, b = 20)\n",
    "\n",
    ")\n",
    "\n",
    "table.show()\n"
   ]
  },
  {
   "cell_type": "code",
   "execution_count": 32,
   "id": "278e1d5f-fa05-484a-876f-d75b27948bd5",
   "metadata": {},
   "outputs": [],
   "source": [
    "##What are the top 5 songs with the highest loudness?"
   ]
  },
  {
   "cell_type": "code",
   "execution_count": 41,
   "id": "1a60e77f-46bf-4fc6-b2b6-76ce729dcc8e",
   "metadata": {},
   "outputs": [
    {
     "data": {
      "application/vnd.plotly.v1+json": {
       "config": {
        "plotlyServerURL": "https://plot.ly"
       },
       "data": [
        {
         "cells": {
          "align": "center",
          "fill": {
           "color": "#6ad1f7"
          },
          "font": {
           "color": [
            "#000000",
            "#000000",
            "#000000"
           ],
           "size": 11
          },
          "values": [
           [
            "Araabmuzik",
            "Steve Lieberman, The Gangsta Rabbi",
            "Araabmuzik",
            "Govind Bajaniya",
            "Ritu Chauhan"
           ],
           [
            "Bass",
            "The Diarrhea Song",
            "Lalalala",
            "Sajan Mara Dilni Rani",
            "Jija Ji Devghar Ghumadi"
           ],
           [
            1.806,
            1.75,
            1.187,
            0.935,
            0.905
           ]
          ]
         },
         "header": {
          "align": "center",
          "fill": {
           "color": "#7AA874"
          },
          "font": {
           "color": [
            "#b2b2b2",
            "#b2b2b2",
            "#b2b2b2"
           ],
           "size": 15
          },
          "values": [
           "<b>Artist Name</b>",
           "<b>Track Name</b>",
           "<b>Loudness</b>"
          ]
         },
         "type": "table"
        }
       ],
       "layout": {
        "height": 200,
        "margin": {
         "b": 20,
         "l": 20,
         "r": 20,
         "t": 40
        },
        "template": {
         "data": {
          "bar": [
           {
            "error_x": {
             "color": "#2a3f5f"
            },
            "error_y": {
             "color": "#2a3f5f"
            },
            "marker": {
             "line": {
              "color": "#E5ECF6",
              "width": 0.5
             },
             "pattern": {
              "fillmode": "overlay",
              "size": 10,
              "solidity": 0.2
             }
            },
            "type": "bar"
           }
          ],
          "barpolar": [
           {
            "marker": {
             "line": {
              "color": "#E5ECF6",
              "width": 0.5
             },
             "pattern": {
              "fillmode": "overlay",
              "size": 10,
              "solidity": 0.2
             }
            },
            "type": "barpolar"
           }
          ],
          "carpet": [
           {
            "aaxis": {
             "endlinecolor": "#2a3f5f",
             "gridcolor": "white",
             "linecolor": "white",
             "minorgridcolor": "white",
             "startlinecolor": "#2a3f5f"
            },
            "baxis": {
             "endlinecolor": "#2a3f5f",
             "gridcolor": "white",
             "linecolor": "white",
             "minorgridcolor": "white",
             "startlinecolor": "#2a3f5f"
            },
            "type": "carpet"
           }
          ],
          "choropleth": [
           {
            "colorbar": {
             "outlinewidth": 0,
             "ticks": ""
            },
            "type": "choropleth"
           }
          ],
          "contour": [
           {
            "colorbar": {
             "outlinewidth": 0,
             "ticks": ""
            },
            "colorscale": [
             [
              0,
              "#0d0887"
             ],
             [
              0.1111111111111111,
              "#46039f"
             ],
             [
              0.2222222222222222,
              "#7201a8"
             ],
             [
              0.3333333333333333,
              "#9c179e"
             ],
             [
              0.4444444444444444,
              "#bd3786"
             ],
             [
              0.5555555555555556,
              "#d8576b"
             ],
             [
              0.6666666666666666,
              "#ed7953"
             ],
             [
              0.7777777777777778,
              "#fb9f3a"
             ],
             [
              0.8888888888888888,
              "#fdca26"
             ],
             [
              1,
              "#f0f921"
             ]
            ],
            "type": "contour"
           }
          ],
          "contourcarpet": [
           {
            "colorbar": {
             "outlinewidth": 0,
             "ticks": ""
            },
            "type": "contourcarpet"
           }
          ],
          "heatmap": [
           {
            "colorbar": {
             "outlinewidth": 0,
             "ticks": ""
            },
            "colorscale": [
             [
              0,
              "#0d0887"
             ],
             [
              0.1111111111111111,
              "#46039f"
             ],
             [
              0.2222222222222222,
              "#7201a8"
             ],
             [
              0.3333333333333333,
              "#9c179e"
             ],
             [
              0.4444444444444444,
              "#bd3786"
             ],
             [
              0.5555555555555556,
              "#d8576b"
             ],
             [
              0.6666666666666666,
              "#ed7953"
             ],
             [
              0.7777777777777778,
              "#fb9f3a"
             ],
             [
              0.8888888888888888,
              "#fdca26"
             ],
             [
              1,
              "#f0f921"
             ]
            ],
            "type": "heatmap"
           }
          ],
          "heatmapgl": [
           {
            "colorbar": {
             "outlinewidth": 0,
             "ticks": ""
            },
            "colorscale": [
             [
              0,
              "#0d0887"
             ],
             [
              0.1111111111111111,
              "#46039f"
             ],
             [
              0.2222222222222222,
              "#7201a8"
             ],
             [
              0.3333333333333333,
              "#9c179e"
             ],
             [
              0.4444444444444444,
              "#bd3786"
             ],
             [
              0.5555555555555556,
              "#d8576b"
             ],
             [
              0.6666666666666666,
              "#ed7953"
             ],
             [
              0.7777777777777778,
              "#fb9f3a"
             ],
             [
              0.8888888888888888,
              "#fdca26"
             ],
             [
              1,
              "#f0f921"
             ]
            ],
            "type": "heatmapgl"
           }
          ],
          "histogram": [
           {
            "marker": {
             "pattern": {
              "fillmode": "overlay",
              "size": 10,
              "solidity": 0.2
             }
            },
            "type": "histogram"
           }
          ],
          "histogram2d": [
           {
            "colorbar": {
             "outlinewidth": 0,
             "ticks": ""
            },
            "colorscale": [
             [
              0,
              "#0d0887"
             ],
             [
              0.1111111111111111,
              "#46039f"
             ],
             [
              0.2222222222222222,
              "#7201a8"
             ],
             [
              0.3333333333333333,
              "#9c179e"
             ],
             [
              0.4444444444444444,
              "#bd3786"
             ],
             [
              0.5555555555555556,
              "#d8576b"
             ],
             [
              0.6666666666666666,
              "#ed7953"
             ],
             [
              0.7777777777777778,
              "#fb9f3a"
             ],
             [
              0.8888888888888888,
              "#fdca26"
             ],
             [
              1,
              "#f0f921"
             ]
            ],
            "type": "histogram2d"
           }
          ],
          "histogram2dcontour": [
           {
            "colorbar": {
             "outlinewidth": 0,
             "ticks": ""
            },
            "colorscale": [
             [
              0,
              "#0d0887"
             ],
             [
              0.1111111111111111,
              "#46039f"
             ],
             [
              0.2222222222222222,
              "#7201a8"
             ],
             [
              0.3333333333333333,
              "#9c179e"
             ],
             [
              0.4444444444444444,
              "#bd3786"
             ],
             [
              0.5555555555555556,
              "#d8576b"
             ],
             [
              0.6666666666666666,
              "#ed7953"
             ],
             [
              0.7777777777777778,
              "#fb9f3a"
             ],
             [
              0.8888888888888888,
              "#fdca26"
             ],
             [
              1,
              "#f0f921"
             ]
            ],
            "type": "histogram2dcontour"
           }
          ],
          "mesh3d": [
           {
            "colorbar": {
             "outlinewidth": 0,
             "ticks": ""
            },
            "type": "mesh3d"
           }
          ],
          "parcoords": [
           {
            "line": {
             "colorbar": {
              "outlinewidth": 0,
              "ticks": ""
             }
            },
            "type": "parcoords"
           }
          ],
          "pie": [
           {
            "automargin": true,
            "type": "pie"
           }
          ],
          "scatter": [
           {
            "fillpattern": {
             "fillmode": "overlay",
             "size": 10,
             "solidity": 0.2
            },
            "type": "scatter"
           }
          ],
          "scatter3d": [
           {
            "line": {
             "colorbar": {
              "outlinewidth": 0,
              "ticks": ""
             }
            },
            "marker": {
             "colorbar": {
              "outlinewidth": 0,
              "ticks": ""
             }
            },
            "type": "scatter3d"
           }
          ],
          "scattercarpet": [
           {
            "marker": {
             "colorbar": {
              "outlinewidth": 0,
              "ticks": ""
             }
            },
            "type": "scattercarpet"
           }
          ],
          "scattergeo": [
           {
            "marker": {
             "colorbar": {
              "outlinewidth": 0,
              "ticks": ""
             }
            },
            "type": "scattergeo"
           }
          ],
          "scattergl": [
           {
            "marker": {
             "colorbar": {
              "outlinewidth": 0,
              "ticks": ""
             }
            },
            "type": "scattergl"
           }
          ],
          "scattermapbox": [
           {
            "marker": {
             "colorbar": {
              "outlinewidth": 0,
              "ticks": ""
             }
            },
            "type": "scattermapbox"
           }
          ],
          "scatterpolar": [
           {
            "marker": {
             "colorbar": {
              "outlinewidth": 0,
              "ticks": ""
             }
            },
            "type": "scatterpolar"
           }
          ],
          "scatterpolargl": [
           {
            "marker": {
             "colorbar": {
              "outlinewidth": 0,
              "ticks": ""
             }
            },
            "type": "scatterpolargl"
           }
          ],
          "scatterternary": [
           {
            "marker": {
             "colorbar": {
              "outlinewidth": 0,
              "ticks": ""
             }
            },
            "type": "scatterternary"
           }
          ],
          "surface": [
           {
            "colorbar": {
             "outlinewidth": 0,
             "ticks": ""
            },
            "colorscale": [
             [
              0,
              "#0d0887"
             ],
             [
              0.1111111111111111,
              "#46039f"
             ],
             [
              0.2222222222222222,
              "#7201a8"
             ],
             [
              0.3333333333333333,
              "#9c179e"
             ],
             [
              0.4444444444444444,
              "#bd3786"
             ],
             [
              0.5555555555555556,
              "#d8576b"
             ],
             [
              0.6666666666666666,
              "#ed7953"
             ],
             [
              0.7777777777777778,
              "#fb9f3a"
             ],
             [
              0.8888888888888888,
              "#fdca26"
             ],
             [
              1,
              "#f0f921"
             ]
            ],
            "type": "surface"
           }
          ],
          "table": [
           {
            "cells": {
             "fill": {
              "color": "#EBF0F8"
             },
             "line": {
              "color": "white"
             }
            },
            "header": {
             "fill": {
              "color": "#C8D4E3"
             },
             "line": {
              "color": "white"
             }
            },
            "type": "table"
           }
          ]
         },
         "layout": {
          "annotationdefaults": {
           "arrowcolor": "#2a3f5f",
           "arrowhead": 0,
           "arrowwidth": 1
          },
          "autotypenumbers": "strict",
          "coloraxis": {
           "colorbar": {
            "outlinewidth": 0,
            "ticks": ""
           }
          },
          "colorscale": {
           "diverging": [
            [
             0,
             "#8e0152"
            ],
            [
             0.1,
             "#c51b7d"
            ],
            [
             0.2,
             "#de77ae"
            ],
            [
             0.3,
             "#f1b6da"
            ],
            [
             0.4,
             "#fde0ef"
            ],
            [
             0.5,
             "#f7f7f7"
            ],
            [
             0.6,
             "#e6f5d0"
            ],
            [
             0.7,
             "#b8e186"
            ],
            [
             0.8,
             "#7fbc41"
            ],
            [
             0.9,
             "#4d9221"
            ],
            [
             1,
             "#276419"
            ]
           ],
           "sequential": [
            [
             0,
             "#0d0887"
            ],
            [
             0.1111111111111111,
             "#46039f"
            ],
            [
             0.2222222222222222,
             "#7201a8"
            ],
            [
             0.3333333333333333,
             "#9c179e"
            ],
            [
             0.4444444444444444,
             "#bd3786"
            ],
            [
             0.5555555555555556,
             "#d8576b"
            ],
            [
             0.6666666666666666,
             "#ed7953"
            ],
            [
             0.7777777777777778,
             "#fb9f3a"
            ],
            [
             0.8888888888888888,
             "#fdca26"
            ],
            [
             1,
             "#f0f921"
            ]
           ],
           "sequentialminus": [
            [
             0,
             "#0d0887"
            ],
            [
             0.1111111111111111,
             "#46039f"
            ],
            [
             0.2222222222222222,
             "#7201a8"
            ],
            [
             0.3333333333333333,
             "#9c179e"
            ],
            [
             0.4444444444444444,
             "#bd3786"
            ],
            [
             0.5555555555555556,
             "#d8576b"
            ],
            [
             0.6666666666666666,
             "#ed7953"
            ],
            [
             0.7777777777777778,
             "#fb9f3a"
            ],
            [
             0.8888888888888888,
             "#fdca26"
            ],
            [
             1,
             "#f0f921"
            ]
           ]
          },
          "colorway": [
           "#636efa",
           "#EF553B",
           "#00cc96",
           "#ab63fa",
           "#FFA15A",
           "#19d3f3",
           "#FF6692",
           "#B6E880",
           "#FF97FF",
           "#FECB52"
          ],
          "font": {
           "color": "#2a3f5f"
          },
          "geo": {
           "bgcolor": "white",
           "lakecolor": "white",
           "landcolor": "#E5ECF6",
           "showlakes": true,
           "showland": true,
           "subunitcolor": "white"
          },
          "hoverlabel": {
           "align": "left"
          },
          "hovermode": "closest",
          "mapbox": {
           "style": "light"
          },
          "paper_bgcolor": "white",
          "plot_bgcolor": "#E5ECF6",
          "polar": {
           "angularaxis": {
            "gridcolor": "white",
            "linecolor": "white",
            "ticks": ""
           },
           "bgcolor": "#E5ECF6",
           "radialaxis": {
            "gridcolor": "white",
            "linecolor": "white",
            "ticks": ""
           }
          },
          "scene": {
           "xaxis": {
            "backgroundcolor": "#E5ECF6",
            "gridcolor": "white",
            "gridwidth": 2,
            "linecolor": "white",
            "showbackground": true,
            "ticks": "",
            "zerolinecolor": "white"
           },
           "yaxis": {
            "backgroundcolor": "#E5ECF6",
            "gridcolor": "white",
            "gridwidth": 2,
            "linecolor": "white",
            "showbackground": true,
            "ticks": "",
            "zerolinecolor": "white"
           },
           "zaxis": {
            "backgroundcolor": "#E5ECF6",
            "gridcolor": "white",
            "gridwidth": 2,
            "linecolor": "white",
            "showbackground": true,
            "ticks": "",
            "zerolinecolor": "white"
           }
          },
          "shapedefaults": {
           "line": {
            "color": "#2a3f5f"
           }
          },
          "ternary": {
           "aaxis": {
            "gridcolor": "white",
            "linecolor": "white",
            "ticks": ""
           },
           "baxis": {
            "gridcolor": "white",
            "linecolor": "white",
            "ticks": ""
           },
           "bgcolor": "#E5ECF6",
           "caxis": {
            "gridcolor": "white",
            "linecolor": "white",
            "ticks": ""
           }
          },
          "title": {
           "x": 0.05
          },
          "xaxis": {
           "automargin": true,
           "gridcolor": "white",
           "linecolor": "white",
           "ticks": "",
           "title": {
            "standoff": 15
           },
           "zerolinecolor": "white",
           "zerolinewidth": 2
          },
          "yaxis": {
           "automargin": true,
           "gridcolor": "white",
           "linecolor": "white",
           "ticks": "",
           "title": {
            "standoff": 15
           },
           "zerolinecolor": "white",
           "zerolinewidth": 2
          }
         }
        },
        "title": {
         "font": {
          "color": "#000000",
          "size": 28
         },
         "text": "<b>The top 5 songs with the highest loudness</b>"
        },
        "width": 1000
       }
      },
      "image/png": "[encoded data removed]",
      "text/html": [
       "<div>                            <div id=\"164fb436-799a-4adb-9551-d8fac316bfbc\" class=\"plotly-graph-div\" style=\"height:200px; width:1000px;\"></div>            <script type=\"text/javascript\">                require([\"plotly\"], function(Plotly) {                    window.PLOTLYENV=window.PLOTLYENV || {};                                    if (document.getElementById(\"164fb436-799a-4adb-9551-d8fac316bfbc\")) {                    Plotly.newPlot(                        \"164fb436-799a-4adb-9551-d8fac316bfbc\",                        [{\"cells\":{\"align\":\"center\",\"fill\":{\"color\":\"#6ad1f7\"},\"font\":{\"color\":[\"#000000\",\"#000000\",\"#000000\"],\"size\":11},\"values\":[[\"Araabmuzik\",\"Steve Lieberman, The Gangsta Rabbi\",\"Araabmuzik\",\"Govind Bajaniya\",\"Ritu Chauhan\"],[\"Bass\",\"The Diarrhea Song\",\"Lalalala\",\"Sajan Mara Dilni Rani\",\"Jija Ji Devghar Ghumadi\"],[1.806,1.75,1.187,0.935,0.905]]},\"header\":{\"align\":\"center\",\"fill\":{\"color\":\"#7AA874\"},\"font\":{\"color\":[\"#b2b2b2\",\"#b2b2b2\",\"#b2b2b2\"],\"size\":15},\"values\":[\"<b>Artist Name</b>\",\"<b>Track Name</b>\",\"<b>Loudness</b>\"]},\"type\":\"table\"}],                        {\"template\":{\"data\":{\"histogram2dcontour\":[{\"type\":\"histogram2dcontour\",\"colorbar\":{\"outlinewidth\":0,\"ticks\":\"\"},\"colorscale\":[[0.0,\"#0d0887\"],[0.1111111111111111,\"#46039f\"],[0.2222222222222222,\"#7201a8\"],[0.3333333333333333,\"#9c179e\"],[0.4444444444444444,\"#bd3786\"],[0.5555555555555556,\"#d8576b\"],[0.6666666666666666,\"#ed7953\"],[0.7777777777777778,\"#fb9f3a\"],[0.8888888888888888,\"#fdca26\"],[1.0,\"#f0f921\"]]}],\"choropleth\":[{\"type\":\"choropleth\",\"colorbar\":{\"outlinewidth\":0,\"ticks\":\"\"}}],\"histogram2d\":[{\"type\":\"histogram2d\",\"colorbar\":{\"outlinewidth\":0,\"ticks\":\"\"},\"colorscale\":[[0.0,\"#0d0887\"],[0.1111111111111111,\"#46039f\"],[0.2222222222222222,\"#7201a8\"],[0.3333333333333333,\"#9c179e\"],[0.4444444444444444,\"#bd3786\"],[0.5555555555555556,\"#d8576b\"],[0.6666666666666666,\"#ed7953\"],[0.7777777777777778,\"#fb9f3a\"],[0.8888888888888888,\"#fdca26\"],[1.0,\"#f0f921\"]]}],\"heatmap\":[{\"type\":\"heatmap\",\"colorbar\":{\"outlinewidth\":0,\"ticks\":\"\"},\"colorscale\":[[0.0,\"#0d0887\"],[0.1111111111111111,\"#46039f\"],[0.2222222222222222,\"#7201a8\"],[0.3333333333333333,\"#9c179e\"],[0.4444444444444444,\"#bd3786\"],[0.5555555555555556,\"#d8576b\"],[0.6666666666666666,\"#ed7953\"],[0.7777777777777778,\"#fb9f3a\"],[0.8888888888888888,\"#fdca26\"],[1.0,\"#f0f921\"]]}],\"heatmapgl\":[{\"type\":\"heatmapgl\",\"colorbar\":{\"outlinewidth\":0,\"ticks\":\"\"},\"colorscale\":[[0.0,\"#0d0887\"],[0.1111111111111111,\"#46039f\"],[0.2222222222222222,\"#7201a8\"],[0.3333333333333333,\"#9c179e\"],[0.4444444444444444,\"#bd3786\"],[0.5555555555555556,\"#d8576b\"],[0.6666666666666666,\"#ed7953\"],[0.7777777777777778,\"#fb9f3a\"],[0.8888888888888888,\"#fdca26\"],[1.0,\"#f0f921\"]]}],\"contourcarpet\":[{\"type\":\"contourcarpet\",\"colorbar\":{\"outlinewidth\":0,\"ticks\":\"\"}}],\"contour\":[{\"type\":\"contour\",\"colorbar\":{\"outlinewidth\":0,\"ticks\":\"\"},\"colorscale\":[[0.0,\"#0d0887\"],[0.1111111111111111,\"#46039f\"],[0.2222222222222222,\"#7201a8\"],[0.3333333333333333,\"#9c179e\"],[0.4444444444444444,\"#bd3786\"],[0.5555555555555556,\"#d8576b\"],[0.6666666666666666,\"#ed7953\"],[0.7777777777777778,\"#fb9f3a\"],[0.8888888888888888,\"#fdca26\"],[1.0,\"#f0f921\"]]}],\"surface\":[{\"type\":\"surface\",\"colorbar\":{\"outlinewidth\":0,\"ticks\":\"\"},\"colorscale\":[[0.0,\"#0d0887\"],[0.1111111111111111,\"#46039f\"],[0.2222222222222222,\"#7201a8\"],[0.3333333333333333,\"#9c179e\"],[0.4444444444444444,\"#bd3786\"],[0.5555555555555556,\"#d8576b\"],[0.6666666666666666,\"#ed7953\"],[0.7777777777777778,\"#fb9f3a\"],[0.8888888888888888,\"#fdca26\"],[1.0,\"#f0f921\"]]}],\"mesh3d\":[{\"type\":\"mesh3d\",\"colorbar\":{\"outlinewidth\":0,\"ticks\":\"\"}}],\"scatter\":[{\"fillpattern\":{\"fillmode\":\"overlay\",\"size\":10,\"solidity\":0.2},\"type\":\"scatter\"}],\"parcoords\":[{\"type\":\"parcoords\",\"line\":{\"colorbar\":{\"outlinewidth\":0,\"ticks\":\"\"}}}],\"scatterpolargl\":[{\"type\":\"scatterpolargl\",\"marker\":{\"colorbar\":{\"outlinewidth\":0,\"ticks\":\"\"}}}],\"bar\":[{\"error_x\":{\"color\":\"#2a3f5f\"},\"error_y\":{\"color\":\"#2a3f5f\"},\"marker\":{\"line\":{\"color\":\"#E5ECF6\",\"width\":0.5},\"pattern\":{\"fillmode\":\"overlay\",\"size\":10,\"solidity\":0.2}},\"type\":\"bar\"}],\"scattergeo\":[{\"type\":\"scattergeo\",\"marker\":{\"colorbar\":{\"outlinewidth\":0,\"ticks\":\"\"}}}],\"scatterpolar\":[{\"type\":\"scatterpolar\",\"marker\":{\"colorbar\":{\"outlinewidth\":0,\"ticks\":\"\"}}}],\"histogram\":[{\"marker\":{\"pattern\":{\"fillmode\":\"overlay\",\"size\":10,\"solidity\":0.2}},\"type\":\"histogram\"}],\"scattergl\":[{\"type\":\"scattergl\",\"marker\":{\"colorbar\":{\"outlinewidth\":0,\"ticks\":\"\"}}}],\"scatter3d\":[{\"type\":\"scatter3d\",\"line\":{\"colorbar\":{\"outlinewidth\":0,\"ticks\":\"\"}},\"marker\":{\"colorbar\":{\"outlinewidth\":0,\"ticks\":\"\"}}}],\"scattermapbox\":[{\"type\":\"scattermapbox\",\"marker\":{\"colorbar\":{\"outlinewidth\":0,\"ticks\":\"\"}}}],\"scatterternary\":[{\"type\":\"scatterternary\",\"marker\":{\"colorbar\":{\"outlinewidth\":0,\"ticks\":\"\"}}}],\"scattercarpet\":[{\"type\":\"scattercarpet\",\"marker\":{\"colorbar\":{\"outlinewidth\":0,\"ticks\":\"\"}}}],\"carpet\":[{\"aaxis\":{\"endlinecolor\":\"#2a3f5f\",\"gridcolor\":\"white\",\"linecolor\":\"white\",\"minorgridcolor\":\"white\",\"startlinecolor\":\"#2a3f5f\"},\"baxis\":{\"endlinecolor\":\"#2a3f5f\",\"gridcolor\":\"white\",\"linecolor\":\"white\",\"minorgridcolor\":\"white\",\"startlinecolor\":\"#2a3f5f\"},\"type\":\"carpet\"}],\"table\":[{\"cells\":{\"fill\":{\"color\":\"#EBF0F8\"},\"line\":{\"color\":\"white\"}},\"header\":{\"fill\":{\"color\":\"#C8D4E3\"},\"line\":{\"color\":\"white\"}},\"type\":\"table\"}],\"barpolar\":[{\"marker\":{\"line\":{\"color\":\"#E5ECF6\",\"width\":0.5},\"pattern\":{\"fillmode\":\"overlay\",\"size\":10,\"solidity\":0.2}},\"type\":\"barpolar\"}],\"pie\":[{\"automargin\":true,\"type\":\"pie\"}]},\"layout\":{\"autotypenumbers\":\"strict\",\"colorway\":[\"#636efa\",\"#EF553B\",\"#00cc96\",\"#ab63fa\",\"#FFA15A\",\"#19d3f3\",\"#FF6692\",\"#B6E880\",\"#FF97FF\",\"#FECB52\"],\"font\":{\"color\":\"#2a3f5f\"},\"hovermode\":\"closest\",\"hoverlabel\":{\"align\":\"left\"},\"paper_bgcolor\":\"white\",\"plot_bgcolor\":\"#E5ECF6\",\"polar\":{\"bgcolor\":\"#E5ECF6\",\"angularaxis\":{\"gridcolor\":\"white\",\"linecolor\":\"white\",\"ticks\":\"\"},\"radialaxis\":{\"gridcolor\":\"white\",\"linecolor\":\"white\",\"ticks\":\"\"}},\"ternary\":{\"bgcolor\":\"#E5ECF6\",\"aaxis\":{\"gridcolor\":\"white\",\"linecolor\":\"white\",\"ticks\":\"\"},\"baxis\":{\"gridcolor\":\"white\",\"linecolor\":\"white\",\"ticks\":\"\"},\"caxis\":{\"gridcolor\":\"white\",\"linecolor\":\"white\",\"ticks\":\"\"}},\"coloraxis\":{\"colorbar\":{\"outlinewidth\":0,\"ticks\":\"\"}},\"colorscale\":{\"sequential\":[[0.0,\"#0d0887\"],[0.1111111111111111,\"#46039f\"],[0.2222222222222222,\"#7201a8\"],[0.3333333333333333,\"#9c179e\"],[0.4444444444444444,\"#bd3786\"],[0.5555555555555556,\"#d8576b\"],[0.6666666666666666,\"#ed7953\"],[0.7777777777777778,\"#fb9f3a\"],[0.8888888888888888,\"#fdca26\"],[1.0,\"#f0f921\"]],\"sequentialminus\":[[0.0,\"#0d0887\"],[0.1111111111111111,\"#46039f\"],[0.2222222222222222,\"#7201a8\"],[0.3333333333333333,\"#9c179e\"],[0.4444444444444444,\"#bd3786\"],[0.5555555555555556,\"#d8576b\"],[0.6666666666666666,\"#ed7953\"],[0.7777777777777778,\"#fb9f3a\"],[0.8888888888888888,\"#fdca26\"],[1.0,\"#f0f921\"]],\"diverging\":[[0,\"#8e0152\"],[0.1,\"#c51b7d\"],[0.2,\"#de77ae\"],[0.3,\"#f1b6da\"],[0.4,\"#fde0ef\"],[0.5,\"#f7f7f7\"],[0.6,\"#e6f5d0\"],[0.7,\"#b8e186\"],[0.8,\"#7fbc41\"],[0.9,\"#4d9221\"],[1,\"#276419\"]]},\"xaxis\":{\"gridcolor\":\"white\",\"linecolor\":\"white\",\"ticks\":\"\",\"title\":{\"standoff\":15},\"zerolinecolor\":\"white\",\"automargin\":true,\"zerolinewidth\":2},\"yaxis\":{\"gridcolor\":\"white\",\"linecolor\":\"white\",\"ticks\":\"\",\"title\":{\"standoff\":15},\"zerolinecolor\":\"white\",\"automargin\":true,\"zerolinewidth\":2},\"scene\":{\"xaxis\":{\"backgroundcolor\":\"#E5ECF6\",\"gridcolor\":\"white\",\"linecolor\":\"white\",\"showbackground\":true,\"ticks\":\"\",\"zerolinecolor\":\"white\",\"gridwidth\":2},\"yaxis\":{\"backgroundcolor\":\"#E5ECF6\",\"gridcolor\":\"white\",\"linecolor\":\"white\",\"showbackground\":true,\"ticks\":\"\",\"zerolinecolor\":\"white\",\"gridwidth\":2},\"zaxis\":{\"backgroundcolor\":\"#E5ECF6\",\"gridcolor\":\"white\",\"linecolor\":\"white\",\"showbackground\":true,\"ticks\":\"\",\"zerolinecolor\":\"white\",\"gridwidth\":2}},\"shapedefaults\":{\"line\":{\"color\":\"#2a3f5f\"}},\"annotationdefaults\":{\"arrowcolor\":\"#2a3f5f\",\"arrowhead\":0,\"arrowwidth\":1},\"geo\":{\"bgcolor\":\"white\",\"landcolor\":\"#E5ECF6\",\"subunitcolor\":\"white\",\"showland\":true,\"showlakes\":true,\"lakecolor\":\"white\"},\"title\":{\"x\":0.05},\"mapbox\":{\"style\":\"light\"}}},\"title\":{\"font\":{\"size\":28,\"color\":\"#000000\"},\"text\":\"<b>The top 5 songs with the highest loudness</b>\"},\"margin\":{\"l\":20,\"r\":20,\"t\":40,\"b\":20},\"width\":1000,\"height\":200},                        {\"responsive\": true}                    ).then(function(){\n",
       "                            \n",
       "var gd = document.getElementById('164fb436-799a-4adb-9551-d8fac316bfbc');\n",
       "var x = new MutationObserver(function (mutations, observer) {{\n",
       "        var display = window.getComputedStyle(gd).display;\n",
       "        if (!display || display === 'none') {{\n",
       "            console.log([gd, 'removed!']);\n",
       "            Plotly.purge(gd);\n",
       "            observer.disconnect();\n",
       "        }}\n",
       "}});\n",
       "\n",
       "// Listen for the removal of the full notebook cells\n",
       "var notebookContainer = gd.closest('#notebook-container');\n",
       "if (notebookContainer) {{\n",
       "    x.observe(notebookContainer, {childList: true});\n",
       "}}\n",
       "\n",
       "// Listen for the clearing of the current output cell\n",
       "var outputEl = gd.closest('.output');\n",
       "if (outputEl) {{\n",
       "    x.observe(outputEl, {childList: true});\n",
       "}}\n",
       "\n",
       "                        })                };                });            </script>        </div>"
      ]
     },
     "metadata": {},
     "output_type": "display_data"
    }
   ],
   "source": [
    "sorted_df_by_loudness = filtered_df.sort_values(by = 'loudness', ascending = False)\n",
    "\n",
    "top_5_artists = [name.title().replace('_', ' ') for name in sorted_df_by_loudness['artist_name'][0:5].to_list()]\n",
    "top_5_tracks = [name.title().replace('_', ' ') for name in sorted_df_by_loudness['track_name'][0:5].to_list()]\n",
    "\n",
    "table = go.Figure(data = [go.Table(\n",
    "    \n",
    "    header = dict(values = ['<b>Artist Name</b>', '<b>Track Name</b>', '<b>Loudness</b>'],\n",
    "                  fill_color = '#7AA874',\n",
    "                  font = dict(\n",
    "                  \n",
    "                      color = ['#b2b2b2', '#b2b2b2', '#b2b2b2'],\n",
    "                      size = 15\n",
    "                  \n",
    "                  ),\n",
    "                  align = 'center'),\n",
    "    \n",
    "    cells = dict(values = [top_5_artists, top_5_tracks, sorted_df_by_loudness['loudness'][0:5]],\n",
    "                           fill_color = '#6ad1f7',\n",
    "                           font = dict(\n",
    "                  \n",
    "                           color = ['#000000', '#000000', '#000000'],\n",
    "                           size = 11\n",
    "                  \n",
    "                           ),\n",
    "                           align = 'center'))\n",
    "                         \n",
    "])\n",
    "table.update_layout(\n",
    "    \n",
    "    title = {\n",
    "        \n",
    "        'text' : '<b>The top 5 songs with the highest loudness</b>',\n",
    "        'font' : {     \n",
    "            'size' : 28,\n",
    "            'color' : '#000000',\n",
    "        }\n",
    "        \n",
    "    },\n",
    "    width = 1000,\n",
    "    height = 200,\n",
    "    margin = dict(l = 20, r = 20, t = 40, b = 20)\n",
    "\n",
    ")\n",
    "\n",
    "table.show()"
   ]
  },
  {
   "cell_type": "code",
   "execution_count": 37,
   "id": "73f55e23-9914-457b-9022-9ea522096e37",
   "metadata": {},
   "outputs": [],
   "source": [
    "## Which artist has the most danceable songs?"
   ]
  },
  {
   "cell_type": "code",
   "execution_count": 39,
   "id": "c4cac4e1-35c1-46c3-81a7-075b0baafa6c",
   "metadata": {},
   "outputs": [
    {
     "data": {
      "application/vnd.plotly.v1+json": {
       "config": {
        "plotlyServerURL": "https://plot.ly"
       },
       "data": [
        {
         "cells": {
          "align": "center",
          "fill": {
           "color": "#6ad1f7"
          },
          "font": {
           "color": [
            "#000000",
            "#000000",
            "#000000"
           ],
           "size": 11
          },
          "values": [
           "Louie Zong",
           "Tappy Toes",
           0.743
          ]
         },
         "header": {
          "align": "center",
          "fill": {
           "color": "#7AA874"
          },
          "font": {
           "color": [
            "#000000",
            "#000000",
            "#000000"
           ],
           "size": 15
          },
          "values": [
           "<b>Artist Name</b>",
           "<b>Track Name</b>",
           "<b>Danceability</b>"
          ]
         },
         "type": "table"
        }
       ],
       "layout": {
        "height": 150,
        "margin": {
         "b": 20,
         "l": 20,
         "r": 20,
         "t": 40
        },
        "template": {
         "data": {
          "bar": [
           {
            "error_x": {
             "color": "#2a3f5f"
            },
            "error_y": {
             "color": "#2a3f5f"
            },
            "marker": {
             "line": {
              "color": "#E5ECF6",
              "width": 0.5
             },
             "pattern": {
              "fillmode": "overlay",
              "size": 10,
              "solidity": 0.2
             }
            },
            "type": "bar"
           }
          ],
          "barpolar": [
           {
            "marker": {
             "line": {
              "color": "#E5ECF6",
              "width": 0.5
             },
             "pattern": {
              "fillmode": "overlay",
              "size": 10,
              "solidity": 0.2
             }
            },
            "type": "barpolar"
           }
          ],
          "carpet": [
           {
            "aaxis": {
             "endlinecolor": "#2a3f5f",
             "gridcolor": "white",
             "linecolor": "white",
             "minorgridcolor": "white",
             "startlinecolor": "#2a3f5f"
            },
            "baxis": {
             "endlinecolor": "#2a3f5f",
             "gridcolor": "white",
             "linecolor": "white",
             "minorgridcolor": "white",
             "startlinecolor": "#2a3f5f"
            },
            "type": "carpet"
           }
          ],
          "choropleth": [
           {
            "colorbar": {
             "outlinewidth": 0,
             "ticks": ""
            },
            "type": "choropleth"
           }
          ],
          "contour": [
           {
            "colorbar": {
             "outlinewidth": 0,
             "ticks": ""
            },
            "colorscale": [
             [
              0,
              "#0d0887"
             ],
             [
              0.1111111111111111,
              "#46039f"
             ],
             [
              0.2222222222222222,
              "#7201a8"
             ],
             [
              0.3333333333333333,
              "#9c179e"
             ],
             [
              0.4444444444444444,
              "#bd3786"
             ],
             [
              0.5555555555555556,
              "#d8576b"
             ],
             [
              0.6666666666666666,
              "#ed7953"
             ],
             [
              0.7777777777777778,
              "#fb9f3a"
             ],
             [
              0.8888888888888888,
              "#fdca26"
             ],
             [
              1,
              "#f0f921"
             ]
            ],
            "type": "contour"
           }
          ],
          "contourcarpet": [
           {
            "colorbar": {
             "outlinewidth": 0,
             "ticks": ""
            },
            "type": "contourcarpet"
           }
          ],
          "heatmap": [
           {
            "colorbar": {
             "outlinewidth": 0,
             "ticks": ""
            },
            "colorscale": [
             [
              0,
              "#0d0887"
             ],
             [
              0.1111111111111111,
              "#46039f"
             ],
             [
              0.2222222222222222,
              "#7201a8"
             ],
             [
              0.3333333333333333,
              "#9c179e"
             ],
             [
              0.4444444444444444,
              "#bd3786"
             ],
             [
              0.5555555555555556,
              "#d8576b"
             ],
             [
              0.6666666666666666,
              "#ed7953"
             ],
             [
              0.7777777777777778,
              "#fb9f3a"
             ],
             [
              0.8888888888888888,
              "#fdca26"
             ],
             [
              1,
              "#f0f921"
             ]
            ],
            "type": "heatmap"
           }
          ],
          "heatmapgl": [
           {
            "colorbar": {
             "outlinewidth": 0,
             "ticks": ""
            },
            "colorscale": [
             [
              0,
              "#0d0887"
             ],
             [
              0.1111111111111111,
              "#46039f"
             ],
             [
              0.2222222222222222,
              "#7201a8"
             ],
             [
              0.3333333333333333,
              "#9c179e"
             ],
             [
              0.4444444444444444,
              "#bd3786"
             ],
             [
              0.5555555555555556,
              "#d8576b"
             ],
             [
              0.6666666666666666,
              "#ed7953"
             ],
             [
              0.7777777777777778,
              "#fb9f3a"
             ],
             [
              0.8888888888888888,
              "#fdca26"
             ],
             [
              1,
              "#f0f921"
             ]
            ],
            "type": "heatmapgl"
           }
          ],
          "histogram": [
           {
            "marker": {
             "pattern": {
              "fillmode": "overlay",
              "size": 10,
              "solidity": 0.2
             }
            },
            "type": "histogram"
           }
          ],
          "histogram2d": [
           {
            "colorbar": {
             "outlinewidth": 0,
             "ticks": ""
            },
            "colorscale": [
             [
              0,
              "#0d0887"
             ],
             [
              0.1111111111111111,
              "#46039f"
             ],
             [
              0.2222222222222222,
              "#7201a8"
             ],
             [
              0.3333333333333333,
              "#9c179e"
             ],
             [
              0.4444444444444444,
              "#bd3786"
             ],
             [
              0.5555555555555556,
              "#d8576b"
             ],
             [
              0.6666666666666666,
              "#ed7953"
             ],
             [
              0.7777777777777778,
              "#fb9f3a"
             ],
             [
              0.8888888888888888,
              "#fdca26"
             ],
             [
              1,
              "#f0f921"
             ]
            ],
            "type": "histogram2d"
           }
          ],
          "histogram2dcontour": [
           {
            "colorbar": {
             "outlinewidth": 0,
             "ticks": ""
            },
            "colorscale": [
             [
              0,
              "#0d0887"
             ],
             [
              0.1111111111111111,
              "#46039f"
             ],
             [
              0.2222222222222222,
              "#7201a8"
             ],
             [
              0.3333333333333333,
              "#9c179e"
             ],
             [
              0.4444444444444444,
              "#bd3786"
             ],
             [
              0.5555555555555556,
              "#d8576b"
             ],
             [
              0.6666666666666666,
              "#ed7953"
             ],
             [
              0.7777777777777778,
              "#fb9f3a"
             ],
             [
              0.8888888888888888,
              "#fdca26"
             ],
             [
              1,
              "#f0f921"
             ]
            ],
            "type": "histogram2dcontour"
           }
          ],
          "mesh3d": [
           {
            "colorbar": {
             "outlinewidth": 0,
             "ticks": ""
            },
            "type": "mesh3d"
           }
          ],
          "parcoords": [
           {
            "line": {
             "colorbar": {
              "outlinewidth": 0,
              "ticks": ""
             }
            },
            "type": "parcoords"
           }
          ],
          "pie": [
           {
            "automargin": true,
            "type": "pie"
           }
          ],
          "scatter": [
           {
            "fillpattern": {
             "fillmode": "overlay",
             "size": 10,
             "solidity": 0.2
            },
            "type": "scatter"
           }
          ],
          "scatter3d": [
           {
            "line": {
             "colorbar": {
              "outlinewidth": 0,
              "ticks": ""
             }
            },
            "marker": {
             "colorbar": {
              "outlinewidth": 0,
              "ticks": ""
             }
            },
            "type": "scatter3d"
           }
          ],
          "scattercarpet": [
           {
            "marker": {
             "colorbar": {
              "outlinewidth": 0,
              "ticks": ""
             }
            },
            "type": "scattercarpet"
           }
          ],
          "scattergeo": [
           {
            "marker": {
             "colorbar": {
              "outlinewidth": 0,
              "ticks": ""
             }
            },
            "type": "scattergeo"
           }
          ],
          "scattergl": [
           {
            "marker": {
             "colorbar": {
              "outlinewidth": 0,
              "ticks": ""
             }
            },
            "type": "scattergl"
           }
          ],
          "scattermapbox": [
           {
            "marker": {
             "colorbar": {
              "outlinewidth": 0,
              "ticks": ""
             }
            },
            "type": "scattermapbox"
           }
          ],
          "scatterpolar": [
           {
            "marker": {
             "colorbar": {
              "outlinewidth": 0,
              "ticks": ""
             }
            },
            "type": "scatterpolar"
           }
          ],
          "scatterpolargl": [
           {
            "marker": {
             "colorbar": {
              "outlinewidth": 0,
              "ticks": ""
             }
            },
            "type": "scatterpolargl"
           }
          ],
          "scatterternary": [
           {
            "marker": {
             "colorbar": {
              "outlinewidth": 0,
              "ticks": ""
             }
            },
            "type": "scatterternary"
           }
          ],
          "surface": [
           {
            "colorbar": {
             "outlinewidth": 0,
             "ticks": ""
            },
            "colorscale": [
             [
              0,
              "#0d0887"
             ],
             [
              0.1111111111111111,
              "#46039f"
             ],
             [
              0.2222222222222222,
              "#7201a8"
             ],
             [
              0.3333333333333333,
              "#9c179e"
             ],
             [
              0.4444444444444444,
              "#bd3786"
             ],
             [
              0.5555555555555556,
              "#d8576b"
             ],
             [
              0.6666666666666666,
              "#ed7953"
             ],
             [
              0.7777777777777778,
              "#fb9f3a"
             ],
             [
              0.8888888888888888,
              "#fdca26"
             ],
             [
              1,
              "#f0f921"
             ]
            ],
            "type": "surface"
           }
          ],
          "table": [
           {
            "cells": {
             "fill": {
              "color": "#EBF0F8"
             },
             "line": {
              "color": "white"
             }
            },
            "header": {
             "fill": {
              "color": "#C8D4E3"
             },
             "line": {
              "color": "white"
             }
            },
            "type": "table"
           }
          ]
         },
         "layout": {
          "annotationdefaults": {
           "arrowcolor": "#2a3f5f",
           "arrowhead": 0,
           "arrowwidth": 1
          },
          "autotypenumbers": "strict",
          "coloraxis": {
           "colorbar": {
            "outlinewidth": 0,
            "ticks": ""
           }
          },
          "colorscale": {
           "diverging": [
            [
             0,
             "#8e0152"
            ],
            [
             0.1,
             "#c51b7d"
            ],
            [
             0.2,
             "#de77ae"
            ],
            [
             0.3,
             "#f1b6da"
            ],
            [
             0.4,
             "#fde0ef"
            ],
            [
             0.5,
             "#f7f7f7"
            ],
            [
             0.6,
             "#e6f5d0"
            ],
            [
             0.7,
             "#b8e186"
            ],
            [
             0.8,
             "#7fbc41"
            ],
            [
             0.9,
             "#4d9221"
            ],
            [
             1,
             "#276419"
            ]
           ],
           "sequential": [
            [
             0,
             "#0d0887"
            ],
            [
             0.1111111111111111,
             "#46039f"
            ],
            [
             0.2222222222222222,
             "#7201a8"
            ],
            [
             0.3333333333333333,
             "#9c179e"
            ],
            [
             0.4444444444444444,
             "#bd3786"
            ],
            [
             0.5555555555555556,
             "#d8576b"
            ],
            [
             0.6666666666666666,
             "#ed7953"
            ],
            [
             0.7777777777777778,
             "#fb9f3a"
            ],
            [
             0.8888888888888888,
             "#fdca26"
            ],
            [
             1,
             "#f0f921"
            ]
           ],
           "sequentialminus": [
            [
             0,
             "#0d0887"
            ],
            [
             0.1111111111111111,
             "#46039f"
            ],
            [
             0.2222222222222222,
             "#7201a8"
            ],
            [
             0.3333333333333333,
             "#9c179e"
            ],
            [
             0.4444444444444444,
             "#bd3786"
            ],
            [
             0.5555555555555556,
             "#d8576b"
            ],
            [
             0.6666666666666666,
             "#ed7953"
            ],
            [
             0.7777777777777778,
             "#fb9f3a"
            ],
            [
             0.8888888888888888,
             "#fdca26"
            ],
            [
             1,
             "#f0f921"
            ]
           ]
          },
          "colorway": [
           "#636efa",
           "#EF553B",
           "#00cc96",
           "#ab63fa",
           "#FFA15A",
           "#19d3f3",
           "#FF6692",
           "#B6E880",
           "#FF97FF",
           "#FECB52"
          ],
          "font": {
           "color": "#2a3f5f"
          },
          "geo": {
           "bgcolor": "white",
           "lakecolor": "white",
           "landcolor": "#E5ECF6",
           "showlakes": true,
           "showland": true,
           "subunitcolor": "white"
          },
          "hoverlabel": {
           "align": "left"
          },
          "hovermode": "closest",
          "mapbox": {
           "style": "light"
          },
          "paper_bgcolor": "white",
          "plot_bgcolor": "#E5ECF6",
          "polar": {
           "angularaxis": {
            "gridcolor": "white",
            "linecolor": "white",
            "ticks": ""
           },
           "bgcolor": "#E5ECF6",
           "radialaxis": {
            "gridcolor": "white",
            "linecolor": "white",
            "ticks": ""
           }
          },
          "scene": {
           "xaxis": {
            "backgroundcolor": "#E5ECF6",
            "gridcolor": "white",
            "gridwidth": 2,
            "linecolor": "white",
            "showbackground": true,
            "ticks": "",
            "zerolinecolor": "white"
           },
           "yaxis": {
            "backgroundcolor": "#E5ECF6",
            "gridcolor": "white",
            "gridwidth": 2,
            "linecolor": "white",
            "showbackground": true,
            "ticks": "",
            "zerolinecolor": "white"
           },
           "zaxis": {
            "backgroundcolor": "#E5ECF6",
            "gridcolor": "white",
            "gridwidth": 2,
            "linecolor": "white",
            "showbackground": true,
            "ticks": "",
            "zerolinecolor": "white"
           }
          },
          "shapedefaults": {
           "line": {
            "color": "#2a3f5f"
           }
          },
          "ternary": {
           "aaxis": {
            "gridcolor": "white",
            "linecolor": "white",
            "ticks": ""
           },
           "baxis": {
            "gridcolor": "white",
            "linecolor": "white",
            "ticks": ""
           },
           "bgcolor": "#E5ECF6",
           "caxis": {
            "gridcolor": "white",
            "linecolor": "white",
            "ticks": ""
           }
          },
          "title": {
           "x": 0.05
          },
          "xaxis": {
           "automargin": true,
           "gridcolor": "white",
           "linecolor": "white",
           "ticks": "",
           "title": {
            "standoff": 15
           },
           "zerolinecolor": "white",
           "zerolinewidth": 2
          },
          "yaxis": {
           "automargin": true,
           "gridcolor": "white",
           "linecolor": "white",
           "ticks": "",
           "title": {
            "standoff": 15
           },
           "zerolinecolor": "white",
           "zerolinewidth": 2
          }
         }
        },
        "title": {
         "font": {
          "color": "#000000",
          "size": 28
         },
         "text": "<b>The artist has the most danceable song</b>"
        },
        "width": 1000
       }
      },
      "image/png": "[encoded data removed]",
      "text/html": [
       "<div>                            <div id=\"16d6e87a-5e05-4a8e-b3d9-df016a56185a\" class=\"plotly-graph-div\" style=\"height:150px; width:1000px;\"></div>            <script type=\"text/javascript\">                require([\"plotly\"], function(Plotly) {                    window.PLOTLYENV=window.PLOTLYENV || {};                                    if (document.getElementById(\"16d6e87a-5e05-4a8e-b3d9-df016a56185a\")) {                    Plotly.newPlot(                        \"16d6e87a-5e05-4a8e-b3d9-df016a56185a\",                        [{\"cells\":{\"align\":\"center\",\"fill\":{\"color\":\"#6ad1f7\"},\"font\":{\"color\":[\"#000000\",\"#000000\",\"#000000\"],\"size\":11},\"values\":[\"Louie Zong\",\"Tappy Toes\",0.743]},\"header\":{\"align\":\"center\",\"fill\":{\"color\":\"#7AA874\"},\"font\":{\"color\":[\"#000000\",\"#000000\",\"#000000\"],\"size\":15},\"values\":[\"<b>Artist Name</b>\",\"<b>Track Name</b>\",\"<b>Danceability</b>\"]},\"type\":\"table\"}],                        {\"template\":{\"data\":{\"histogram2dcontour\":[{\"type\":\"histogram2dcontour\",\"colorbar\":{\"outlinewidth\":0,\"ticks\":\"\"},\"colorscale\":[[0.0,\"#0d0887\"],[0.1111111111111111,\"#46039f\"],[0.2222222222222222,\"#7201a8\"],[0.3333333333333333,\"#9c179e\"],[0.4444444444444444,\"#bd3786\"],[0.5555555555555556,\"#d8576b\"],[0.6666666666666666,\"#ed7953\"],[0.7777777777777778,\"#fb9f3a\"],[0.8888888888888888,\"#fdca26\"],[1.0,\"#f0f921\"]]}],\"choropleth\":[{\"type\":\"choropleth\",\"colorbar\":{\"outlinewidth\":0,\"ticks\":\"\"}}],\"histogram2d\":[{\"type\":\"histogram2d\",\"colorbar\":{\"outlinewidth\":0,\"ticks\":\"\"},\"colorscale\":[[0.0,\"#0d0887\"],[0.1111111111111111,\"#46039f\"],[0.2222222222222222,\"#7201a8\"],[0.3333333333333333,\"#9c179e\"],[0.4444444444444444,\"#bd3786\"],[0.5555555555555556,\"#d8576b\"],[0.6666666666666666,\"#ed7953\"],[0.7777777777777778,\"#fb9f3a\"],[0.8888888888888888,\"#fdca26\"],[1.0,\"#f0f921\"]]}],\"heatmap\":[{\"type\":\"heatmap\",\"colorbar\":{\"outlinewidth\":0,\"ticks\":\"\"},\"colorscale\":[[0.0,\"#0d0887\"],[0.1111111111111111,\"#46039f\"],[0.2222222222222222,\"#7201a8\"],[0.3333333333333333,\"#9c179e\"],[0.4444444444444444,\"#bd3786\"],[0.5555555555555556,\"#d8576b\"],[0.6666666666666666,\"#ed7953\"],[0.7777777777777778,\"#fb9f3a\"],[0.8888888888888888,\"#fdca26\"],[1.0,\"#f0f921\"]]}],\"heatmapgl\":[{\"type\":\"heatmapgl\",\"colorbar\":{\"outlinewidth\":0,\"ticks\":\"\"},\"colorscale\":[[0.0,\"#0d0887\"],[0.1111111111111111,\"#46039f\"],[0.2222222222222222,\"#7201a8\"],[0.3333333333333333,\"#9c179e\"],[0.4444444444444444,\"#bd3786\"],[0.5555555555555556,\"#d8576b\"],[0.6666666666666666,\"#ed7953\"],[0.7777777777777778,\"#fb9f3a\"],[0.8888888888888888,\"#fdca26\"],[1.0,\"#f0f921\"]]}],\"contourcarpet\":[{\"type\":\"contourcarpet\",\"colorbar\":{\"outlinewidth\":0,\"ticks\":\"\"}}],\"contour\":[{\"type\":\"contour\",\"colorbar\":{\"outlinewidth\":0,\"ticks\":\"\"},\"colorscale\":[[0.0,\"#0d0887\"],[0.1111111111111111,\"#46039f\"],[0.2222222222222222,\"#7201a8\"],[0.3333333333333333,\"#9c179e\"],[0.4444444444444444,\"#bd3786\"],[0.5555555555555556,\"#d8576b\"],[0.6666666666666666,\"#ed7953\"],[0.7777777777777778,\"#fb9f3a\"],[0.8888888888888888,\"#fdca26\"],[1.0,\"#f0f921\"]]}],\"surface\":[{\"type\":\"surface\",\"colorbar\":{\"outlinewidth\":0,\"ticks\":\"\"},\"colorscale\":[[0.0,\"#0d0887\"],[0.1111111111111111,\"#46039f\"],[0.2222222222222222,\"#7201a8\"],[0.3333333333333333,\"#9c179e\"],[0.4444444444444444,\"#bd3786\"],[0.5555555555555556,\"#d8576b\"],[0.6666666666666666,\"#ed7953\"],[0.7777777777777778,\"#fb9f3a\"],[0.8888888888888888,\"#fdca26\"],[1.0,\"#f0f921\"]]}],\"mesh3d\":[{\"type\":\"mesh3d\",\"colorbar\":{\"outlinewidth\":0,\"ticks\":\"\"}}],\"scatter\":[{\"fillpattern\":{\"fillmode\":\"overlay\",\"size\":10,\"solidity\":0.2},\"type\":\"scatter\"}],\"parcoords\":[{\"type\":\"parcoords\",\"line\":{\"colorbar\":{\"outlinewidth\":0,\"ticks\":\"\"}}}],\"scatterpolargl\":[{\"type\":\"scatterpolargl\",\"marker\":{\"colorbar\":{\"outlinewidth\":0,\"ticks\":\"\"}}}],\"bar\":[{\"error_x\":{\"color\":\"#2a3f5f\"},\"error_y\":{\"color\":\"#2a3f5f\"},\"marker\":{\"line\":{\"color\":\"#E5ECF6\",\"width\":0.5},\"pattern\":{\"fillmode\":\"overlay\",\"size\":10,\"solidity\":0.2}},\"type\":\"bar\"}],\"scattergeo\":[{\"type\":\"scattergeo\",\"marker\":{\"colorbar\":{\"outlinewidth\":0,\"ticks\":\"\"}}}],\"scatterpolar\":[{\"type\":\"scatterpolar\",\"marker\":{\"colorbar\":{\"outlinewidth\":0,\"ticks\":\"\"}}}],\"histogram\":[{\"marker\":{\"pattern\":{\"fillmode\":\"overlay\",\"size\":10,\"solidity\":0.2}},\"type\":\"histogram\"}],\"scattergl\":[{\"type\":\"scattergl\",\"marker\":{\"colorbar\":{\"outlinewidth\":0,\"ticks\":\"\"}}}],\"scatter3d\":[{\"type\":\"scatter3d\",\"line\":{\"colorbar\":{\"outlinewidth\":0,\"ticks\":\"\"}},\"marker\":{\"colorbar\":{\"outlinewidth\":0,\"ticks\":\"\"}}}],\"scattermapbox\":[{\"type\":\"scattermapbox\",\"marker\":{\"colorbar\":{\"outlinewidth\":0,\"ticks\":\"\"}}}],\"scatterternary\":[{\"type\":\"scatterternary\",\"marker\":{\"colorbar\":{\"outlinewidth\":0,\"ticks\":\"\"}}}],\"scattercarpet\":[{\"type\":\"scattercarpet\",\"marker\":{\"colorbar\":{\"outlinewidth\":0,\"ticks\":\"\"}}}],\"carpet\":[{\"aaxis\":{\"endlinecolor\":\"#2a3f5f\",\"gridcolor\":\"white\",\"linecolor\":\"white\",\"minorgridcolor\":\"white\",\"startlinecolor\":\"#2a3f5f\"},\"baxis\":{\"endlinecolor\":\"#2a3f5f\",\"gridcolor\":\"white\",\"linecolor\":\"white\",\"minorgridcolor\":\"white\",\"startlinecolor\":\"#2a3f5f\"},\"type\":\"carpet\"}],\"table\":[{\"cells\":{\"fill\":{\"color\":\"#EBF0F8\"},\"line\":{\"color\":\"white\"}},\"header\":{\"fill\":{\"color\":\"#C8D4E3\"},\"line\":{\"color\":\"white\"}},\"type\":\"table\"}],\"barpolar\":[{\"marker\":{\"line\":{\"color\":\"#E5ECF6\",\"width\":0.5},\"pattern\":{\"fillmode\":\"overlay\",\"size\":10,\"solidity\":0.2}},\"type\":\"barpolar\"}],\"pie\":[{\"automargin\":true,\"type\":\"pie\"}]},\"layout\":{\"autotypenumbers\":\"strict\",\"colorway\":[\"#636efa\",\"#EF553B\",\"#00cc96\",\"#ab63fa\",\"#FFA15A\",\"#19d3f3\",\"#FF6692\",\"#B6E880\",\"#FF97FF\",\"#FECB52\"],\"font\":{\"color\":\"#2a3f5f\"},\"hovermode\":\"closest\",\"hoverlabel\":{\"align\":\"left\"},\"paper_bgcolor\":\"white\",\"plot_bgcolor\":\"#E5ECF6\",\"polar\":{\"bgcolor\":\"#E5ECF6\",\"angularaxis\":{\"gridcolor\":\"white\",\"linecolor\":\"white\",\"ticks\":\"\"},\"radialaxis\":{\"gridcolor\":\"white\",\"linecolor\":\"white\",\"ticks\":\"\"}},\"ternary\":{\"bgcolor\":\"#E5ECF6\",\"aaxis\":{\"gridcolor\":\"white\",\"linecolor\":\"white\",\"ticks\":\"\"},\"baxis\":{\"gridcolor\":\"white\",\"linecolor\":\"white\",\"ticks\":\"\"},\"caxis\":{\"gridcolor\":\"white\",\"linecolor\":\"white\",\"ticks\":\"\"}},\"coloraxis\":{\"colorbar\":{\"outlinewidth\":0,\"ticks\":\"\"}},\"colorscale\":{\"sequential\":[[0.0,\"#0d0887\"],[0.1111111111111111,\"#46039f\"],[0.2222222222222222,\"#7201a8\"],[0.3333333333333333,\"#9c179e\"],[0.4444444444444444,\"#bd3786\"],[0.5555555555555556,\"#d8576b\"],[0.6666666666666666,\"#ed7953\"],[0.7777777777777778,\"#fb9f3a\"],[0.8888888888888888,\"#fdca26\"],[1.0,\"#f0f921\"]],\"sequentialminus\":[[0.0,\"#0d0887\"],[0.1111111111111111,\"#46039f\"],[0.2222222222222222,\"#7201a8\"],[0.3333333333333333,\"#9c179e\"],[0.4444444444444444,\"#bd3786\"],[0.5555555555555556,\"#d8576b\"],[0.6666666666666666,\"#ed7953\"],[0.7777777777777778,\"#fb9f3a\"],[0.8888888888888888,\"#fdca26\"],[1.0,\"#f0f921\"]],\"diverging\":[[0,\"#8e0152\"],[0.1,\"#c51b7d\"],[0.2,\"#de77ae\"],[0.3,\"#f1b6da\"],[0.4,\"#fde0ef\"],[0.5,\"#f7f7f7\"],[0.6,\"#e6f5d0\"],[0.7,\"#b8e186\"],[0.8,\"#7fbc41\"],[0.9,\"#4d9221\"],[1,\"#276419\"]]},\"xaxis\":{\"gridcolor\":\"white\",\"linecolor\":\"white\",\"ticks\":\"\",\"title\":{\"standoff\":15},\"zerolinecolor\":\"white\",\"automargin\":true,\"zerolinewidth\":2},\"yaxis\":{\"gridcolor\":\"white\",\"linecolor\":\"white\",\"ticks\":\"\",\"title\":{\"standoff\":15},\"zerolinecolor\":\"white\",\"automargin\":true,\"zerolinewidth\":2},\"scene\":{\"xaxis\":{\"backgroundcolor\":\"#E5ECF6\",\"gridcolor\":\"white\",\"linecolor\":\"white\",\"showbackground\":true,\"ticks\":\"\",\"zerolinecolor\":\"white\",\"gridwidth\":2},\"yaxis\":{\"backgroundcolor\":\"#E5ECF6\",\"gridcolor\":\"white\",\"linecolor\":\"white\",\"showbackground\":true,\"ticks\":\"\",\"zerolinecolor\":\"white\",\"gridwidth\":2},\"zaxis\":{\"backgroundcolor\":\"#E5ECF6\",\"gridcolor\":\"white\",\"linecolor\":\"white\",\"showbackground\":true,\"ticks\":\"\",\"zerolinecolor\":\"white\",\"gridwidth\":2}},\"shapedefaults\":{\"line\":{\"color\":\"#2a3f5f\"}},\"annotationdefaults\":{\"arrowcolor\":\"#2a3f5f\",\"arrowhead\":0,\"arrowwidth\":1},\"geo\":{\"bgcolor\":\"white\",\"landcolor\":\"#E5ECF6\",\"subunitcolor\":\"white\",\"showland\":true,\"showlakes\":true,\"lakecolor\":\"white\"},\"title\":{\"x\":0.05},\"mapbox\":{\"style\":\"light\"}}},\"title\":{\"font\":{\"size\":28,\"color\":\"#000000\"},\"text\":\"<b>The artist has the most danceable song</b>\"},\"margin\":{\"l\":20,\"r\":20,\"t\":40,\"b\":20},\"width\":1000,\"height\":150},                        {\"responsive\": true}                    ).then(function(){\n",
       "                            \n",
       "var gd = document.getElementById('16d6e87a-5e05-4a8e-b3d9-df016a56185a');\n",
       "var x = new MutationObserver(function (mutations, observer) {{\n",
       "        var display = window.getComputedStyle(gd).display;\n",
       "        if (!display || display === 'none') {{\n",
       "            console.log([gd, 'removed!']);\n",
       "            Plotly.purge(gd);\n",
       "            observer.disconnect();\n",
       "        }}\n",
       "}});\n",
       "\n",
       "// Listen for the removal of the full notebook cells\n",
       "var notebookContainer = gd.closest('#notebook-container');\n",
       "if (notebookContainer) {{\n",
       "    x.observe(notebookContainer, {childList: true});\n",
       "}}\n",
       "\n",
       "// Listen for the clearing of the current output cell\n",
       "var outputEl = gd.closest('.output');\n",
       "if (outputEl) {{\n",
       "    x.observe(outputEl, {childList: true});\n",
       "}}\n",
       "\n",
       "                        })                };                });            </script>        </div>"
      ]
     },
     "metadata": {},
     "output_type": "display_data"
    }
   ],
   "source": [
    "sorted_df_by_danceability = filtered_df.sort_values(by = 'danceability', ascending = False)\n",
    "\n",
    "top_5_artists = [name.title().replace('_', ' ') for name in sorted_df_by_danceability['artist_name'][0:5].to_list()]\n",
    "top_5_tracks = [name.title().replace('_', ' ') for name in sorted_df_by_danceability['track_name'][0:5].to_list()]\n",
    "\n",
    "table = go.Figure(data = [go.Table(\n",
    "    \n",
    "    header = dict(values = ['<b>Artist Name</b>', '<b>Track Name</b>', '<b>Danceability</b>'],\n",
    "                  fill_color = '#7AA874',\n",
    "                  font = dict(\n",
    "                  \n",
    "                      color = ['#000000', '#000000', '#000000'],\n",
    "                      size = 15\n",
    "                  \n",
    "                  ),\n",
    "                  align = 'center'),\n",
    "    \n",
    "    cells = dict(values = [top_5_artists[0], top_5_tracks[0], sorted_df_by_danceability['danceability'][0]],\n",
    "                           fill_color = '#6ad1f7',\n",
    "                           font = dict(\n",
    "                  \n",
    "                           color = ['#000000', '#000000', '#000000'],\n",
    "                           size = 11\n",
    "                  \n",
    "                           ),\n",
    "                           align = 'center'))\n",
    "])\n",
    "\n",
    "table.update_layout(\n",
    "    \n",
    "    title = {\n",
    "        \n",
    "        'text' : '<b>The artist has the most danceable song</b>',\n",
    "        'font' : {     \n",
    "            'size' : 28,\n",
    "            'color' : '#000000',\n",
    "        }\n",
    "        \n",
    "    },\n",
    "    width = 1000,\n",
    "    height = 150,\n",
    "    margin = dict(l = 20, r = 20, t = 40, b = 20)\n",
    "\n",
    ")\n",
    "\n",
    "table.show()"
   ]
  },
  {
   "cell_type": "code",
   "execution_count": null,
   "id": "61a712fc-c0c2-4c0b-a461-c0ece55c9ee2",
   "metadata": {},
   "outputs": [],
   "source": []
  },
  {
   "cell_type": "code",
   "execution_count": null,
   "id": "2c8f02a3-2e8c-4491-b62d-077d25b5a20c",
   "metadata": {},
   "outputs": [],
   "source": []
  },
  {
   "cell_type": "code",
   "execution_count": null,
   "id": "e98866ea-3550-42f9-bccb-6fbf724a3699",
   "metadata": {},
   "outputs": [],
   "source": []
  },
  {
   "cell_type": "code",
   "execution_count": null,
   "id": "4421999d-90b4-47cf-86f6-b6bdc1168a4d",
   "metadata": {},
   "outputs": [],
   "source": []
  },
  {
   "cell_type": "code",
   "execution_count": null,
   "id": "edbb3e84-dec4-4897-b2d4-05bd937d48f7",
   "metadata": {},
   "outputs": [],
   "source": []
  }
 ],
 "metadata": {
  "kernelspec": {
   "display_name": "Python 3",
   "language": "python",
   "name": "python3"
  },
  "language_info": {
   "codemirror_mode": {
    "name": "ipython",
    "version": 3
   },
   "file_extension": ".py",
   "mimetype": "text/x-python",
   "name": "python",
   "nbconvert_exporter": "python",
   "pygments_lexer": "ipython3",
   "version": "3.8.8"
  }
 },
 "nbformat": 4,
 "nbformat_minor": 5
}
